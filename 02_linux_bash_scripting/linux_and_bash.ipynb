{
 "cells": [
  {
   "cell_type": "markdown",
   "metadata": {
    "slideshow": {
     "slide_type": "slide"
    }
   },
   "source": [
    "# To get started, let's spend a few  minutes reviewing the tools we'll be using \n",
    "* Amazon Workspaces \n",
    " * You will be using a Linux Workstation in the cloud for this course. \n",
    " * Start up your workstation now.  Most of the software we will be using in this course will already be installed. However, we will be installing some software ourselves as part of this training. \n",
    "\n"
   ]
  },
  {
   "cell_type": "markdown",
   "metadata": {
    "slideshow": {
     "slide_type": "slide"
    }
   },
   "source": [
    "## Jupyter Notebooks\n",
    "* Jupyter is a web-based tool for combining text, images, and code in an editable, easy to use format\n",
    " * https://jupyter.org/\n",
    " * all of the courseware is in Jupyter Notebooks\n",
    " * Why?\n",
    "   - Easy and dare I say fun way to get and take notes \n",
    "   - You'll get get own copy of the courseware which you can annotate with your own notes while taking the class!\n",
    "   - You'll get a copy of all the \"whiteboard\" or scratch work we do\n",
    "   - You get to learn MarkDown https://www.markdownguide.org/basic-syntax/\n",
    "* first install Python 3\n",
    " * __`sudo yum install python3`__\n",
    "* next, install Jupyter\n",
    " * __`sudo python3 -m pip install --upgrade pip`__\n",
    " * __`sudo python3 -m pip install jupyter`__"
   ]
  },
  {
   "cell_type": "markdown",
   "metadata": {
    "slideshow": {
     "slide_type": "slide"
    }
   },
   "source": [
    "## How to launch Jupyter\n",
    "\n",
    "- open a terminal \n",
    "- __`cd`__ to the directory where you checked out the course content \n",
    "- type \n",
    "__`jupyter notebook`__\n",
    "- paste into a web browser the URL displayed, which will look something like this:\n",
    "<br> __`http://localhost:8888/token=2061805b89105cfc55ebac688671dc13dbdd0eac0efe11c0`__\n",
    "- (...but it'll probably open up automatically)"
   ]
  },
  {
   "cell_type": "markdown",
   "metadata": {
    "slideshow": {
     "slide_type": "slide"
    }
   },
   "source": [
    "## How to get around in Jupyter\n",
    "* Each place for you to enter text is called a _cell_\n",
    "* Usually you enter __`Python`__ (or some other programming language) code, but you can also enter text in a _markup_ language called __`Markdown`__ (that's what's going on in _this_ cell)\n",
    "* To \"run\" the code in the cell, hit __Shift-Return__ (i.e., hold down __Shift__ key, then hit __Return__)\n",
    "* Try it with the cell below..."
   ]
  },
  {
   "cell_type": "code",
   "execution_count": null,
   "metadata": {},
   "outputs": [],
   "source": [
    "print(2 + 2)"
   ]
  },
  {
   "cell_type": "markdown",
   "metadata": {},
   "source": [
    "Notes on Jupyter\n",
    "* Note 1\n",
    "* Note 2\n",
    "* Note 3"
   ]
  },
  {
   "cell_type": "markdown",
   "metadata": {
    "slideshow": {
     "slide_type": "slide"
    }
   },
   "source": [
    "* the __Insert__ menu will allow you to add a cell above or below the current cell\n",
    "* the __Kernel__ menu will allow you to \"talk\" to the Python interpreter on your machine\n",
    "  * (when you type into a cell, you are \"talking\" to the web browser, and the web browser sends the text to the __`Python`__ interpreter to be \"run\")\n",
    "* as the class progresses I'll introduce a few more features \n",
    "  "
   ]
  },
  {
   "cell_type": "markdown",
   "metadata": {
    "slideshow": {
     "slide_type": "slide"
    }
   },
   "source": [
    " ## Some info on MarkDown\n",
    "<UL>\n",
    "    <LI><A href=\"https://www.markdownguide.org/basic-syntax/\">https://www.markdownguide.org/basic-syntax</A>\n",
    "        <LI><A href=\"https://github.com/adam-p/markdown-here/wiki/Markdown-Cheatsheet\">https://github.com/adam-p/markdown-here/wiki/Markdown-Cheatsheet</A>\n",
    "</UL>"
   ]
  },
  {
   "cell_type": "markdown",
   "metadata": {
    "slideshow": {
     "slide_type": "slide"
    }
   },
   "source": [
    "## Git  \n",
    "* Git is a way to share files, documents, code, and so on\n",
    "* We will be learning and using Git simultaneously! \n",
    "* We will also be using BitBucket which is a nice UI that sits on top of Git\n",
    "* All the course content, in Jupyter Notebook format, is stored in a git repo which I will show you now. \n",
    "* Now, we will pause, and learn how to do git _fork_ and _clone_. \n",
    "---\n",
    "![alt_text](./images/git.png)\n"
   ]
  },
  {
   "cell_type": "markdown",
   "metadata": {
    "slideshow": {
     "slide_type": "slide"
    }
   },
   "source": [
    "## BitBucket\n",
    "* What is a repostory (repo) \n",
    "* Let's create one now.\n",
    "    - go to https://bitbucket.org and create a free account \n",
    "* How do you access a repo\n",
    "* How do you create a repo in BitBucket? \n",
    "    - __`git clone`__\n",
    "    - __Create a Fork, then clone__\n",
    "* How to get a copy of the class notes onto your Workspace machine\n",
    " * __Navigate to `https://bitbucket.org/jrrickerson/`__\n",
    " * __Click on the repository with your Cohort number__\n",
    " * __Find the `+` Symbol on the left-side menu__\n",
    " * __Select `Fork this repository`__ (this may take a minute)\n",
    " * __Click the `Clone` button and copy the command into a terminal window__\n",
    " * __`git clone https://bitbucket.org/<your username>/<repo name>.git`__\n"
   ]
  },
  {
   "cell_type": "markdown",
   "metadata": {
    "slideshow": {
     "slide_type": "slide"
    }
   },
   "source": [
    "# MarkDown \n",
    "#### https://www.markdownguide.org/basic-syntax/\n",
    "* Markdown is a lightweight markup language with plain text formatting syntax\n",
    "* Its design allows it to be converted to many output formats, but the original tool by the same name only supports HTML\n",
    "* Markdown is often used to format README files, for writing messages in online discussion forums, and to create rich text using a plain text editor. ref: https://en.wikipedia.org/wiki/Markdown"
   ]
  },
  {
   "cell_type": "markdown",
   "metadata": {
    "slideshow": {
     "slide_type": "slide"
    }
   },
   "source": [
    "## Lab: Let's spend a few minutes playing with MarkDown and Jupyter Notebooks \n",
    "- create a code cell\n",
    "    - type print(\"hello world\") and press shift + return \n",
    "- create Markdown cell \n",
    "    - create a simple outline "
   ]
  },
  {
   "cell_type": "markdown",
   "metadata": {
    "slideshow": {
     "slide_type": "slide"
    }
   },
   "source": [
    "# Introduction\n",
    "\n",
    "At the heart of DevOps is the desire to breakdown communication barriers and get all the members of a software development organization focused on the same goal: delivering great software as fast as possible. \n",
    "\n",
    "## Course Outline \n",
    "### Four four-week sessions \n",
    "####  Session One: Concepts, Some Tools, Linux and Python\n",
    "    - DevOps concepts\n",
    "    - Intro to Git\n",
    "    - Computer Architecture\n",
    "    - The Linux Operating System\n",
    "    - Linux Command Line / Bash Scripting\n",
    "    - Intro to Programming with Python\n",
    "####  Session Two: Python and CI/CD Pipelines\n",
    "    - Python Review\n",
    "    - Test-Driven Development and Test Tools\n",
    "    - Mastering Git / Bitbucket\n",
    "    - Ansible\n",
    "    - CI / CD - Jenkins and Bamboo\n",
    "#### Session Three: DevOps tools \n",
    "    - Containerization/Docker\n",
    "    - Kubernetes\n",
    "    - AWS\n",
    "####  Session Four: Monitoring and Reporting // Capstone project \n",
    "    - Introduction \n",
    "    - Common tools \n",
    "    - Final project\n",
    "    \n",
    "    "
   ]
  },
  {
   "cell_type": "markdown",
   "metadata": {
    "slideshow": {
     "slide_type": "slide"
    }
   },
   "source": [
    "# Let's step back a bit and review "
   ]
  },
  {
   "cell_type": "markdown",
   "metadata": {
    "slideshow": {
     "slide_type": "slide"
    }
   },
   "source": [
    "## Basics of Computer Architecture\n"
   ]
  },
  {
   "cell_type": "markdown",
   "metadata": {
    "slideshow": {
     "slide_type": "slide"
    }
   },
   "source": [
    "## Bits, Bytes, and Binary\n",
    "* a _bit_ (\"binary digit\") is the basic unit of information in computing (and digital communications)\n",
    "* a bit can have only one of two values, 0 or 1\n",
    "* the two values can also be interpreted as logical values (true/false, yes/no), etc.\n",
    "* a _byte_ is 8 bits, which you can think of a single character on the US keyboard\n",
    "![alt text diagram of byte](./images/byte.png)\n",
    "\n"
   ]
  },
  {
   "cell_type": "markdown",
   "metadata": {
    "slideshow": {
     "slide_type": "slide"
    }
   },
   "source": [
    "## Basics of Computer Architecture\n",
    "* in simplest terms, a computer consists of a __CPU__ (Central Processing Unit, or \"brain\") and memory\n",
    "* the job of the CPU is to _execute_ (or \"run\") instructions (or \"code\")\n",
    "* there are two types of instructions:\n",
    "  * those that transfer data from memory to the CPU (_load_) or vice versa (_store_)\n",
    "  * those that operate on data stored in the CPU (e.g., arithmetic operations such as addition or subtraction, or branching)\n",
    "* the CPU has a _clock speed_, which is the speed at which the CPU's internal clock _pulses_, i.e., the speed at which the CPU can do work\n",
    "  * e.g., 2.9 GHz (Gigahertz) = 2.9 billion cycles per second\n",
    "  * think of the clock speed as a drumbeat which signals when the next instruction can execute\n",
    "\n"
   ]
  },
  {
   "cell_type": "markdown",
   "metadata": {
    "slideshow": {
     "slide_type": "slide"
    }
   },
   "source": [
    "## Block Diagram of a Simple CPU\n",
    "\n",
    "![alt text](./images/block.png)\n",
    "* the ALU (arithmetic logic unit) handles operations on integers (whole numbers)\n",
    "* the FPU (floating point unit or \"math coprocessor\") handles operations on floating point (fractional) numbers\n",
    "* registers are memory \"slots\" in the CPU which hold data that the ALU or FPU manipulates"
   ]
  },
  {
   "cell_type": "markdown",
   "metadata": {
    "slideshow": {
     "slide_type": "slide"
    }
   },
   "source": [
    "## Types of Computer Memory\n",
    "\n",
    "![alt text](./images/computer-memory-pyramid.gif)\n",
    "\n",
    "* RAM = Random Access Memory\n",
    "  * \"short term\" memory\n",
    "  * stuff is stored in RAM while power is applied (i.e., computer is on)\n",
    "* secondary storage - hard drives, USB drives, flash drives, etc.\n",
    "  * \"long term\" memory\n",
    "  * data persists even when power is off\n",
    "* virtual memory\n",
    "  * a software trick which enables the computer to seem like it has more memory than it actually has\n",
    "  * unused blocks of memory are moved to the hard drive or other secondary storage device\n",
    "* cache\n",
    "  * super-fast memory inside the CPU used to keep data close by so the CPU doesn't have to continually move data in and out (cf. a web browser cache which holds images so that the next time you visit a website the browser doesn't have to download the image from the site, it can just grab it from the cache)"
   ]
  },
  {
   "cell_type": "markdown",
   "metadata": {},
   "source": [
    "## How an Application is Run\n",
    "* The application (e.g., Microsoft Word) is stored on your hard drive or other secondary storage\n",
    "* When you double click on an application, the operating system (OS X, Windows, etc.) loads the application (or a portion of it) into RAM (details are OS-specific and not important for our discussion)\n",
    "* An executable application such as Microsoft Word is a series of _instructions_ in a language that the CPU can understand (\"assembly language\" or \"machine language\")\n",
    "* The instructions are decoded and executed by the CPU\n",
    "* Note that modern computers (such as our laptops) have CPUs which are multi-core\n",
    "  * This means that the CPU itself has 2 or more _cores_, or processing units\n",
    "  * In other words, if your laptop has a dual-core CPU, it can run 2 things at once\n",
    "  * Of course, we are used to \"running\" many more applications simultaneously (e.g., web browser, mail client, Word, iTunes, etc.) but that is just an illusion–the operating system is _multi-tasking_ by running each \"runnable\" _process_ for a little while and then switching to the next one\n",
    "  * It does this fast enough that it appears that they are running simultaneously"
   ]
  },
  {
   "cell_type": "markdown",
   "metadata": {},
   "source": [
    "## What is Computer Programming?\n",
    "* _Programming_ (or \"coding\") is a process that begins with the formulation of a (computing) problem and ends with the creation of an executable computer program\n",
    "* A (computer) _program_ is a set of statements or instructions that tells the computer what to do\n",
    "* In order to write a program, programmers often begin with an algorithm...\n",
    "\n",
    "\n"
   ]
  },
  {
   "cell_type": "markdown",
   "metadata": {},
   "source": [
    "## What's an Algorithm?\n",
    "* An _algorithm_ is a process or set of rules to be followed in calculations or other problem-solving operations (usually, but not always by a computer)\n",
    "* For example, an algorithm for converting Fahrenheit temperatures into Celsius looks like this:\n",
    "  1. Subtract 32 from the Fahrenheit temperature\n",
    "  2. Multiply the result by 5/9\n",
    "* An algorithm for washing your hair...\n",
    "  1. Lather\n",
    "  2. Rinse\n",
    "  3. Repeat\n",
    "* An algorithm for getting a ping-pong ball out of a deep hole with a small diameter...\n",
    "  1. Fill the hole with water\n",
    "* In other words, an algorithm is like a recipe, listing each of the steps required to solve the problem"
   ]
  },
  {
   "cell_type": "markdown",
   "metadata": {},
   "source": [
    "## Before coding or scripting anything start by writing down the algorithm."
   ]
  },
  {
   "cell_type": "markdown",
   "metadata": {},
   "source": [
    "## What's Pseudocode?\n",
    "* a notation resembling a simplified programming language, often like a mixture of English and programming language constructs\n",
    "* often used to write down an algorithm in order to translate it into code\n",
    "* we will write pseudocode before we write our programs"
   ]
  },
  {
   "cell_type": "markdown",
   "metadata": {},
   "source": [
    "## Lab: How do you make a Peanut Butter and Jelly Sandwich?"
   ]
  },
  {
   "cell_type": "markdown",
   "metadata": {},
   "source": [
    "## Debugging\n",
    "* the process of finding and fixing errors (typically called \"bugs\")\n",
    "* popularized by Grace Hopper, Ph.D., a Navy rear admiral and one of the first computer programmers\n",
    "* posthumously awarded the Presidential Medal of Freedom in 2016\n",
    "* https://en.wikipedia.org/wiki/Grace_Hopper\n",
    "\n"
   ]
  },
  {
   "cell_type": "markdown",
   "metadata": {},
   "source": [
    "![alt text](./images/H96566k.jpg)"
   ]
  },
  {
   "cell_type": "markdown",
   "metadata": {},
   "source": [
    "## How Do Computers Understand Programming Languages?\n",
    "* the short answer is–\"they don't\"\n",
    "* programs we write in just about every programming language are either\n",
    "  * __translated__ into _machine language_ (the numeric equivalent of assembly language) or an intermediate language called _bytecode_\n",
    "    * this process is called _compilation_\n",
    "    * the tool which performs the compilation is called a _compiler_\n",
    "    * the language is referred to as a _compiled language_ (e.g., C/C++, Fortran)\n",
    "    * we can see the compilation process in action at http://godbolt.org/\n",
    "  * __interpreted__ by a program called an _interpreter_\n",
    "    * __`bash`__, which you may be familiar with, is an interpreted language\n",
    "  * __transpiled__ into another language (and then compiled or interpreted)\n",
    "    * e.g., CoffeeScript => JavaScript (and others), Eiffel => C++\n",
    "  "
   ]
  },
  {
   "cell_type": "markdown",
   "metadata": {},
   "source": [
    "# Developing Software\n",
    "### In a few \"easy\" steps...\n",
    "- Gather (some) requirements including a problem statement (project manager / developers / end users)\n",
    "- Write and test code (coding and unit test) \n",
    "- Code review \n",
    "- Test all the functions of the application making sure the problem statement is satisfied. (acceptance test) \n",
    "- Make sure the application performs as expected in edget cases (capcity testing) \n",
    "- Deploy the software"
   ]
  },
  {
   "cell_type": "markdown",
   "metadata": {},
   "source": [
    "# Introduction to Linux\n",
    "- What is an operating system\n",
    "\n",
    "- Linux (and also Unix) \n",
    "\n",
    "Linux has been around since the early 1990s. However, its Unix roots have been around since the 1960s. Linux (and Unix) has evolved into a vibrant ecosystem whose primarily characteristics have not changed. \n",
    "\n",
    "At its core, the pattern is simple: provide single purpose tools that do their one thing exceptionally well, and then take these tools and chain them together perform most of the tasks you can imagine needing to do. \n",
    "\n",
    "It is clear philosophy and pattern, and it may even sound simple, and it is until you consider the number of commands available, and the myriad of options they have coupled with all the possible ways they can interoperate.\n",
    "\n",
    " The result is a system that is at once both relatively easy to use, but also so multi-faceted that it can take many years to master fully. \n",
    "\n",
    "It has been my experience that many users learn what they need to do to accomplish a task and then build on knowledge when they need to solve a new task.  All the while, adding their favorite programs and approaches to their personalized toolbox. However, there always remains parts of the system to discover.  Moreover, there almost always different ways to solve the same problem with none of them being necessarily better or worse. \n",
    "\n",
    "The result is that even users who have years of experience using Linux or Unix (like myself) can be pleasantly (or last least amusingly) surprised by learning about a previously unknown (to them) option to a command or even a command itself.  It keeps it fresh, always leaving from to learn more, improve your technique, and hone your craft, much like any more traditional artisan. \n",
    "\n",
    "It is easy to feel foolish or inadequate when you learn that there is a better approach to solving a problem, and if you left yourself, this could often happen as you master Linux. Instead treat it like a journey, an adventure."
   ]
  },
  {
   "cell_type": "markdown",
   "metadata": {},
   "source": [
    "## Brief History\n",
    "- originally Unix, developed at AT&T Bell Labs in 1969, first released in 1971, and rewritten in C in 1973\n",
    "- due to an antitrust case, AT&T was forbidden from selling the software, and required to license it to anyone who asked\n",
    "- UC Berkeley had their own distribution (BSD) from 1977 onwards\n",
    "- AT&T divested from Bell Labs in 1984 and was able to sell Unix\n",
    "- Linux developed in 1991 by Linus Torvalds"
   ]
  },
  {
   "cell_type": "markdown",
   "metadata": {},
   "source": [
    "## What is Linux vs UNIX\n",
    "- free as in beer\n",
    "- Kernel\n",
    "- GNU tools\n",
    "    - No GNU no Linux\n",
    "        - but there's a clash of ideologies "
   ]
  },
  {
   "cell_type": "markdown",
   "metadata": {},
   "source": [
    "## Software licenses\n",
    "- what is free software\n",
    "    - GPL\n",
    "- what is open source\n",
    "    - MIT License\n",
    "    - Apache License"
   ]
  },
  {
   "cell_type": "markdown",
   "metadata": {},
   "source": [
    "## Flavors with an overview of differences\n",
    "- Sometimes called \"Distributions\" or \"Distros\"\n",
    "- Red Hat\n",
    "- Centos\n",
    "- Debian\n",
    "- Ubuntu\n",
    "- and many, many more: https://upload.wikimedia.org/wikipedia/commons/1/1b/Linux_Distribution_Timeline.svg"
   ]
  },
  {
   "cell_type": "markdown",
   "metadata": {},
   "source": [
    "## Lab: Explore the Linux timeline\n",
    "Examine the timeline of Linux distros above\n",
    "- Which distro of Linux was the popular Ubuntu distro created from?\n",
    "- Which 3 distros seem to have created the most new distros?\n",
    "- In what year did the security-oriented Kali Linux appear?"
   ]
  },
  {
   "cell_type": "markdown",
   "metadata": {},
   "source": [
    "## Linux OS layers\n",
    "- Kernel\n",
    "    - Schedules processes\n",
    "    - Manages memory\n",
    "    - Allows hardware access\n",
    "- Kernel modules\n",
    "    - Video / graphics\n",
    "    - Filesystems\n",
    "    - Network adapters\n",
    "    - Audio\n",
    "- Shells\n",
    "    - Interactive command line\n",
    "    - Primary interface to Linux tools\n",
    "- XWindows\n",
    "    - GUI interface system\n",
    "    - Provides core functionality\n",
    "- Window Managers\n",
    "    - \"Style\" of window controls and apps\n",
    "    - GNOME is more \"Mac-like\"\n",
    "    - KDE is more \"Windows-like\"\n",
    "    - Many other options depending on your needs\n",
    "    - No need to stick to just one!\n"
   ]
  },
  {
   "cell_type": "markdown",
   "metadata": {},
   "source": [
    "## Linux Tools and Commands \n",
    "- **The Terminal**\n",
    "A program that runs a shell i.e. provides a command line \n",
    "\t- **command line/shell** The shell is program that accepts commands and runs them either by passing them to the operating system, or by executing them as \"built-ins\" command interpreter / scripting language\n",
    "\n",
    "- **sh** (Bourne shell) developed by Stephen Bourne at Bell Labs in 1977\n",
    "- **csh** (C shell) developed by Bill Joy at UC Berkeley in 1978\n",
    "- **tcsh** (TENEX shell) introduced in 1983, it's what Linux distributions typically call csh\n",
    "- **bash** written by Brian Fox\n",
    " - much improved version of bash, introduced in 1989 it's what Linux distributions typically call __`sh`__"
   ]
  },
  {
   "cell_type": "markdown",
   "metadata": {},
   "source": [
    "## Some commands to get started \n",
    "- __`date`__ - get the date and time\n",
    "- __`who`__ - who is logged in to my machine?\n",
    "- __`echo`__ - prints output to the screen\n",
    "   - __`echo hello`__ (we'll see more complicated uses soon)\n",
    "- __`man`__ - get the Linux manual entry (\"man page\") for a command\n",
    "- __`passwd`__ - change your password (or manage user's passwords)"
   ]
  },
  {
   "cell_type": "markdown",
   "metadata": {},
   "source": [
    "## Shell builtins vs. standalone commands\n",
    "\n",
    "When you type in the name of a command to bash, that command is often a standalone program which is run by bash\n",
    "but bash has a number of builtin commands which are not separate programs.\n",
    "\n",
    "You can use the shell builtin type to determine the type of a command, either builtin or external\n",
    "\n",
    "Use the ```type``` command do this. \n",
    "\n",
    "![alt_text](./images/type.png)\n",
    "    \n",
    "You can use the command ```which``` to find the full path of an external command\n",
    "but it doesn't tell you anything about shell builtins, so you're better off using ```type```\n",
    "\n",
    "![alt_text](./images/which.png)\n",
    " \n"
   ]
  },
  {
   "cell_type": "markdown",
   "metadata": {},
   "source": [
    "## 411\n",
    "- __`man`__ - get the Linux manual entry (\"man page\") for a standalone command has been superseded by \n",
    "   - __`info`__, but because man still exists, many people (myself included) still use it\n",
    "     - (In fact, I didn't even know about __`info`__ until I was preparing these notes but don't tell anyone that–thanks.)\n",
    "- __`help`__ - for getting information about bash builtins (doesn't work for standalone commands–try it)\n",
    "\n",
    "\n"
   ]
  },
  {
   "cell_type": "markdown",
   "metadata": {},
   "source": [
    "## Lab: Basic commands\n",
    "* try the commands we've learned so far: __`date`__, __`cal`__, __`passwd`__, __`echo`__, __`man`__, __`type`__\n",
    "\n",
    "- Use __`touch`__ to create a file \n",
    "- Use __`mv`__ to rename the file you created. \n",
    "- Use __`top`__ to see what processes are running on your computer (use __`q`__ to exit)\n",
    "- What happens if you mistype the name of a command?\n"
   ]
  },
  {
   "cell_type": "markdown",
   "metadata": {},
   "source": [
    "## Lab: Getting help\n",
    "\n",
    "Use the `man` command to find out the following information:\n",
    "- Which option can you use to allow `date` to display in UTC?\n",
    "- How can you lock a user's password?\n",
    "- How can you ensure `mv` will not overwrite an existing file?\n",
    "- Bonus: How would I get help on special file formats?"
   ]
  },
  {
   "cell_type": "code",
   "execution_count": null,
   "metadata": {},
   "outputs": [],
   "source": []
  },
  {
   "cell_type": "code",
   "execution_count": null,
   "metadata": {},
   "outputs": [],
   "source": []
  },
  {
   "cell_type": "code",
   "execution_count": null,
   "metadata": {},
   "outputs": [],
   "source": []
  },
  {
   "cell_type": "markdown",
   "metadata": {},
   "source": [
    "## How does the shell find commands?\n",
    "When you type a command, such as `ls`, the shells looks through a list of directories to find it. This list can be found in ```$PATH```\n",
    "\n",
    "Try \n",
    "\n",
    "__`echo $PATH`__\n",
    "\n",
    "If the command is not in your **PATH**, then it cannot be found, unless it is a shell builtin...\n",
    "- __`type echo`__\n",
    "- __`type ls`__\n",
    "- __`type ll`__\n",
    "\n",
    "You can modify your **PATH**, as we will see later"
   ]
  },
  {
   "cell_type": "markdown",
   "metadata": {},
   "source": [
    "# Everything in Linux is treated as a file"
   ]
  },
  {
   "cell_type": "markdown",
   "metadata": {},
   "source": [
    "## The Linux Filesystem\n",
    "- Hierarchical directory structure\n",
    "- Tree-like pattern of directories (or folders), which may contain files and other directories \n",
    "- The top level directory is denoted by '/' and is called the root directory\n",
    "unlike Windows, which has a separate filesystem tree for each storage device, Linux has a single filesystem tree, regardless of how many drives or storage devices are attached to the computer\n",
    "- Devices are attached (or more correctly, __mounted__) in the tree, typically in the ```/dev```directory\n",
    "- Imagine the filesystem is shaped like an upside-down tree and we are able to stand in the middle of it\n",
    "At any given time, we are inside a dir(ectory) and we can see the files contained in the dir and the pathway to the dir above us (called the parent dir) and any subdir(ectorie)s below us. The dir we are in is called the __current working directory__\n",
    "\n",
    "\n",
    "![alt_text](./images/linux_fs.png)\n",
    "    \n",
    "---\n",
    "\n",
    "Try the ```tree``` command. \n",
    "\n",
    "Did you get an error?\n",
    "\n",
    "You need to install it. \n",
    "\n",
    "You can install software using the ```yum``` command. Yum is one of several package management utilities aviable with Linux. (One of the big differences between Linux distributions is what package manager they use. Distributions like the one we are using for this class as based on *Red Hat* and use ```yum``` Linux distrubutions that are based on **Debian** like **Ubuntu** use a package maanger called ```apt-get``` real unix weanies could wax poetic about the pros and cons of each, but for most folks they do the same thing with slighly different synthax. \n",
    "\n",
    "Now try this:\n",
    "\n",
    "`sudo yum install tree`\n",
    "    \n",
    "When that comand completes type\n",
    "\n",
    "__`tree`__\n",
    "\n",
    "again and you should see something like:\n",
    "\n",
    "```bash\n",
    "infra-dev-academy (master) \n",
    " > tree\n",
    ".\n",
    "├── README.md\n",
    "├── images\n",
    "│   ├── Finder.png\n",
    "│   ├── George_Boole_color.jpg\n",
    "│   ├── H96566k.jpg\n",
    "│   ├── agile.png\n",
    "│   ├── block.png\n",
    "│   ├── byte.png\n",
    "│   ├── calms.png\n",
    "│   ├── command-synthax.png\n",
    "│   ├── compound.png\n",
    "│   ├── computer-memory-pyramid.gif\n",
    "│   ├── devops.png\n",
    "│   ├── dont_believe_them.png\n",
    "│   ├── git.png\n",
    "│   ├── install.png\n",
    "│   ├── its_the_python.png\n",
    "│   ├── meonly.png\n",
    "│   ├── process_flow.png\n",
    "│   ├── python_for_loop.jpg\n",
    "│   ├── python_while_loop.jpg\n",
    "│   ├── software-dev-cycle-old.png\n",
    "│   ├── table_of_tools.png\n",
    "│   ├── this_is_devops.gif\n",
    "│   ├── this_is_devops.jpg\n",
    "│   ├── this_is_devops1.gif\n",
    "│   ├── throw_over_the_wall.png\n",
    "│   ├── type.png\n",
    "│   ├── venn1.gif\n",
    "│   ├── waterfall.png\n",
    "│   ├── which.png\n",
    "│   └── xp.png\n",
    "├── jupyter-notebooks\n",
    "│   ├── Untitled.ipynb\n",
    "│   ├── session_one_week_one.ipynb\n",
    "│   └── session_one_week_two_python.ipynb\n",
    "├── omni-graffles\n",
    "│   ├── agile.graffle\n",
    "│   │   ├── data.plist\n",
    "│   │   ├── image1.tiff\n",
    "│   │   ├── image2.tiff\n",
    "│   │   └── image3.png\n",
    "│   ├── coding_process.graffle\n",
    "│   │   ├── data.plist\n",
    "│   │   ├── image10.tiff\n",
    "│   │   ├── image2.png\n",
    "│   │   ├── image4.tiff\n",
    "│   │   ├── image5.tiff\n",
    "│   │   ├── image6.tiff\n",
    "│   │   ├── image7.tiff\n",
    "│   │   ├── image8.tiff\n",
    "│   │   └── image9.tiff\n",
    "│   ├── venn1.gstencil\n",
    "│   └── waterfall.graffle\n",
    "│       ├── data.plist\n",
    "│       ├── image1.tiff\n",
    "│       ├── image2.png\n",
    "│       └── image3.tiff\n",
    "└── test_infected.html\n",
    "```\n",
    "\n",
    "'*' if there are any Mac users in the audience `brew` is a package manager for Mac OS that lets you easily install lot useful unix/linux commands. \n",
    "\n",
    "\n"
   ]
  },
  {
   "cell_type": "markdown",
   "metadata": {},
   "source": [
    "## Directories common to all Linux Distributions \n",
    "(Yes, another another way Linux distrubutions differ are their file systems...sigh) \n",
    "Here are the directories that are core, and are on all Linux distributions. (Note Mac OS which is based on BSD (not quite Linux) doesn't have all these common directories).\n",
    "\n",
    "<code>\n",
    "/ = root dir\n",
    "/bin = binaries (i.e., programs) which must be present for Linux to boot and run\n",
    "/dev = special directory that contains special files which represent the physical devices (disks, terminals, etc.)\n",
    "/etc = contains systemwide configuration file ",
    "(see, for e.g., /etc/passwd)\n",
    "/home = home directories (may be elsewhere)\n",
    "/proc = special files that give you a window into the OS\n",
    "/tmp = temporary storage, shared by everyone\n",
    "/usr/bin = executables installed by your Linux (sometimes the same as /bin\n",
    "</code>"
   ]
  },
  {
   "cell_type": "markdown",
   "metadata": {},
   "source": [
    "## Lab\n",
    "Explore the file system using __`tree`__ and __`ls`__\n",
    "- Display file contents with __`cat`__\n",
    "- Examine the files in `/proc`  Can you find out info about the memory on your machine? (HINT: you may need to use sudo to execute commands)\n",
    "- The file `hosts` contains manually configured hostnames for machines.  Can you find it?\n",
    "- What is the full path to the __`cat`__ command?"
   ]
  },
  {
   "cell_type": "markdown",
   "metadata": {},
   "source": [
    "## Current Working DIrectory (CWD)\n",
    "- ```pwd``` (\"print working directory\") tells us our current working directory\n",
    "- ```cd``` (\"change directory\") moves us to a (possibly different) directory\n",
    "\n",
    "You'll notice your working dir is part of your prompt, but that's not always going to be the case\n",
    "\n",
    "![alt_text](./images/cwd.png)\n",
    "    "
   ]
  },
  {
   "cell_type": "markdown",
   "metadata": {},
   "source": [
    "## The Bash Prompt \n",
    "You can change your prompt by typing\n",
    "\n",
    "__`PS1='new prompt'`__\n",
    "\n",
    "e.g., \n",
    "\n",
    "__`PS1='How may I help you?'`__\n",
    "\n",
    "we will revisit this...\n",
    "but you can get pretty fancy. For example, I use this prompt:\n",
    "\n",
    "__`PS1=\"\\u@\\h \\[\\033[32m\\]\\w\\[\\033[33m\\]\\[\\033[00m\\] \\n\\[>\\] \"`__"
   ]
  },
  {
   "cell_type": "markdown",
   "metadata": {},
   "source": [
    "## List Directories \n",
    "\n",
    "### the ls (\"list\") command allows us to view the contents of a directory…let's try a few variations\n",
    "\n",
    "- ```ls```\n",
    "- ```ls /tmp``` (with an argument) \n",
    "- ```ls -l /tmp``` (with an option and an argument)\n",
    "\n",
    "\n",
    "If you where so inclined, how would you find out all of the options for ls?\n"
   ]
  },
  {
   "cell_type": "markdown",
   "metadata": {},
   "source": [
    "## Change Directory (CD)\n",
    "\n",
    "The __`cd__ (\"change directory\") command allows us to move around within the filesystem\n",
    "\n",
    "- __`cd /usr`__\n",
    "go to a specific dir, an absolute pathname\n",
    "\n",
    "- __`cd bin`__\n",
    "go to a dir relative to the current working dir (a relative pathname)\n",
    "\n",
    "- __`cd`__\n",
    "go to the user's home directory\n",
    "\n",
    "- __`cd -`__ \n",
    "go to the previous directory (handy!) \n",
    "\n",
    "- __`cd ..`__\n",
    "move up one dir in the tree\n",
    "\n",
    "Remember __`pwd`__  (print working directory) will print the full path of the current working directory\n",
    "\n",
    "![alt_text](./images/pwd.png)\n",
    "    "
   ]
  },
  {
   "cell_type": "markdown",
   "metadata": {},
   "source": [
    "## Lab\n",
    "\n",
    "Make sure you know what each of these comands do:\n",
    "\n",
    "- ```cd /tmp```\n",
    "- ```pwd```\n",
    "- ```ls```\n",
    "- ```cd /```\n",
    "- ```pwd```\n",
    "- ```ls```\n",
    "- ```cd -```\n",
    "- ```pwd```\n",
    "- ```ls```\n"
   ]
  },
  {
   "cell_type": "markdown",
   "metadata": {},
   "source": [
    "## A little deeper \n",
    "- It's important to understand the difference between absolute and relative pathnames–which of the cd commands you entered specified absolute pathnames and which specified relative pathnames?\n",
    "- Is ```cd``` a standalone command, or a builtin?\n",
    "- ```..``` is a special directory which is essentially a shortcut for the directory above\n",
    "- ```.``` is a special directory which is a shortcut for the current directory\n",
    "\n",
    "How would you change directories to move two directories above the current directory?\n"
   ]
  },
  {
   "cell_type": "code",
   "execution_count": null,
   "metadata": {},
   "outputs": [],
   "source": [
    "cd /home/jr\n",
    "./mycoolscript.sh\n"
   ]
  },
  {
   "cell_type": "markdown",
   "metadata": {},
   "source": [
    "## File Name\n",
    "\n",
    "Filenames that begin with a dot (.) are so-called hidden files\n",
    "use ls -a to see them\n",
    "\n",
    "![alt_text](./images/dot_files.png)\n",
    "    \n",
    "    \n",
    "- Filenames are case sensitive, i.e., foo is not the same as Foo\n",
    "- Extensions are not required as they are in Windows\n",
    "- Some programs expect to act on files with extensions(e.g., g++, the GNU C++ compiler), but Linux does not require them\n",
    "- It's possible to embed spaces in a filename, but it's not recommended (unless you like pain and frustration) \n"
   ]
  },
  {
   "cell_type": "markdown",
   "metadata": {},
   "source": [
    "## A bit more about options to comamnds \n",
    "\n",
    "- Multiple options can typically be combined, i.e.\n",
    "\n",
    "`ls -la` (same as `ls -l -a`)\n",
    "\n",
    "How do we know which options a command accepts?\n",
    "\n",
    "Remember the `man` (or `info`) command (oops that's the answer)\n",
    "\n",
    "- What's important is not memorizing all of the possible options for each command, but rather, knowing how to find the information you need\n"
   ]
  },
  {
   "cell_type": "markdown",
   "metadata": {},
   "source": [
    "## Lab \n",
    "\n",
    "### Hopefully you have noticed, ```ls``` has many options\n",
    "\n",
    "- Take a look at `man` for `ls`\n",
    "\n",
    "\n",
    "- Try these (look up those which you don't understand, but not all will make sense yet)\n",
    "- ```ls -l```\n",
    "- ```ls -a```\n",
    "- ```ls -i```\n",
    "- ```ls -s```\n",
    "- ```ls -lrt /```"
   ]
  },
  {
   "cell_type": "code",
   "execution_count": null,
   "metadata": {},
   "outputs": [],
   "source": []
  },
  {
   "cell_type": "markdown",
   "metadata": {},
   "source": [
    "## Manipulating Files and Directories\n",
    "- ```cp``` = copies files and directories\n",
    "- ```mv``` = renames or moves files/directories\n",
    "- ```mkdir``` = creates directories\n",
    "- ```rmdir``` = removes directories (if empty)\n",
    "- ```rm``` = removes files and directories"
   ]
  },
  {
   "cell_type": "markdown",
   "metadata": {},
   "source": [
    "## cp: copy files or directories\n",
    "- ```cp a b```\n",
    "  - copies a to b\n",
    "  - what if b exists?\n",
    "- ```cp a somedir ```\n",
    "  - copies a into dir somedir\n",
    "- ```cp a b c d somedir```\n",
    "  - copies multiples files into somedir\n",
    "- ```cp dir1 dir2```\n",
    "  - won't work unless you add -r (recursive) option\n",
    "  - if dir2 exists, then dir1 gets copied into dir2, otherwise dir2 will be a copy of dir1"
   ]
  },
  {
   "cell_type": "markdown",
   "metadata": {},
   "source": [
    "## mv: move or rename files/directories\n",
    "- ```mv a b```\n",
    "    - renames a to b\n",
    "    - what if b exists?\n",
    "- ```mv a somedir```\n",
    "     - moves a into dir somedir\n",
    "- ```mv a b c d somedir```\n",
    "     - moves multiples files into somedir\n",
    "- ```mv dir1 dir2```\n",
    "    - renames dir1 to dir2\n",
    "    - ...or moves dir1 into dir2 if dir2 already exists \n",
    "---\n",
    "\n",
    "## rmdir: remove directories\n",
    "\n",
    "- ```rmdir a```\n",
    "    - only works if a is empty…\n",
    "- ```rmdir -p a/b/c```\n",
    "    - inverse of mkdir -p\n",
    "    - i.e., remove all parents (a/b/c, a/b, a)\n",
    "    \n",
    "    --- \n",
    "    \n",
    "##  rm: remove files or directories\n",
    "- ```rm a```\n",
    "    - removes the file a\n",
    "- ```rm a b c```\n",
    "    - removes multiple files\n",
    "- ```rm a/b/c```\n",
    "    - removes file c inside a/b dir\n",
    "- ```rm -rf file dir a/b/c ```\n",
    "- ```-r``` = recursive\n",
    "- ```-f``` = force (used to remove directories which are non-empty, as well as nested directory trees)\n",
    "---\n",
    "### Be careful, there is no undo for any __`rm`__ command!\n",
    "- There is a -i (interactive) option, but I suggest you don't use it, except in a special case we will see later"
   ]
  },
  {
   "cell_type": "markdown",
   "metadata": {},
   "source": [
    "## Lab: cp/mv/mkdir/rmdir/rm\n",
    "- Make copies of the file abc named a, b, and c\n",
    "- Change the name of a to x\n",
    "- Create a directory called stuff\n",
    "- Move b and c into stuff using a single command\n",
    "- Make a copy of x and put it into the stuff directory using a single command\n",
    "- Try to remove the stuff directory using rmdir\n",
    "- Remove x and the stuff directory using rm -rf \n",
    "- what does the ```diff``` command do?"
   ]
  },
  {
   "cell_type": "code",
   "execution_count": null,
   "metadata": {},
   "outputs": [],
   "source": []
  },
  {
   "cell_type": "markdown",
   "metadata": {},
   "source": [
    "## Even more manipulating files and directories \n",
    "- ```touch``` = create a new file or update modification date on an existing file\n",
    "- ```ln``` = create links\n",
    "----\n",
    "\n",
    "### ```touch file```\n",
    "\n",
    "- if file does not exist, it is created (empty)\n",
    "- if file does exist, then its modification time is updated to the current time\n",
    "\n",
    "try…\n",
    "- ```touch newfile```\n",
    "\n",
    "- ```touch poem```\n",
    "\n",
    "### ln: create links\n",
    "- There are two kinds of links in Linux, **hard** and **soft**\n",
    "- **soft (symbolic)** links are like shortcuts in Windows or aliases in OS X\n",
    "- **hard** links work by giving multiple names to a single file\n",
    "\n",
    "### Soft Links \n",
    "- to create a soft link\n",
    "```ln -s existing new```\n",
    "- What happens if new already exists?\n",
    "- use ```ls -l``` to \"see\" the link\n",
    "- What happens if the target of the soft link is removed after the link is created?\n",
    "\n",
    "### Hard Links \n",
    "\n",
    "- ```ln existing new```\n",
    "- What happens if new exists?\n",
    "- Creates an alternate name or link for the existing file which is indistinguishable from the original name\n",
    "```ls -l``` will not tell you that it's a hard link except for one small clue, in the second field\n",
    "try ```ls -il``` which will give you the **inode** number\n",
    "\n",
    "### Inodes\n",
    "- inodes are data structures which contain information about files\n",
    "    - owner\n",
    "    - size\n",
    "    - type\n",
    "    - permissions\n",
    "    - modification time\n",
    "    \n",
    "But **NOT the name** (directories contain file names and inode numbers, nothing more)\n",
    "\n",
    "- When a hard link is deleted, the file is not affected until all links to the file are deleted\n",
    "- Every file has at least one link\n",
    "--- \n",
    "- Given this, how does the rm command work?\n",
    "    - what does rm inspect in the inode? "
   ]
  },
  {
   "cell_type": "markdown",
   "metadata": {},
   "source": [
    "## Lab: Links\n",
    "- Create a new file\n",
    "- Create a soft/symbolic link to the new file\n",
    "- Use ls to verify that it's a soft link\n",
    "- Create a hard link to the new file\n",
    "- Use ls to verify the hard link, preferably in two ways"
   ]
  },
  {
   "cell_type": "code",
   "execution_count": null,
   "metadata": {},
   "outputs": [],
   "source": []
  },
  {
   "cell_type": "markdown",
   "metadata": {},
   "source": [
    "## Lab: touch/inodes\n",
    "\n",
    "- Look at the man page for touch and modify and figure out how to set the modification date of the file to an arbitrary date (try, for e.g, 'last month')\n",
    "- Using the above command you can make it seem like a file is older than it really is–how can we tell that something like this was done?\n",
    "- Hint, check out the stat command, or pay close attention to the man page for ls"
   ]
  },
  {
   "cell_type": "code",
   "execution_count": null,
   "metadata": {},
   "outputs": [],
   "source": []
  },
  {
   "cell_type": "markdown",
   "metadata": {},
   "source": [
    "## Bang Dollar \n",
    "- ```!$``` = a shorthand for the last word of the last command\n",
    "\n",
    "- Old school, but comes in handy in certain circumstances–of course you can simply edit the command line if you prefer\n",
    "\n",
    "![alt_text](./images/bang.png)\n",
    "    "
   ]
  },
  {
   "cell_type": "markdown",
   "metadata": {},
   "source": [
    "## Short cuts for typing commands \n",
    "\n",
    "- ```!!``` = execute last command (same as up-arrow)\n",
    "- ```!:0``` = last command without any arguments\n",
    "- ```!:1``` = first argument of last command\n",
    "- ```!*``` = all arguments of last command\n",
    "- ```!$``` = last argument of last command\n",
    "- use ```history``` command to see previous commands as a list\n",
    "   - you can use the ```!#``` line number (e.g. ```!14```) to execute the command again. \n",
    "   - Give it a try now. \n",
    " ![alt_text](./images/history.png)\n",
    " \n",
    " ### Using the above history what command would the ```!14``` execute?"
   ]
  },
  {
   "cell_type": "markdown",
   "metadata": {},
   "source": [
    "## Inspecting a File \n",
    "* ```cat``` (short for \"catenate\") is a Linux command which dumps out the contents a file\n",
    "- Many commands let you look at a file, but cat is the simplest\n",
    "- If you want to look at a file in a paged manner, i.e., one page at a time, use ```more``` or ```less```\n",
    "  - (It is hard to claim the Linux and Unix software developers don't have a sense of humor of some sort.)"
   ]
  },
  {
   "cell_type": "markdown",
   "metadata": {},
   "source": [
    "## The File command \n",
    "- Given a file or filenames as its argument(s), file tells you what type of files they are…try:\n",
    "-```file /etc/passwd``` \n",
    "-```file /bin/ls```\n",
    "-```file /dev/null```\n",
    "\n",
    "---\n",
    "## Lab\n",
    "- Use the file command to identify your soft link\n",
    "- Try the file command on your hard link\n",
    "- Did it identify your hard link? Why not?\n",
    "- Use the file command on itself"
   ]
  },
  {
   "cell_type": "code",
   "execution_count": null,
   "metadata": {},
   "outputs": [],
   "source": []
  },
  {
   "cell_type": "markdown",
   "metadata": {},
   "source": [
    "## Editors \n",
    "- nano\n",
    "- vi / vim\n",
    "\n",
    "### nano\n",
    "- Basic editor with menus making it fairly user friendly. \n",
    "\n",
    "### vi / vim\n",
    "- Visual editor (comparatively speaking), written by Bill Joy, supplanted by vim, which is the improved version\n",
    "- Not enitrely user friendly until you make friends with it.\n",
    "- Mode-based editor: you are either in command mode or insert mode\n",
    "- Ubiquitous - it is the default editor for most applications - stay tuned for more about environemnt variables inclidng  *$EDITOR* \n",
    "\n",
    "- Start in command mode and to enter insert mode\n",
    "\n",
    "-```i``` = insert at the current cursor position\n",
    "-```a``` = append after the current cursor position\n",
    "-```o``` = open a new line after the current line\n",
    "-```O``` = open a new line before the current line\n",
    "- to leave insert mode, hit ```ESC```\n",
    "- to leave vi\n",
    "```:x```, ```:wq```, or ```ZZ``` (write out the current session)\n",
    "- ```:q!``` (quit and discard changes)\n",
    "---\n",
    "#### basic movement\n",
    "- ```0``` = beginning of line\n",
    "- ```$``` = end of line\n",
    "- ```w/W``` = move forward by a word/WORD\n",
    "- ```b/B``` = move backward by a word/WORD\n",
    "- ```e/E``` = move to end of word/WORD\n",
    "- ```G``` = end of file (<num>G = go to line <num>)"
   ]
  },
  {
   "cell_type": "markdown",
   "metadata": {},
   "source": [
    "## Wildcards\n",
    "#### (you make my heart sing, you make everything groovy) \n",
    "\n",
    "- Special characters/sequences to rapidly specify a group of filenames\n",
    "- \\* = any characters, e.g, foo*, *.txt, a*b\n",
    "- ? = any single character, e.g., file?, a?c, foo.???\n",
    "- [chars] = any character in chars, which is a set of characters, e.g., [aeiou]*\n",
    "- [!chars] = any character NOT in chars, which is a set of characters, e.g., [!aeiou]*\n",
    "- {g1,g2,g3,…} = matches any or all of the terms, e.g., foo{1,2,3} matches foo1, foo2, and foo3, but not foo4, foobar, etc."
   ]
  },
  {
   "cell_type": "markdown",
   "metadata": {},
   "source": [
    "## Lab: Wildcards\n",
    "\n",
    "- Use __`ls`__ and wildcards to find all 3-character filenames in the current directory.\n",
    "- Find all files that have a least one dash in their name.\n",
    "- Find 3-character filenames that have no vowels in them.\n",
    "- Find filenames consisting of any characters, followed by .txt or any 3-character extension where the middle character is an 'a'"
   ]
  },
  {
   "cell_type": "code",
   "execution_count": null,
   "metadata": {},
   "outputs": [],
   "source": []
  },
  {
   "cell_type": "markdown",
   "metadata": {},
   "source": [
    "## Building Blocks\n",
    "\n",
    "- Linux provides a number of tools/programs which can be combined in powerful and interesting ways  \n",
    "bash is not as powerful as Python, Perl, or other more modern scripting languages, but it is often the better tool for the job, especially when you want to run a bunch of Linux commands. My rule of thumb is that if a script is more than a few dozen lines it is better written in a Python (or even Perl) rather than as a script. However, you get a lot done fast in less than a dozen lines of shell script. \n",
    "- We’ll start with the building blocks, see what they can and cannot do, and move up to building complex shell scripts"
   ]
  },
  {
   "cell_type": "markdown",
   "metadata": {},
   "source": [
    "## Let's start at end with Exit Status \n",
    "\n",
    "- Every Linux command conveys the status of its execution (i.e., success or failure) to the shell via an integer in the range 0-255.\n",
    "\n",
    "- 0 generally means success\n",
    "- generally negative numbers mean failure \n",
    "- non-zero can mean success or failure, depending on the conventions of the command\n",
    "    - that's right, commands define their own exit status so they definitely vary by command. \n",
    "    - 0 == good negative number bad, and positive numbers usually good is not true all the time. You gotta read the docs! (which command(s) would you run to do find the out the exit codes for the ```cp``` command?\n",
    "- Inspecting the exit status: echo $?\n",
    "- later we’ll see how to branch based on exit status"
   ]
  },
  {
   "cell_type": "markdown",
   "metadata": {},
   "source": [
    "## Lab: exit status\n",
    "### Determine the exit status of the following commands:\n",
    "- ```grep zzz poem```\n",
    "- ```grep undergrowth poem```\n",
    "- ```cat non-existent-file```\n",
    "- ```rm -f non-existent-file```"
   ]
  },
  {
   "cell_type": "code",
   "execution_count": null,
   "metadata": {},
   "outputs": [],
   "source": []
  },
  {
   "cell_type": "markdown",
   "metadata": {},
   "source": [
    "## Redirection  \n",
    "\n",
    "```>``` is the symbol used to `redirect` a program's output. You can use it like this:\n",
    "\n",
    "- ```date > foo```\n",
    "\n",
    "overwrites foo, then executes date\n",
    "\n",
    "- ```set -o noclobber (set +o noclobber)```\n",
    "\n",
    "I don’t recommend it\n",
    "\n",
    "- ```cat < foo ```\n",
    "\n",
    "runs cat, using foo as input\n",
    "\n",
    "- ```cat < foo > foo```\n",
    "\n",
    "“works”, but probably not what you expected\n",
    "\n",
    "- ```sort < foo > foo.sorted```\n",
    "\n",
    "(cf. sort foo -o foo)\n",
    "\n",
    "- ```sort somefile 2>foo```\n",
    "\n",
    "redirects error messages, but not normal output\n",
    "\n",
    "- ```sort somefile > out 2>err```\n",
    "\n",
    "redirects normal output to out, and errors to err\n",
    "\n",
    "- ```cat poem non-existent-file >& foo```\n",
    "\n",
    "- ```cat poem non-existent-file > foo 2>&1 ```\n",
    "\n",
    "Both of the above cause standard error to be merged with standard out, and then the merged stream goes into the file foo\n",
    "\n",
    "- ``` date >> out```\n",
    "\n",
    "Redirects output to file out, but APPENDS the output instead of overwriting the file anew each time\n",
    "if out does not exist, it is created, just as with >"
   ]
  },
  {
   "cell_type": "markdown",
   "metadata": {},
   "source": [
    "## Lab: Redirection \n",
    " Show that output redirection occurs before the command is run by using ls and redirecting its output into a file in your directory\n",
    " \n",
    " You can create a new empty file as follows:      \n",
    " \n",
    "- ```> filename```\n",
    "\n",
    "...how does the above differ from touch filename?\n",
    " \n",
    " Will the following command work? Why or why not?\n",
    " \n",
    "```sort filename >> filename  ```"
   ]
  },
  {
   "cell_type": "markdown",
   "metadata": {},
   "source": [
    "## What do you make of this?\n",
    "\n",
    "What's the difference between these commands?\n",
    "\n",
    "```cat < somefile```\n",
    "\n",
    "```cat somefile```\n",
    "\n",
    "---\n",
    "\n",
    "```sort somefile > someotherfile```\n",
    "\n",
    "```sort somefile -o someotherfile```"
   ]
  },
  {
   "cell_type": "markdown",
   "metadata": {},
   "source": [
    "## Connecting Commands\n",
    "\n",
    "How to designate output of one command as input of another?\n",
    "\n",
    "the first attempt...\n",
    "\n",
    "```ls > foo```\n",
    "\n",
    "```wc < foo``` \n",
    "\n",
    "```rm foo```\n",
    "\n",
    "### Pipes \n",
    "\n",
    "Instead, we will use a pipe, which is a bash operator for connecting the output of one command to the input of another command...\n",
    "\n",
    "```ls | wc```\n",
    "\n",
    "```ls | tee file```\n",
    "\n",
    "```(date; ls) | wc```\n",
    "\n",
    "Let's write our first shell script:\n",
    "```\n",
    "echo ‘ls | wc -l’ > nu\n",
    "bash nu\n",
    "```"
   ]
  },
  {
   "cell_type": "markdown",
   "metadata": {},
   "source": [
    "## Processes \n",
    "\n",
    "- Every instance of an external command which is ‘running’ on a Linux system is called a ‘process’. (In fact, only one process per core can be running, and very few processes are even “runnable”; many are waiting for some event)\n",
    "- Each process has a unique process ID (PID), an integer\n",
    "- Use ```ps``` to examine processes\n",
    "- Can also look in /proc \"directory\"\n",
    "- Your shell, the program you ‘talk to’ to execute commands has a process ID: ```echo $$```\n",
    "If you want to create a unique temporary file, which does not conflict with an existing file in the current directory, you can make use of the process ID:\n",
    "```ls > temp$$```"
   ]
  },
  {
   "cell_type": "markdown",
   "metadata": {},
   "source": [
    "## More Linux Commands\n",
    "- Linux has so many useful commands, it’s difficult to be familiar with them all\n",
    "- Our goal is to become familiar with a useful subset which can be used alone, or combined together (using pipes and other constructs) to do more complex tasks\n",
    "- Let’s look at some in detail:\n",
    "```sort, diff, grep, sed, tr, head, tail, awk```\n",
    "- These Linux commands are known as **\"filters\"**"
   ]
  },
  {
   "cell_type": "markdown",
   "metadata": {},
   "source": [
    "## sort \n",
    "\n",
    "### So many useful options\n",
    "- `-c` check whether file is sorted and exit accordingly\n",
    "- `-f` treat upper and lower case equally (‘fold’)\n",
    "- `-n` numeric sort\n",
    "- `-r` reverse sort\n",
    "\n",
    "**Examples**\n",
    "- `sort -c sorted-file; echo $?`\n",
    "- `sort -c unsorted-file; echo $?`\n",
    "- `sort num`\n",
    "- `sort -n num`\n",
    "- `sort -rn num`\n",
    "- `sort file -o file`"
   ]
  },
  {
   "cell_type": "markdown",
   "metadata": {},
   "source": [
    "## grep\n",
    "\n",
    "find patterns in files (g/re/p)\n",
    "- ```-c``` count matches\n",
    "- ```-i``` ignore case\n",
    "- ```-l``` list filenames which contain matches\n",
    "- ```-n``` prefix match with line number\n",
    "- ```-q``` quiet, suppress normal output\n",
    "- ```-s``` suppress error messages\n",
    "- ```-v``` invert match (i.e, find lines which DO NOT match)\n",
    "\n",
    "Becoming profcient with ```grep``` (as well as several other Linux commands such as ```sed``` and ```awk``` and even ```find```) is, how to say this, entirely non trivial.  \n",
    "\n",
    "### Some examples\n",
    "- ```grep 10 num; echo $? (cf. -q) ```\n",
    "- ```grep foo num; echo $? (cf. -s) ```\n",
    "- ```grep -c 1 num ```\n",
    "- ```grep -v 1 num ```\n"
   ]
  },
  {
   "cell_type": "markdown",
   "metadata": {},
   "source": [
    "## Lab: grep/pipes/sort\n",
    "- use ```ls```, ```grep```, and a pipe to find all of the directories in the current directory\n",
    "- use ```ls```, ```grep```, and a pipe to find all of the non-directories in the current directory\n",
    "- use ```ls```, ```sort```, and a pipe to sort the long directory listing by the size of the file"
   ]
  },
  {
   "cell_type": "code",
   "execution_count": null,
   "metadata": {
    "scrolled": true
   },
   "outputs": [],
   "source": []
  },
  {
   "cell_type": "markdown",
   "metadata": {},
   "source": [
    "## Regular Expressions\n",
    "Mini-language used to match patterns in text files\n",
    "- Regular expressions are very powerful\n",
    "- Regular expressions can be complex and hard to debug\n",
    "- \"If you have a problem, and you use regex to solve it, now you have two problems\"\n",
    "- Syntax quick reference:   https://www.regular-expressions.info/refquick.html"
   ]
  },
  {
   "cell_type": "markdown",
   "metadata": {},
   "source": [
    "## Lab:  Regular expressions and grep\n",
    "Use __`grep`__ and regular expressions to find matches in text files\n",
    "* Find all of the words in all caps in the hamlet.txt file\n",
    "* Write a regular expression to match IP address numbers (hint: test on /etc/hosts)\n",
    "* Find words in a file that are separated by dashes\n",
    "* Find all words in a file 3 characters long or less that end in a vowel (hint: try the \"words\" file)"
   ]
  },
  {
   "cell_type": "code",
   "execution_count": null,
   "metadata": {},
   "outputs": [],
   "source": []
  },
  {
   "cell_type": "markdown",
   "metadata": {},
   "source": [
    "## tr\n",
    "- transl[iter]ator \n",
    "- used to translate characters in the input\n",
    "\n",
    "### examples\n",
    "- ```tr aeiou x < poem ```\n",
    "- ```tr aeiou 12345 < poem ```\n",
    "- ```tr ‘a-z’ ‘A-Z’ < poem ```\n",
    "- ```tr ‘[:lower:]’ ‘[:upper:]’ < poem ```\n",
    "- ```tr -c aeiou x < poem ```\n",
    "- ```tr -d ‘ ‘ < poem ```\n",
    "- ```tr -s ‘ ‘ < poem- ```"
   ]
  },
  {
   "cell_type": "markdown",
   "metadata": {},
   "source": [
    "## diff \n",
    "\n",
    "Displays differences between files\n",
    "\n",
    "- some options\n",
    "- `-w` ignore white space\n",
    "- `-B` ignore blank lines\n",
    "- `-i` ignore case\n",
    "- `-q` quiet (report diff or no diff, but not details)\n",
    "\n",
    "### Examples\n",
    "- ```diff num num; echo $?```\n",
    "- ```diff sorted-file unsorted-file```\n",
    "- ```diff sorted-file unsorted-file   >/dev/null; echo $? ```"
   ]
  },
  {
   "cell_type": "markdown",
   "metadata": {},
   "source": [
    "## Lab: diff/tr\n",
    "\n",
    "Use diff and tr to determine if two files have the same content, irrespective of line breaks\n",
    "For example, we want the following files to be considered the same:\n",
    "```\n",
    "Congress shall make no law respecting an establishment of religion,  \n",
    "or prohibiting the free exercise thereof; or abridging the freedom of  \n",
    "speech, or of the press; or the right of the people peaceably to assemble, and to petition the Government for a redress of grievances.\n",
    "```\n",
    "```\n",
    "Congress shall make no law respecting an establishment  \n",
    "of religion, or prohibiting the free exercise thereof;  \n",
    "or abridging the freedom of speech, or of the press;  \n",
    "or the right of the people peaceably to assemble, and to  \n",
    "petition the Government for a redress of grievances.\n",
    "```"
   ]
  },
  {
   "cell_type": "code",
   "execution_count": null,
   "metadata": {},
   "outputs": [],
   "source": []
  },
  {
   "cell_type": "markdown",
   "metadata": {},
   "source": [
    "## head / tail \n",
    "\n",
    "- Show first/last lines of a file \n",
    "\n",
    "### examples\n",
    "- ```head poem```\n",
    "- ```tail poem```\n",
    "- ```head -1 poem```\n",
    "- ```tail -1 poem```\n",
    "- ```tail -n +3 poem```\n",
    "\n",
    "For interactive use, ```-f``` (“follow” = output appended data as file grows) **is indispensable**"
   ]
  },
  {
   "cell_type": "markdown",
   "metadata": {},
   "source": [
    "## Putting it all together\n",
    "\n",
    "```\n",
    "\n",
    "tr A-Z a-z |\n",
    "tr -sc a-z ‘\\n’ |\n",
    "sort |\n",
    "uniq -c |\n",
    "sort -n |\n",
    "tail\n",
    "\n",
    "```\n",
    "\n",
    "Let's try it:\n",
    "\n",
    "\n",
    "```\n",
    "./piat < poem\n",
    "./piat < hamlet.txt\n",
    "```"
   ]
  },
  {
   "cell_type": "markdown",
   "metadata": {},
   "source": [
    "## sed \n",
    "### \"stream editor\" / filter\n",
    "\n",
    "- Used to ‘make changes’ to files using pattern matching and substitution commands\n",
    "\n",
    "- ```-n``` = suppress printing of each line\n",
    "\n",
    "### Examples:\n",
    "- ```sed ‘s/[aeiou]/x/’ < poem ```\n",
    "- ```sed ‘s/[aeiou]/x/g’ < poem ```\n",
    "- ```sed ‘s/ //g’ < poem ```\n",
    "- ```sed '/roads/d' < poem ```\n",
    "- ```sed -n '/roads/{n;p;}' poem        # grep++ ```"
   ]
  },
  {
   "cell_type": "markdown",
   "metadata": {},
   "source": [
    "## Lab: sed\n",
    "\n",
    "- Use sed to change all instances of 'foo' in a file to 'bar'\n",
    "- Use sed to delete all lines containing 'bar'\n",
    "- What else can we do with sed?  _(perhaps better asked, what else can't you do ..._ : > _)_"
   ]
  },
  {
   "cell_type": "code",
   "execution_count": null,
   "metadata": {},
   "outputs": [],
   "source": []
  },
  {
   "cell_type": "markdown",
   "metadata": {},
   "source": [
    "## awk\n",
    "\n",
    "Pattern scanning/processing language (awk = Aho, Weinberger, Kernighan)\n",
    "Supplanted by Perl and Python, now sort of a one-trick pony for breaking input into fields - mostly - otherwise it would not still being talked about. \n",
    "\n",
    "### Examples\n",
    "- ```awk ‘{print $2}’ < poem ```\n",
    "- ```awk -F: '{print $1}' < /etc/passwd ```"
   ]
  },
  {
   "cell_type": "markdown",
   "metadata": {},
   "source": [
    "## cut\n",
    "\n",
    "Remove (\"cut\") sections (fields, characters) of each line of a file\n",
    "\n",
    "- ```-d ```= use specified delimiter instead of TAB\n",
    "- ```-f``` = choose fields to cut \n",
    "- ```-s``` = skip lines which don't contain delimiter\n",
    "- ```--complement``` = invert set of fields\n",
    "\n",
    "### Examples\n",
    "- ```cut -f1,5 -d ' ' -s poem ```\n",
    "- ```cut -f2 -d: /etc/passwd --complement ```"
   ]
  },
  {
   "cell_type": "markdown",
   "metadata": {},
   "source": [
    "## colrm\n",
    "\n",
    "```colrm [first [last]]```\n",
    "\n",
    "- Removes columns starting at first and ending at last (if supplied)\n",
    "- Handy for removing fixed length parts of lines, either at beginning or middle\n",
    "\n",
    "### Examples\n",
    "- `colrm 1 6 < file` Remove columns 1-6 from each line\n",
    "\n",
    "- `colrm 10 < file`  Remove columns 10+ from each line"
   ]
  },
  {
   "cell_type": "markdown",
   "metadata": {},
   "source": [
    "## Variables and environment variables \n",
    "\n",
    "Just like programming languages, bash has local and global (environment) variables.\n",
    "\n",
    "What is a variable you may ask?\n",
    "\n",
    "A variable is a symbol, typically a string that 'holds' a value. \n",
    "\n",
    "For example I could have a variable called __`name`__\n",
    "\n",
    "I could then assign a value to that variable \n",
    "\n",
    "__`name=JR`__\n",
    "\n",
    "Now, name has a value ('JR'). \n",
    "\n",
    "Variables are used all over the place, in programming, scripting (which is really just a kind of programming) system administration and DevOps. You'll learn more about them when we tackle Python. \n",
    "\n",
    "In the Bash shell try this:\n",
    "\n",
    "__`name=JR`__\n",
    "\n",
    "__`echo $name`__\n",
    "\n",
    "On the first line, you just learned how to create and assign a value to a variable in Bash. The second line shows you how to \"reference\" a variable, that is get it's actual value. \n",
    "\n",
    "Now try \n",
    "\n",
    "__`echo name`__\n",
    "\n",
    "As you can see the __`$`__ means give me the value of the variable, without out just the variable's name is printed. \n",
    "\n",
    "The Bash shell has a lot of built in variables. You can type \n",
    "\n",
    "__`printenv`__\n",
    "\n",
    "Yikes, lot of stuff, right?\n",
    "\n",
    "Now try:\n",
    "\n",
    "__`printenv | more`__\n",
    "\n",
    "What's going on here?\n",
    " \n",
    "__`set`__ is used to inspect local variables\n",
    "__`env`__ is used to inspect global or \"environment\" variables\n",
    "\n",
    "Note that there must be no spaces around =\n",
    "\n",
    "Arguments to a script are called \"position variables\"\n",
    "\n",
    "As you learn more programming languages you will see that they are analogous to argv in C/C++ or sys.argv in Python\n",
    "\n",
    "- ```$#``` = number of args passed to script\n",
    "- ```$1, $2, $3``` … are the args themselves\n",
    "- ```$0``` is the name of the script\n",
    "\n",
    "Try\n",
    "\n",
    "- ```./da``` \n",
    "- ```./da 1 2 3```\n",
    "- ```./da \"1 2\" 3 4```\n",
    "\n",
    "Notice that args which have not been passed are simply empty (actually unset). It is not an error to refer to ```$5``` if only ```4``` args were passed"
   ]
  },
  {
   "cell_type": "markdown",
   "metadata": {},
   "source": [
    "## Quoting \n",
    "\n",
    "Not matter how well you think you understand how quoting works in the shell, you are bound to find occasions where it doesn't work as expected! So don't feel too bad about it. Here are some basics:\n",
    "\n",
    "- backslash prevents the next character from having any special meaning\n",
    "\n",
    "`echo ls \\> foo`\n",
    "\n",
    "- single quotes prevent shell from interpreting the text in between them\n",
    "\n",
    "`x=abc; echo '$x'`\n",
    "\n",
    "`echo 'Is a > b?'`\n",
    "\n",
    "### Double Quotes\n",
    "\n",
    "- Bash peeks inside double quotes to perform variable expansion ($), and \\ escaping:\n",
    "\n",
    "`x=\"a b\"; echo \"$x\"`\n",
    "\n",
    "`echo \\\\; echo \"\\\\\"; echo \"\\$50\"`\n",
    "`echo *; echo \"*\"`\n",
    "\n",
    "Use double quotes to protect variable expansion in the event that the variable has embedded spaces (we'll see why shortly)"
   ]
  },
  {
   "cell_type": "markdown",
   "metadata": {},
   "source": [
    "## Finally the moment you have all been waiting for! A simple shell script \n",
    "\n",
    "`cat $1 | wc -l\t`\t# counts lines in a file\n",
    "\n",
    "`$1` = the first argument sent to the shell script\n",
    "\n",
    "Try `./lc poem`\n",
    "\n",
    "What if you wanted to send 2 arguments?\n",
    "\n",
    "`cat $1 $2 | wc -l`\n",
    "\n",
    "Try `./lc2 lc lc2`\n",
    "\n",
    "Clumsy!\n",
    "\n",
    "`cat $* | wc -l`\n",
    "\n",
    "Try `./lc3 lc lc2 lc3`\n",
    "\n",
    "`$*` expands to the value of all arguments"
   ]
  },
  {
   "cell_type": "markdown",
   "metadata": {},
   "source": [
    "## shebang\n",
    "If the first line of your script is `#!` (pronounced \"shebang\"), then the rest of the line tells the operating system which interpreter is to be used to run the script\n",
    "\n",
    "Bash is the default so you technically don't have to include a bash shebang, but it's best practice to do so, and it will avoid problems on older systems\n",
    "\n",
    "`#!/bin/bash`\n",
    "\n",
    "You could actually write your own command interpreter, and then write scripts in your own language and have your interpreter run them\n",
    "might be a good lab!"
   ]
  },
  {
   "cell_type": "markdown",
   "metadata": {},
   "source": [
    "# The source Command \n",
    "\n",
    "Sometimes you want to include the code from one file in another  \n",
    "\n",
    "Try \n",
    "\n",
    "`source source1`\n",
    "\n"
   ]
  },
  {
   "cell_type": "markdown",
   "metadata": {},
   "source": [
    "## Aliases\n",
    "\n",
    "Aliases provide a way to create a new \"command\" or change the behavior of an existing command\n",
    "```\n",
    "alias l=less\n",
    "alias ll='ls -l'\n",
    "alias ls='ls -F'\n",
    "alias\n",
    "```\n",
    "\n",
    "To turn off an alias temporarily, preface the command with `a \\`, e.g., `\\ls`\n",
    "To turn off an alias permanently, use unalias"
   ]
  },
  {
   "cell_type": "markdown",
   "metadata": {},
   "source": [
    "## Lab: Alias\n",
    "\n",
    "Enter the following alias\n",
    "\n",
    "`alias hi='echo Hello, how are you?'`\n",
    "\n",
    "Test it\n",
    "\n",
    "Log out and log back in\n",
    "\n",
    "Try it again\n",
    "\n",
    "What did you notice?"
   ]
  },
  {
   "cell_type": "markdown",
   "metadata": {},
   "source": [
    "## Startup Files\n",
    "\n",
    "`cd` into your home directory and remember `ls -a` will show you the hidden files\n",
    "\n",
    "`.bash_profile` - this file is sourced when you first log in, so anything that you want to happen at login time should be placed in this file\n",
    "`.bashrc` - this file is sourced every time a new shell is created\n",
    "\n",
    "- aliases should go in here\n",
    "- modifications to your PATH\n",
    "- anything that you want to happen EVERY time you start a new shell\n",
    "\n"
   ]
  },
  {
   "cell_type": "markdown",
   "metadata": {},
   "source": [
    "## How does the shell execute commands?\n",
    "- When you type a command, such as ls, the shell forks (a system call which creates a new process which is an exact clone of itself), creating a parent and child shell\n",
    "\n",
    "- The parent has control of the child and directs it to exec (a system call which overwrites the current process with the image of a new program) `/bin/ls`\n",
    "\n",
    "- When the child process completes, the parent \"reaps\" the finished process (causing it to disappear from the system) and then displays your prompt so you can enter the next command\n",
    "\n",
    "- Data in child process cannot affect parent (although child could alter files and settings outside of its and parent's process)"
   ]
  },
  {
   "cell_type": "markdown",
   "metadata": {},
   "source": [
    "## Backquotes\n",
    "\n",
    "Tells bash to run the command inside the backquotes and replace the backquoted string with the output of the command:\n",
    "\n",
    "```\n",
    "x=`date`; echo $x\n",
    "```\n",
    "\n",
    "Very powerful construct; can be nested\n",
    "\n",
    "```\n",
    "thisdir=`basename \\`pwd\\``\n",
    "```\n",
    "\n",
    "Interpreted inside double quotes\n",
    "```\n",
    "var=\"hello from `whoami`\"\n",
    "```"
   ]
  },
  {
   "cell_type": "markdown",
   "metadata": {},
   "source": [
    "## test\n",
    "\n",
    "- Originally a program, now a shell builtin, used to test the status of files, and also do string/numeric comparisons\n",
    "\n",
    "- Test produces no output; instead it sets its exit status to success (0) or failure (>= 1)\n",
    "\n",
    "- ```man test```\n",
    "\n"
   ]
  },
  {
   "cell_type": "markdown",
   "metadata": {},
   "source": [
    "## Test in Action\n",
    "\n",
    "- ```test -f da; echo $?\t```\t\n",
    "\n",
    "Does the file da exist? Yes: exit status is 0\n",
    "\n",
    "- ```test -f dax; echo $? ```\t\n",
    "\n",
    "Does the file dax exist? No: exit status is 1\n",
    "\n",
    "- ```x=1; test $x = 1; echo $? ```\t\n",
    "\n",
    "(set x equal to 1) Is x equal to 1? Yes: exit status is 0\n",
    "\n",
    "Note: what is actually run is test 1 = 1\n",
    "\n",
    "- ```x=1; test $x = 2; echo $?```\n",
    "\n",
    "(set x equal to 1) Is x equal to 2? No: exit status is 1\n",
    "\n",
    "- ```test $x -gt 0; echo $? ```\n",
    "\n",
    "Is x greater than 0? No: exit status is 1\n",
    "\n",
    "- ```y=1; test $x -gt 0 -a $y -gt 0; echo $? ```\n",
    "\n",
    "(set y equal to 1) Is x > 0 and y > 0? Yes: exit status is 0"
   ]
  },
  {
   "cell_type": "markdown",
   "metadata": {},
   "source": [
    "## Flow Control \n",
    "\n",
    "### if command; then\t\t\n",
    "\n",
    "```\n",
    "if command; then\t\t\n",
    "    some cmd   # This branch is taken if exit\n",
    "    more cmd   # status of the command is 0\n",
    "else\n",
    "    other cmd\t# This branch is taken if exit\n",
    "    more cmd    # status of the command is not 0\n",
    "fi\n",
    "```\n",
    "\n",
    "Note that then is a separate command, and must be on a line by itself or separated from the if part by a semi-colon as above\n",
    "\n",
    "Command is an actual Linux command or a shell builtin (e.g., test) which returns an exit status\n",
    "\n",
    "```\n",
    "if test $x = 1; then\t\t\t\n",
    "    echo \"x = 1\"\t\t\t\t\t    \n",
    "else\t\t\t\t\t\t\t\t     \n",
    "    echo \"x != 1\"\t\t\t\t\t    \n",
    "fi\t\t\t\t\t\t\t\t\t      \n",
    "\n",
    "if grep roads poem; then\n",
    "    echo \"found 'roads'\"\n",
    "fi\n",
    "```"
   ]
  },
  {
   "cell_type": "markdown",
   "metadata": {},
   "source": [
    "## '[' is a synonym for test\n",
    "\n",
    "In order to make shell scripts look more like programming languages, you can use a [ in lieu of test, but you must include a trailing ] to close off the test:\n",
    "\n",
    "```\n",
    "if [ $x = 1 ]; then  # note spaces around [ ]\n",
    "echo \"x = 1\"\n",
    "else\n",
    "\techo \"x != 1\"\n",
    "fi\n",
    "```"
   ]
  },
  {
   "cell_type": "markdown",
   "metadata": {},
   "source": [
    "## Lab: if statements\n",
    "\n",
    "- Write a shell script which takes a single command line argument representing a filename and checks to see if that file exists\n",
    "- It should be silent if the file exists but should complain about a file that does not exist\n",
    "- The script should also complain if no arguments are passed"
   ]
  },
  {
   "cell_type": "code",
   "execution_count": null,
   "metadata": {},
   "outputs": [],
   "source": []
  },
  {
   "cell_type": "markdown",
   "metadata": {},
   "source": [
    "## Flow Control\n",
    "## For Loops\n",
    "We use a for loop when we want to do something repeatedly, and we know how many times we want to do it\n",
    "\n",
    "```\n",
    "for var in list\n",
    "do\n",
    "   cmd\n",
    "done\n",
    "```\n",
    "----\n",
    "```\n",
    "for var in list; do\n",
    "   cmd\n",
    "done\n",
    "\n",
    "```\n",
    "----\n",
    "\n",
    "```\n",
    "for x in foo bar baz; do\n",
    "\techo $x\n",
    "done\n",
    "\n",
    "```\n",
    "----\n",
    "```\n",
    "# iterate through command line arguments\n",
    "for arg in $*; do\t\n",
    "\techo $arg\n",
    "done\n",
    "```\n",
    "---\n",
    "```\n",
    "# same as above but preserve spaces in args...\n",
    "for arg in \"$@\"; do\t\n",
    "\techo $arg\n",
    "done\n",
    "```"
   ]
  },
  {
   "cell_type": "markdown",
   "metadata": {},
   "source": [
    "## Lab: For Loops\n",
    "\n",
    "- Modify the shell script you just wrote so that it takes multiple command line arguments and checks for existence of all of them, rather than just one\n",
    "\n",
    "- While you're at it, append a line to each file that says \"inspected by <name>\" \n",
    "\n",
    "- ...and, just for fun, remove files that are completely empty"
   ]
  },
  {
   "cell_type": "code",
   "execution_count": null,
   "metadata": {},
   "outputs": [],
   "source": []
  },
  {
   "cell_type": "markdown",
   "metadata": {},
   "source": [
    "## Flow Control \n",
    "\n",
    "### While Loops\n",
    "\n",
    "Use a while loop when we want to do something repeatedly, but don't know in advance how many times\n",
    "\n",
    "```\n",
    "while command; do\t\t\t\n",
    "  cmd\n",
    "done\n",
    "```\n",
    "---\n",
    "```\n",
    "until command; do\n",
    "  cmd\n",
    "done\n",
    "```\n",
    "----\n",
    "### check for existence of file\n",
    "```\n",
    "while test ! -f blah; do\t\t\n",
    "    echo -n .\t\t\t\t\t\n",
    "    sleep 3\t\t\t\t\t\n",
    "done\t\t\t\t\n",
    "```\n",
    "----\n",
    "```\n",
    "until test -f blah; do\t\t\t\t\n",
    "    echo -n .\n",
    "    sleep 3\n",
    "done\n",
    "```"
   ]
  },
  {
   "cell_type": "markdown",
   "metadata": {},
   "source": [
    "## Flow Control \n",
    "### case statements\n",
    "\n",
    "Only builtin way to perform pattern matching in the shell (except for new extensions in bash)\n",
    "\n",
    "Can be used instead of an if statement when you need pattern (wildcard) matching\n",
    "```\n",
    "case word in\n",
    "\tpattern1)\tcommands;;\n",
    "\tpattern2)\tcommands;;\n",
    "\t…\n",
    "esac\n",
    "```\n",
    "\n",
    ";; is required and is used to break out of the case (like a break statement in C/C++/Python/etc.)\n",
    "\n",
    "---\n",
    "\n",
    "`esac` -> you gotta love programming languages (or not) \n",
    "\n",
    "---\n",
    "\n",
    "**Another Example:**\n",
    "```\n",
    "read thing\n",
    "\n",
    "case $thing in\n",
    "     a*b) echo 'a*b';;\n",
    "     ???) echo '3 letters';;\n",
    "    *foo) echo 'ends in foo';;\n",
    " [aeiou]) echo 'single vowel';;\n",
    "       *) echo 'something else';;\n",
    "esac\n",
    "```\n"
   ]
  },
  {
   "cell_type": "markdown",
   "metadata": {},
   "source": [
    "## Workshop \n",
    "- Write a shell script that counts all the files ending with __`.txt`__ in a directory structure\n",
    "- Modify the program to find all image files in a directory structure\n",
    "- Write a shell script that find all image files created after a specific date and copies them to a new directory\n",
    " - beware of edge cases \n"
   ]
  },
  {
   "cell_type": "markdown",
   "metadata": {},
   "source": [
    "## File Permissions\n",
    "\n",
    "![alt_text](./images/file_perms.png)\n",
    "\n",
    " - File type\n",
    " \n",
    " - Permissions for the user (owner)\n",
    " \n",
    " - Permissions for the group\n",
    " \n",
    " - Permissions for everyone else (other)\n",
    " "
   ]
  },
  {
   "cell_type": "markdown",
   "metadata": {},
   "source": [
    "## File Type\n",
    "\n",
    "![alt_text](./images/file_types.png)\n",
    " "
   ]
  },
  {
   "cell_type": "markdown",
   "metadata": {},
   "source": [
    "## File permissions: CHMOD\n",
    "\n",
    "\"change mode\"\n",
    "\n",
    "![alt_text](./images/chmod.png)\n",
    "    \n",
    "\n",
    "\n",
    "Two ways to describe permissions, letters, as below, and octal values\n",
    "\n",
    "```u = user, g = group, o = other, a = all```\n",
    "\n",
    "`+/-`\n",
    "\n",
    "`r` = read, `w` = write, `x` = execute\n",
    "\n",
    "u+w, g-w, o-rwx, a+x, etc.\n",
    "\n",
    "Try `chmod a-w file` and then use vi to edit it\n",
    "\n",
    "Also, checkout:  https://chmod-calculator.com  Great for the occasional chmod user. \n",
    "\n",
    "### What do directory permissions mean?\t\n",
    "\n",
    "- r = read the directory (ls)\n",
    "- w = write to the directory (rm, create new file)\n",
    "- x = entering or passing through a dir\n",
    "\n",
    "- Each component (directory) of a path must be \"executable\" in order for you to enter than directory\n",
    "\n",
    "- Think of the x as a swinging door–when the x is there, the door is OPEN, but when it's missing, the door is CLOSED\n",
    "\n",
    "- So at the very least, your dir has to be executable for someone to access it or anything in it"
   ]
  },
  {
   "cell_type": "markdown",
   "metadata": {},
   "source": [
    "## File Permissions: octal modes\n",
    "\n",
    "- Old School \n",
    "\n",
    "- The r, w, and x letters are niceties for humans\n",
    "\n",
    "- Internally, the permissions are represented as octal ",
    "(base 8) numbers\n",
    "\n",
    "    - 4 = read\n",
    "    - 2 = write\n",
    "    - 1 = execute\n",
    "\n",
    "\n",
    "- If you pefer to make your life harder or just like numbers more than letters, you can skip the human consessions and work with the bare numbers directly.  \n",
    "\n",
    "```\n",
    "-rwxrwxrwx = 777\n",
    "-rw-rw-rw- = 666\n",
    "-rw-r--r-- = 644\n",
    "-rw------- = 600\n",
    "\n",
    "chmod 755 file\n",
    "```\n",
    "\n",
    "\n"
   ]
  },
  {
   "cell_type": "markdown",
   "metadata": {},
   "source": [
    "## File Permissions: umask\n",
    "\n",
    "user \"mask\" which dictates the permissions of all new files you create\n",
    "\n",
    "the umask value is subtracted from 0777 for directories and 0666 for files to yield the permissions that will be given to newly-created files\n",
    "\n",
    "![alt_text](./images/umask.png)\n",
    "    "
   ]
  },
  {
   "cell_type": "markdown",
   "metadata": {},
   "source": [
    "## Lab: umask\n",
    "\n",
    "- Type `umask` to see what your mask is, e.g., 0002\n",
    "- Type `umask -S` to see the resulting permissions in a more user-friendly (Symbolic) fashion\n",
    "- Set your umask, e.g., 0026\n",
    "- Now create a new file… > newfile\n",
    "- Verify the permissions via `ls -l newfile`"
   ]
  },
  {
   "cell_type": "markdown",
   "metadata": {},
   "source": [
    "## Find: finding files\n",
    "\n",
    "Many, many options...basic syntax: find where what\n",
    "\n",
    "- `find ~ -type d`\n",
    "\n",
    "- find all (sub)directories in your home dir (and below)\n",
    "\n",
    "- ```find ~ -type f``` find all files in your home dir (and below)\n",
    "- ```find . -empty``` find all empty files in the current dir (and below)\n",
    "- `find . -size +500c -type f | xargs ls -l` find all files in your home dir (and below) which contain more than 500 bytes (and then run ls -l just to verify the sizes)"
   ]
  },
  {
   "cell_type": "markdown",
   "metadata": {},
   "source": [
    "## Lab: Find\n",
    "- find all files in your home directory but not the directories below it \n",
    "- find all files in your home directory (and below) which have exactly 2 links\n",
    "- find and delete all zero length files in some directory\n",
    "- find all files which have been modified more recently than some file in this directory\n",
    "- try with an old file, then try with a newly-created file (and you should see than no files were modified more recently than this newly-created file)"
   ]
  },
  {
   "cell_type": "code",
   "execution_count": null,
   "metadata": {
    "scrolled": false
   },
   "outputs": [],
   "source": []
  },
  {
   "cell_type": "markdown",
   "metadata": {},
   "source": [
    "## Users on a Linux system\n",
    "\n",
    "There are two types of users on a Linux system:\n",
    "\n",
    "- regular users\n",
    "\n",
    "    limited by permissions of files (either your own or those that belong to other users)\n",
    "\n",
    "For example, look at contents of /etc/shadow\n",
    "\n",
    "- the root user\n",
    "\n",
    "    root can do anything\n",
    "\n",
    "Typically root cannot log in directly, you must log in as a regular user and then \"become\" root"
   ]
  },
  {
   "cell_type": "markdown",
   "metadata": {},
   "source": [
    "## su\n",
    "- `su user` allows you to switch (substitute) to a different user\n",
    "- `su - user` will do a full login\n",
    "- `su` with no arguments allows you to become root (assuming you know the password)\n",
    "at this point the only other user we can \"become\" is root, since there are no other users on our system\n",
    "\n"
   ]
  },
  {
   "cell_type": "markdown",
   "metadata": {},
   "source": [
    "## sudo\n",
    "- `sudo` (often pronounced \"pseudo\", even though \"su do\") allows regular users to do things as root, without giving them the root password\n",
    "in order to sudo, you enter your own password\n",
    "- can only run sudo if you are listed in `/etc/sudoers`, or you are in the wheel (\"big wheel\") group (on RedHat/CentOS)\n",
    "- sudo caches your password for 5 minutes so that you don't have to re-enter your password every time you run sudo (unless > 5 minutes have gone by)\n",
    "- `visudo` lets you edit the `/etc/sudoers` file"
   ]
  },
  {
   "cell_type": "markdown",
   "metadata": {},
   "source": [
    "## Lab: sudo\n",
    "\n",
    "- use `sudo` to view the file /etc/shadow\n",
    "- use `sudo` to install the package cowsay, `sudo yum install cosway` cosway is a funny little program that does ascii art. Try it - type `cosway hello` and see what happens\n",
    "- use `sudo bash` to start up a root shell"
   ]
  },
  {
   "cell_type": "markdown",
   "metadata": {},
   "source": [
    "## Creating New Users\n",
    "\n",
    "- Varies on different flavors of Linux, but most have a command adduser (Debian/Ubutnu has useradd)\n",
    "\n",
    "`adduser name`\n",
    "\n",
    "Will create a user and home directory, but you still need to set a password, which we can do in one of several ways:\n",
    "\n",
    "__`passwd name`__ (interactively change password)\n",
    "\n",
    "__`echo username:password | chpasswd`__\n",
    "\n",
    "You can also use `usermod`, which we'll see shortly, but it's not recommended for changing passwords"
   ]
  },
  {
   "cell_type": "markdown",
   "metadata": {},
   "source": [
    "## Lab: Creating New Users\n",
    "\n",
    "- Create two new users and give them each a password\n",
    "- Ensure that you can log in as both of your new users\n",
    "- Use `su <new user name>` to log in as the newly created user. "
   ]
  },
  {
   "cell_type": "markdown",
   "metadata": {},
   "source": [
    "## Groups\n",
    "\n",
    "- Linux has no access control lists, whereby you can give arbitrary groups of users access to your files; instead you have to create a group for every constellation of users who want access\n",
    "\n",
    "- Groups are defined in `/etc/group`\n",
    "\n",
    "\n",
    "- If you change `/etc/group`, the affected user(s) will have to log out for the changes to take effect\n",
    "\n",
    "- Files have an owner, but are also associated with a group \n",
    "- Every user has a primary group, which by default has the same name as the username \n",
    "- Users may optionally belong to secondary group(s)\n",
    "- Files have an owner, but every file is associated with a group (\"group ownership\")\n",
    "- You can see primary and secondary groups by looking in `/etc/passwd` and `/etc/group` in addition, the groups command tells you what groups you are in \n",
    "- Also check out the `id` command"
   ]
  },
  {
   "cell_type": "markdown",
   "metadata": {},
   "source": [
    "## Lab Groups \n",
    "- Create two new groups called devs and quality\n",
    "- Put a different constellation of two users in each group by manually editing `/etc/group`\n",
    "- Also try adjusting group membership using the usermod command\n",
    "- When you're done ensure that you have at least one user which is not a member of each group (e.g, student might be in devs but not in quality)"
   ]
  },
  {
   "cell_type": "markdown",
   "metadata": {},
   "source": [
    "## chgrp (\"Change group\")\n",
    "\n",
    "- If owner of the file belongs to multiple groups, he or she can change the group associated with the file using this command \n",
    "\n",
    "- We can then use chmod to allow access to members of the group, but forbid access by non-group members\n",
    "\n",
    "`chgrp groupname file`\n",
    "\n",
    "`chgrp -R groupname dir` (recursive)"
   ]
  },
  {
   "cell_type": "markdown",
   "metadata": {},
   "source": [
    "## Lab: chgrp\n",
    "\n",
    "- Log in as one of your regular users\n",
    "- Create a new file and make it group owned by one of your new groups (i.e., not the user's primary group)\n",
    "- Make the file group readable, but completely inaccessible to non-group members (i.e., \"other\" should have no access)\n",
    "- Use `su` to become a different member of the group and ensure you can access the file\n"
   ]
  },
  {
   "cell_type": "markdown",
   "metadata": {},
   "source": [
    "## chown (\"change owner\")\n",
    "\n",
    "\n",
    "changes the owner of a file\n",
    "\n",
    "only root can do this\n",
    "\n",
    "`chown newowner file`\n",
    "\n",
    "`chown -R newowner dir` recursive \n",
    "\n",
    "`chown newowner:newgroup file `\n",
    "changes both owner and group, since it would be painful to have to do these individually"
   ]
  },
  {
   "cell_type": "markdown",
   "metadata": {},
   "source": [
    "## Lab: chown\n",
    "\n",
    "- Make the file you created in the last lab owned by a different member of the group\n",
    "- That is, leave the group ownership alone\n",
    "- Ensure that the original owner of the file can still access it as a group member, but cannot edit the file (because it is no longer owned by the original owner)\n"
   ]
  },
  {
   "cell_type": "markdown",
   "metadata": {},
   "source": [
    "## Processes\n",
    "\n",
    "- A process is a running instance of a program (i.e., executable)\n",
    "\n",
    "- use `ps` to examine processes\n",
    "\n",
    "- `ps aux` will show you all processes\n",
    "`a` = ALL\n",
    "`u` = display user/owner of process\n",
    "`x` = display processes which are not attached to a terminal (i.e., daemon processes)\n",
    "\n",
    "- Each process has a unique *PID* (process id), but after the process exits and the parent process has retrieved the exit status, the **PID** can be reused by a new process\n",
    "\n",
    "---\n",
    "\n",
    "- PPID = parent process ID\n",
    "- PGID = process group ID\n",
    "- if PID == PGID the process is a group leader\n",
    "- SID = session ID\n",
    "- if PID == SID the process is a session leader\n",
    "- Sessions and process groups are just ways to treat a number of related processes as a unit\n",
    "- All members of a process group always belong to the same session, but a session may have multiple process groups\n",
    "- Typically, a shell will be a session leader, and every pipeline executed by that shell will be a process group\n",
    "- This is to make it easy to kill the children of a shell when it exits\n",
    "\n",
    "\n",
    "---\n",
    "\n",
    "- process states, additional info which is displayed when using BSD mode\n",
    " `<`    high-priority (not nice to other users)\n",
    " `N`    low-priority (nice to other users)\n",
    " `s`     a session leader\n",
    " `+`    is in the foreground process group\n",
    "\n",
    "- The priority of a process determines how much CPU time a process will receive\n",
    "by default, priority = 0 negative = HIGHER priority, positive = LOWER priority <    high-priority (not nice to other users)"
   ]
  },
  {
   "cell_type": "markdown",
   "metadata": {},
   "source": [
    "## Adjusting Process Priority\n",
    "\n",
    "- `nice` = command which lets you launch a process with a non-zero priority\n",
    "\n",
    "- regular users can lower their priority (larger number) but cannot raise the priority above 0 (smaller numbers)\n",
    "\n",
    "- `renice` = alter the priority of an already-running process as above, only **root** can raise the priority of a process (negative numbers)\n",
    "\n"
   ]
  },
  {
   "cell_type": "markdown",
   "metadata": {},
   "source": [
    "## Sending Signals to Processes\n",
    "\n",
    "- `kill` = command which sends a signal to a process, possible killing it\n",
    "shell builtin (formerly a program)\n",
    "\n",
    "try `kill -l` to see a list of signals which can be sent to a process\n",
    "\n",
    "`SIGHUP` = hangup\n",
    "sent to all child processes when shell exits\n",
    "\n",
    "also sent to daemon processes when you want to tell it to re-read its configuration file\n",
    "\n",
    "- `SIGINT = ctrl-C`\n",
    "- `SIGQQUIT = ctrl-\\`\n",
    "- `SIGKILL = die, die, die (cannot be caught or ignored)`\n",
    "\n"
   ]
  },
  {
   "cell_type": "markdown",
   "metadata": {},
   "source": [
    "## Archiving files/directories: Tar\n",
    "\n",
    "Like zip on Windows \n",
    "\n",
    "It's often the case that you want to take a whole directory tree and transfer it elsewhere, either to another user, another machine, etc.\n",
    "\n",
    "- `tar` (tape archive)\n",
    "- `c` = create archive\n",
    "- `t` = show contents of archive\n",
    "- `x` = extract\n",
    "- `z` = compress/uncompress with gzip\n",
    "- `f` = to/from a file (as opposed to a tape)\n",
    "\n",
    "### Examples:\n",
    "\n",
    "- ```tar cf archive.tar file1 file2 ```\n",
    "- ```tar tf archive.tar```\n",
    "- ```tar xf archive.tar```\n",
    "- ```tar cvfz archive.tgz file1 file2```\n",
    "- ```tar xvfz archive.tgz```\n"
   ]
  },
  {
   "cell_type": "markdown",
   "metadata": {},
   "source": [
    "## File compression\n",
    "\n",
    "if you have a large file and want to transfer it elsewhere, it can be convenient to compress it first using `tar` as above or you can use `gzip` \n",
    "\n",
    "- `gzip large-file`\n",
    "- `gunzip large-file.gz`\n",
    "- `bzip2 large-file`\n",
    "- `bunzip2 large-file.z2`\n",
    "\n",
    "(you might need to install bzip2)\n",
    "\n",
    "Remember how I said there is usually more than one way to do things in Linux?\n"
   ]
  },
  {
   "cell_type": "markdown",
   "metadata": {},
   "source": [
    "## Data File Formats\n",
    "- Background \n",
    "- XML\n",
    "- JSON\n",
    "- CSV\n",
    "\n"
   ]
  },
  {
   "cell_type": "markdown",
   "metadata": {},
   "source": [
    "## XML  eXtensible Markup Language \n",
    "\n",
    "google says: xml is a metalanguage which allows users to define their own customized markup languages, especially in order to display documents on the Internet.\n",
    "\n",
    "- XML stands for eXtensible Markup Language\n",
    "- XML is a markup language much like HTML\n",
    "- XML was designed to store and transport data\n",
    "- XML was designed to be self-descriptive\n",
    "- XML is a W3C Recommendation\n",
    "\n",
    "```\n",
    "<note>\n",
    "  <to>Spencer</to>\n",
    "  <from>Dave</from>\n",
    "  <subject>Reminder</subject>\n",
    "  <body>Don't forget to talk about XML!</body>\n",
    "</note>\n",
    "```\n",
    "\n",
    "- XML and HTML were designed with different goals:\n",
    "\n",
    "- XML was designed to carry data - with focus on what data is\n",
    "- HTML was designed to display data - with focus on how data looks\n",
    "- XML tags are not predefined like HTML tags are (That's the extensible part) \n",
    "\n",
    "- Standardized parsing \n",
    "\n",
    "- Well Formed \n",
    "\n",
    "- Validated \n",
    "\n",
    "- Elements\n",
    "    `<element>text</element>`\n",
    "    \n",
    "    `<element\\>`\n",
    "    \n",
    "- Attributes\n",
    "     \n",
    "    ```<Person name=\"spencer\" age=\"101\"/> ```\n",
    "     \n",
    "    \n",
    "    \n"
   ]
  },
  {
   "cell_type": "markdown",
   "metadata": {},
   "source": [
    "## JSON (JavaScript Object Notation)\n",
    "\n",
    "JSON is a lightweight format for storing and transporting data\n",
    "\n",
    "JSON is often used when data is sent from a server to a web page\n",
    "\n",
    "JSON is a reaction to what some consider XML's verbosity \n",
    "\n",
    "Like XML JSON can be self describing \n",
    "\n",
    "```\n",
    "{\n",
    "\"employees\":[\n",
    "    {\"firstName\":\"John\", \"lastName\":\"Doe\"}, \n",
    "    {\"firstName\":\"Anna\", \"lastName\":\"Smith\"},\n",
    "    {\"firstName\":\"Peter\", \"lastName\":\"Jones\"}\n",
    "]\n",
    "}\n",
    "```\n",
    "\n",
    "### JSON Syntax Rules\n",
    "- Data is in name/value pairs\n",
    "- Data is separated by commas\n",
    "- Curly braces hold objects\n",
    "- Square brackets hold arrays\n",
    "\n",
    "### JavaScript Object Notation\n",
    "\n",
    "- The JSON format is syntactically identical to the code for creating JavaScript objects.\n",
    "\n",
    "- Because of this, a JavaScript program can easily convert JSON data into native JavaScript objects.\n",
    "\n",
    "Parsing is pretty standard "
   ]
  },
  {
   "cell_type": "markdown",
   "metadata": {},
   "source": [
    "## CSV (comma separated value) \n",
    "\n",
    "A Comma Separated Values (CSV) file is a plain text file that contains a list of data. These files are often used for exchanging data between different applications. For example, databases and contact managers often support CSV files.\n",
    "\n",
    "These files may sometimes be called Character Separated Values or Comma Delimited files. They mostly use the comma character to separate (or delimit) data, but sometimes use other characters, like semicolons. The idea is that you can export complex data from one application to a CSV file, and then import the data in that CSV file into another application.\n",
    "\n",
    "- An older format for a more primitive (sorry not civilized) time. \n",
    "\n",
    "- Parsing is anyting but standard \n",
    "\n",
    "- Still widely used\n",
    "\n",
    "Spreadsheet programs read and write CSV\n",
    "\n",
    "```\n",
    "Name,Email,Phone Number,Address\n",
    "\n",
    "Bob Smith,bob@example.com,123-456-7890,123 Fake Street\n",
    "\n",
    "Mike Jones,mike@example.com,098-765-4321,321 Fake Avenue\n",
    "```\n"
   ]
  },
  {
   "cell_type": "markdown",
   "metadata": {},
   "source": [
    "## Not the end\n",
    "### know where to find answers\n",
    "\n",
    "- man/info pages\n",
    "- stackoverflow\n",
    "- your peers\n",
    "\n",
    "It's not about knowing, but rather, it's about knowing how to know "
   ]
  }
 ],
 "metadata": {
  "celltoolbar": "Slideshow",
  "kernelspec": {
   "display_name": "Python 3",
   "language": "python",
   "name": "python3"
  },
  "language_info": {
   "codemirror_mode": {
    "name": "ipython",
    "version": 3
   },
   "file_extension": ".py",
   "mimetype": "text/x-python",
   "name": "python",
   "nbconvert_exporter": "python",
   "pygments_lexer": "ipython3",
   "version": "3.8.10"
  }
 },
 "nbformat": 4,
 "nbformat_minor": 2
}
