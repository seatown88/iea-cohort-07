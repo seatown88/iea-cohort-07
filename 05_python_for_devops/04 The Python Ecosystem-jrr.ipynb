{
 "cells": [
  {
   "cell_type": "markdown",
   "metadata": {},
   "source": [
    "# The Python Ecosystem - Packages, tools, distributions"
   ]
  },
  {
   "cell_type": "markdown",
   "metadata": {},
   "source": [
    "## The Python Package Index\n",
    "* https://pypi.python.org\n",
    "* Online repository of packages submitted by the community\n",
    "* Buyer Beware!\n",
    "* Organizations can set up their own internal mirror of the index https://packaging.python.org/en/latest/guides/hosting-your-own-index/"
   ]
  },
  {
   "cell_type": "markdown",
   "metadata": {},
   "source": [
    "## Installing Python Packages\n",
    "The `pip` tool is the most common way to install Python packages.  It's easy to install if not already pre-installed with your Python installation, and easy to use.  It has a lot of capability for installing from different locations, but by default installs from the Python Package Index"
   ]
  },
  {
   "cell_type": "code",
   "execution_count": 1,
   "metadata": {},
   "outputs": [
    {
     "name": "stdout",
     "output_type": "stream",
     "text": [
      "Defaulting to user installation because normal site-packages is not writeable\n",
      "Requirement already satisfied: requests in /home/jr/.local/lib/python3.7/site-packages (2.25.1)\n",
      "Requirement already satisfied: chardet<5,>=3.0.2 in /usr/local/lib/python3.7/site-packages (from requests) (3.0.4)\n",
      "Requirement already satisfied: certifi>=2017.4.17 in /usr/local/lib/python3.7/site-packages (from requests) (2019.6.16)\n",
      "Requirement already satisfied: idna<3,>=2.5 in /usr/local/lib/python3.7/site-packages (from requests) (2.8)\n",
      "Requirement already satisfied: urllib3<1.27,>=1.21.1 in /usr/local/lib/python3.7/site-packages (from requests) (1.25.3)\n"
     ]
    },
    {
     "name": "stderr",
     "output_type": "stream",
     "text": [
      "WARNING: You are using pip version 21.0.1; however, version 22.1 is available.\n",
      "You should consider upgrading via the '/bin/python3 -m pip install --upgrade pip' command.\n"
     ]
    }
   ],
   "source": [
    "%%bash\n",
    "# Install the \"requests\" package (latest version)\n",
    "pip install requests"
   ]
  },
  {
   "cell_type": "markdown",
   "metadata": {},
   "source": [
    "### Pip Defaults to:\n",
    "- Installing packages from the Python Package Index\n",
    "- Installing package to your system-wide Python directory (if root)\n",
    "- Installing packages for the version of Python pip was installed with"
   ]
  },
  {
   "cell_type": "code",
   "execution_count": 2,
   "metadata": {},
   "outputs": [
    {
     "name": "stdout",
     "output_type": "stream",
     "text": [
      "Requirement already satisfied: requests in /home/jr/.local/lib/python3.7/site-packages (2.25.1)\n",
      "Requirement already satisfied: chardet<5,>=3.0.2 in /usr/local/lib/python3.7/site-packages (from requests) (3.0.4)\n",
      "Requirement already satisfied: certifi>=2017.4.17 in /usr/local/lib/python3.7/site-packages (from requests) (2019.6.16)\n",
      "Requirement already satisfied: idna<3,>=2.5 in /usr/local/lib/python3.7/site-packages (from requests) (2.8)\n",
      "Requirement already satisfied: urllib3<1.27,>=1.21.1 in /usr/local/lib/python3.7/site-packages (from requests) (1.25.3)\n"
     ]
    },
    {
     "name": "stderr",
     "output_type": "stream",
     "text": [
      "WARNING: You are using pip version 21.0.1; however, version 22.1 is available.\n",
      "You should consider upgrading via the '/bin/python3 -m pip install --upgrade pip' command.\n"
     ]
    }
   ],
   "source": [
    "%%bash\n",
    "# Install the \"requests\" package into your own home directory (in a .local directory by default)\n",
    "pip install --user requests"
   ]
  },
  {
   "cell_type": "code",
   "execution_count": 3,
   "metadata": {
    "scrolled": true
   },
   "outputs": [
    {
     "name": "stdout",
     "output_type": "stream",
     "text": [
      "Collecting requests==2.24.0\n",
      "  Using cached requests-2.24.0-py2.py3-none-any.whl (61 kB)\n",
      "Requirement already satisfied: urllib3!=1.25.0,!=1.25.1,<1.26,>=1.21.1 in /usr/local/lib/python3.7/site-packages (from requests==2.24.0) (1.25.3)\n",
      "Requirement already satisfied: chardet<4,>=3.0.2 in /usr/local/lib/python3.7/site-packages (from requests==2.24.0) (3.0.4)\n",
      "Requirement already satisfied: certifi>=2017.4.17 in /usr/local/lib/python3.7/site-packages (from requests==2.24.0) (2019.6.16)\n",
      "Requirement already satisfied: idna<3,>=2.5 in /usr/local/lib/python3.7/site-packages (from requests==2.24.0) (2.8)\n",
      "Installing collected packages: requests\n",
      "  Attempting uninstall: requests\n",
      "    Found existing installation: requests 2.25.1\n",
      "    Uninstalling requests-2.25.1:\n",
      "      Successfully uninstalled requests-2.25.1\n",
      "Successfully installed requests-2.24.0\n"
     ]
    },
    {
     "name": "stderr",
     "output_type": "stream",
     "text": [
      "WARNING: You are using pip version 21.0.1; however, version 22.1 is available.\n",
      "You should consider upgrading via the '/bin/python3 -m pip install --upgrade pip' command.\n"
     ]
    }
   ],
   "source": [
    "%%bash\n",
    "# \"Downgrade\" requests to a specific version\n",
    "pip install --upgrade --user requests==2.24.0"
   ]
  },
  {
   "cell_type": "code",
   "execution_count": 6,
   "metadata": {},
   "outputs": [
    {
     "name": "stdout",
     "output_type": "stream",
     "text": [
      "Found existing installation: requests 2.24.0\n",
      "Uninstalling requests-2.24.0:\n",
      "  Would remove:\n",
      "    /home/jr/.local/lib/python3.7/site-packages/requests-2.24.0.dist-info/*\n",
      "    /home/jr/.local/lib/python3.7/site-packages/requests/*\n",
      "Proceed (y/n)? "
     ]
    },
    {
     "name": "stderr",
     "output_type": "stream",
     "text": [
      "ERROR: Exception:\n",
      "Traceback (most recent call last):\n",
      "  File \"/usr/local/lib/python3.7/site-packages/pip/_internal/cli/base_command.py\", line 189, in _main\n",
      "    status = self.run(options, args)\n",
      "  File \"/usr/local/lib/python3.7/site-packages/pip/_internal/commands/uninstall.py\", line 88, in run\n",
      "    auto_confirm=options.yes, verbose=self.verbosity > 0,\n",
      "  File \"/usr/local/lib/python3.7/site-packages/pip/_internal/req/req_install.py\", line 658, in uninstall\n",
      "    uninstalled_pathset.remove(auto_confirm, verbose)\n",
      "  File \"/usr/local/lib/python3.7/site-packages/pip/_internal/req/req_uninstall.py\", line 394, in remove\n",
      "    if auto_confirm or self._allowed_to_proceed(verbose):\n",
      "  File \"/usr/local/lib/python3.7/site-packages/pip/_internal/req/req_uninstall.py\", line 437, in _allowed_to_proceed\n",
      "    return ask('Proceed (y/n)? ', ('y', 'n')) == 'y'\n",
      "  File \"/usr/local/lib/python3.7/site-packages/pip/_internal/utils/misc.py\", line 222, in ask\n",
      "    response = input(message)\n",
      "EOFError: EOF when reading a line\n"
     ]
    },
    {
     "ename": "CalledProcessError",
     "evalue": "Command 'b'# Remove requests package\\npip uninstall requests\\n'' returned non-zero exit status 2.",
     "output_type": "error",
     "traceback": [
      "\u001b[0;31m---------------------------------------------------------------------------\u001b[0m",
      "\u001b[0;31mCalledProcessError\u001b[0m                        Traceback (most recent call last)",
      "\u001b[0;32m<ipython-input-6-8a5b384c0709>\u001b[0m in \u001b[0;36m<module>\u001b[0;34m\u001b[0m\n\u001b[0;32m----> 1\u001b[0;31m \u001b[0mget_ipython\u001b[0m\u001b[0;34m(\u001b[0m\u001b[0;34m)\u001b[0m\u001b[0;34m.\u001b[0m\u001b[0mrun_cell_magic\u001b[0m\u001b[0;34m(\u001b[0m\u001b[0;34m'bash'\u001b[0m\u001b[0;34m,\u001b[0m \u001b[0;34m''\u001b[0m\u001b[0;34m,\u001b[0m \u001b[0;34m'# Remove requests package\\npip uninstall requests\\n'\u001b[0m\u001b[0;34m)\u001b[0m\u001b[0;34m\u001b[0m\u001b[0;34m\u001b[0m\u001b[0m\n\u001b[0m",
      "\u001b[0;32m/usr/local/lib/python3.7/site-packages/IPython/core/interactiveshell.py\u001b[0m in \u001b[0;36mrun_cell_magic\u001b[0;34m(self, magic_name, line, cell)\u001b[0m\n\u001b[1;32m   2356\u001b[0m             \u001b[0;32mwith\u001b[0m \u001b[0mself\u001b[0m\u001b[0;34m.\u001b[0m\u001b[0mbuiltin_trap\u001b[0m\u001b[0;34m:\u001b[0m\u001b[0;34m\u001b[0m\u001b[0;34m\u001b[0m\u001b[0m\n\u001b[1;32m   2357\u001b[0m                 \u001b[0margs\u001b[0m \u001b[0;34m=\u001b[0m \u001b[0;34m(\u001b[0m\u001b[0mmagic_arg_s\u001b[0m\u001b[0;34m,\u001b[0m \u001b[0mcell\u001b[0m\u001b[0;34m)\u001b[0m\u001b[0;34m\u001b[0m\u001b[0;34m\u001b[0m\u001b[0m\n\u001b[0;32m-> 2358\u001b[0;31m                 \u001b[0mresult\u001b[0m \u001b[0;34m=\u001b[0m \u001b[0mfn\u001b[0m\u001b[0;34m(\u001b[0m\u001b[0;34m*\u001b[0m\u001b[0margs\u001b[0m\u001b[0;34m,\u001b[0m \u001b[0;34m**\u001b[0m\u001b[0mkwargs\u001b[0m\u001b[0;34m)\u001b[0m\u001b[0;34m\u001b[0m\u001b[0;34m\u001b[0m\u001b[0m\n\u001b[0m\u001b[1;32m   2359\u001b[0m             \u001b[0;32mreturn\u001b[0m \u001b[0mresult\u001b[0m\u001b[0;34m\u001b[0m\u001b[0;34m\u001b[0m\u001b[0m\n\u001b[1;32m   2360\u001b[0m \u001b[0;34m\u001b[0m\u001b[0m\n",
      "\u001b[0;32m/usr/local/lib/python3.7/site-packages/IPython/core/magics/script.py\u001b[0m in \u001b[0;36mnamed_script_magic\u001b[0;34m(line, cell)\u001b[0m\n\u001b[1;32m    140\u001b[0m             \u001b[0;32melse\u001b[0m\u001b[0;34m:\u001b[0m\u001b[0;34m\u001b[0m\u001b[0;34m\u001b[0m\u001b[0m\n\u001b[1;32m    141\u001b[0m                 \u001b[0mline\u001b[0m \u001b[0;34m=\u001b[0m \u001b[0mscript\u001b[0m\u001b[0;34m\u001b[0m\u001b[0;34m\u001b[0m\u001b[0m\n\u001b[0;32m--> 142\u001b[0;31m             \u001b[0;32mreturn\u001b[0m \u001b[0mself\u001b[0m\u001b[0;34m.\u001b[0m\u001b[0mshebang\u001b[0m\u001b[0;34m(\u001b[0m\u001b[0mline\u001b[0m\u001b[0;34m,\u001b[0m \u001b[0mcell\u001b[0m\u001b[0;34m)\u001b[0m\u001b[0;34m\u001b[0m\u001b[0;34m\u001b[0m\u001b[0m\n\u001b[0m\u001b[1;32m    143\u001b[0m \u001b[0;34m\u001b[0m\u001b[0m\n\u001b[1;32m    144\u001b[0m         \u001b[0;31m# write a basic docstring:\u001b[0m\u001b[0;34m\u001b[0m\u001b[0;34m\u001b[0m\u001b[0;34m\u001b[0m\u001b[0m\n",
      "\u001b[0;32m</usr/local/lib/python3.7/site-packages/decorator.py:decorator-gen-110>\u001b[0m in \u001b[0;36mshebang\u001b[0;34m(self, line, cell)\u001b[0m\n",
      "\u001b[0;32m/usr/local/lib/python3.7/site-packages/IPython/core/magic.py\u001b[0m in \u001b[0;36m<lambda>\u001b[0;34m(f, *a, **k)\u001b[0m\n\u001b[1;32m    185\u001b[0m     \u001b[0;31m# but it's overkill for just that one bit of state.\u001b[0m\u001b[0;34m\u001b[0m\u001b[0;34m\u001b[0m\u001b[0;34m\u001b[0m\u001b[0m\n\u001b[1;32m    186\u001b[0m     \u001b[0;32mdef\u001b[0m \u001b[0mmagic_deco\u001b[0m\u001b[0;34m(\u001b[0m\u001b[0marg\u001b[0m\u001b[0;34m)\u001b[0m\u001b[0;34m:\u001b[0m\u001b[0;34m\u001b[0m\u001b[0;34m\u001b[0m\u001b[0m\n\u001b[0;32m--> 187\u001b[0;31m         \u001b[0mcall\u001b[0m \u001b[0;34m=\u001b[0m \u001b[0;32mlambda\u001b[0m \u001b[0mf\u001b[0m\u001b[0;34m,\u001b[0m \u001b[0;34m*\u001b[0m\u001b[0ma\u001b[0m\u001b[0;34m,\u001b[0m \u001b[0;34m**\u001b[0m\u001b[0mk\u001b[0m\u001b[0;34m:\u001b[0m \u001b[0mf\u001b[0m\u001b[0;34m(\u001b[0m\u001b[0;34m*\u001b[0m\u001b[0ma\u001b[0m\u001b[0;34m,\u001b[0m \u001b[0;34m**\u001b[0m\u001b[0mk\u001b[0m\u001b[0;34m)\u001b[0m\u001b[0;34m\u001b[0m\u001b[0;34m\u001b[0m\u001b[0m\n\u001b[0m\u001b[1;32m    188\u001b[0m \u001b[0;34m\u001b[0m\u001b[0m\n\u001b[1;32m    189\u001b[0m         \u001b[0;32mif\u001b[0m \u001b[0mcallable\u001b[0m\u001b[0;34m(\u001b[0m\u001b[0marg\u001b[0m\u001b[0;34m)\u001b[0m\u001b[0;34m:\u001b[0m\u001b[0;34m\u001b[0m\u001b[0;34m\u001b[0m\u001b[0m\n",
      "\u001b[0;32m/usr/local/lib/python3.7/site-packages/IPython/core/magics/script.py\u001b[0m in \u001b[0;36mshebang\u001b[0;34m(self, line, cell)\u001b[0m\n\u001b[1;32m    243\u001b[0m             \u001b[0msys\u001b[0m\u001b[0;34m.\u001b[0m\u001b[0mstderr\u001b[0m\u001b[0;34m.\u001b[0m\u001b[0mflush\u001b[0m\u001b[0;34m(\u001b[0m\u001b[0;34m)\u001b[0m\u001b[0;34m\u001b[0m\u001b[0;34m\u001b[0m\u001b[0m\n\u001b[1;32m    244\u001b[0m         \u001b[0;32mif\u001b[0m \u001b[0margs\u001b[0m\u001b[0;34m.\u001b[0m\u001b[0mraise_error\u001b[0m \u001b[0;32mand\u001b[0m \u001b[0mp\u001b[0m\u001b[0;34m.\u001b[0m\u001b[0mreturncode\u001b[0m\u001b[0;34m!=\u001b[0m\u001b[0;36m0\u001b[0m\u001b[0;34m:\u001b[0m\u001b[0;34m\u001b[0m\u001b[0;34m\u001b[0m\u001b[0m\n\u001b[0;32m--> 245\u001b[0;31m             \u001b[0;32mraise\u001b[0m \u001b[0mCalledProcessError\u001b[0m\u001b[0;34m(\u001b[0m\u001b[0mp\u001b[0m\u001b[0;34m.\u001b[0m\u001b[0mreturncode\u001b[0m\u001b[0;34m,\u001b[0m \u001b[0mcell\u001b[0m\u001b[0;34m,\u001b[0m \u001b[0moutput\u001b[0m\u001b[0;34m=\u001b[0m\u001b[0mout\u001b[0m\u001b[0;34m,\u001b[0m \u001b[0mstderr\u001b[0m\u001b[0;34m=\u001b[0m\u001b[0merr\u001b[0m\u001b[0;34m)\u001b[0m\u001b[0;34m\u001b[0m\u001b[0;34m\u001b[0m\u001b[0m\n\u001b[0m\u001b[1;32m    246\u001b[0m \u001b[0;34m\u001b[0m\u001b[0m\n\u001b[1;32m    247\u001b[0m     \u001b[0;32mdef\u001b[0m \u001b[0m_run_script\u001b[0m\u001b[0;34m(\u001b[0m\u001b[0mself\u001b[0m\u001b[0;34m,\u001b[0m \u001b[0mp\u001b[0m\u001b[0;34m,\u001b[0m \u001b[0mcell\u001b[0m\u001b[0;34m,\u001b[0m \u001b[0mto_close\u001b[0m\u001b[0;34m)\u001b[0m\u001b[0;34m:\u001b[0m\u001b[0;34m\u001b[0m\u001b[0;34m\u001b[0m\u001b[0m\n",
      "\u001b[0;31mCalledProcessError\u001b[0m: Command 'b'# Remove requests package\\npip uninstall requests\\n'' returned non-zero exit status 2."
     ]
    }
   ],
   "source": [
    "%%bash\n",
    "# Remove requests package\n",
    "pip uninstall requests"
   ]
  },
  {
   "cell_type": "code",
   "execution_count": 7,
   "metadata": {},
   "outputs": [
    {
     "name": "stdout",
     "output_type": "stream",
     "text": [
      "Collecting requests==2.25.1\n",
      "  Using cached requests-2.25.1-py2.py3-none-any.whl (61 kB)\n",
      "Requirement already satisfied: idna<3,>=2.5 in /usr/local/lib/python3.7/site-packages (from requests==2.25.1) (2.8)\n",
      "Requirement already satisfied: certifi>=2017.4.17 in /usr/local/lib/python3.7/site-packages (from requests==2.25.1) (2019.6.16)\n",
      "Requirement already satisfied: chardet<5,>=3.0.2 in /usr/local/lib/python3.7/site-packages (from requests==2.25.1) (3.0.4)\n",
      "Requirement already satisfied: urllib3<1.27,>=1.21.1 in /usr/local/lib/python3.7/site-packages (from requests==2.25.1) (1.25.3)\n",
      "Installing collected packages: requests\n",
      "Successfully installed requests-2.25.1\n"
     ]
    },
    {
     "name": "stderr",
     "output_type": "stream",
     "text": [
      "WARNING: You are using pip version 21.0.1; however, version 22.1 is available.\n",
      "You should consider upgrading via the '/usr/bin/python3.7 -m pip install --upgrade pip' command.\n"
     ]
    }
   ],
   "source": [
    "%%bash\n",
    "# Ensure you're installing for a specific version of Python (3.7 in this case)\n",
    "python3.7 -m pip install --user requests==2.25.1"
   ]
  },
  {
   "cell_type": "markdown",
   "metadata": {},
   "source": [
    "### Pip can specify versions in a lot of ways\n",
    "* Minimums:  requests>=2.25\n",
    "* Maximums:  requests<3.0\n",
    "* Ranges:    requests>=2.0,<3.0\n",
    "* Specific version:  requests==2.25.1\n",
    "\n",
    "There are several combinations of these available.  Pip follows a PEP standard way of specifying version numbers, found here:  https://www.python.org/dev/peps/pep-0440/#version-specifiers"
   ]
  },
  {
   "cell_type": "markdown",
   "metadata": {},
   "source": [
    "### What if you need multiple packages?  With specific versions of some?\n",
    "pip can accept multiple packages (as many as you like) for the install command"
   ]
  },
  {
   "cell_type": "code",
   "execution_count": 10,
   "metadata": {},
   "outputs": [
    {
     "name": "stderr",
     "output_type": "stream",
     "text": [
      "WARNING: You are using pip version 21.0.1; however, version 22.1 is available.\n",
      "You should consider upgrading via the '/bin/python3 -m pip install --upgrade pip' command.\n"
     ]
    }
   ],
   "source": [
    "%%bash\n",
    "pip install --user requests>=2.25 pytest==6.2.3 pytest-mock==3.5.1 python-dateutil"
   ]
  },
  {
   "cell_type": "markdown",
   "metadata": {},
   "source": [
    "### That works well, but imagine your project now has 10 dependencies... or 20... or 30\n",
    "Specifying and installing packages manually for every project, or every new machine you want to use a project on is tedious and error prone.  There's got to be a better way!"
   ]
  },
  {
   "cell_type": "markdown",
   "metadata": {},
   "source": [
    "### requirements.txt - The Better Way\n",
    "The requirements.txt file is a simple way to specify the requirements of your projects so they can be easily reproduced by whomever is using your package on any machine where you want to run it.\n",
    "The file is simply a list of the packages to install, one per line, with version specifiers the same way pip uses them."
   ]
  },
  {
   "cell_type": "code",
   "execution_count": 14,
   "metadata": {},
   "outputs": [
    {
     "name": "stdout",
     "output_type": "stream",
     "text": [
      "requests>=2.25\r\n",
      "pytest==6.2.3\r\n",
      "pytest-mock==3.5.1\r\n",
      "python-dateutil\r\n"
     ]
    }
   ],
   "source": [
    "!cat requirements.txt"
   ]
  },
  {
   "cell_type": "code",
   "execution_count": 13,
   "metadata": {},
   "outputs": [
    {
     "name": "stdout",
     "output_type": "stream",
     "text": [
      "Requirement already satisfied: requests>=2.25 in /home/jr/.local/lib/python3.7/site-packages (from -r requirements.txt (line 1)) (2.25.1)\n",
      "Requirement already satisfied: pytest==6.2.3 in /home/jr/.local/lib/python3.7/site-packages (from -r requirements.txt (line 2)) (6.2.3)\n",
      "Requirement already satisfied: pytest-mock==3.5.1 in /home/jr/.local/lib/python3.7/site-packages (from -r requirements.txt (line 3)) (3.5.1)\n",
      "Requirement already satisfied: python-dateutil in /usr/local/lib/python3.7/site-packages (from -r requirements.txt (line 4)) (2.8.0)\n",
      "Requirement already satisfied: py>=1.8.2 in /home/jr/.local/lib/python3.7/site-packages (from pytest==6.2.3->-r requirements.txt (line 2)) (1.10.0)\n",
      "Requirement already satisfied: toml in /usr/local/lib/python3.7/site-packages (from pytest==6.2.3->-r requirements.txt (line 2)) (0.10.1)\n",
      "Requirement already satisfied: iniconfig in /home/jr/.local/lib/python3.7/site-packages (from pytest==6.2.3->-r requirements.txt (line 2)) (1.1.1)\n",
      "Requirement already satisfied: attrs>=19.2.0 in /home/jr/.local/lib/python3.7/site-packages (from pytest==6.2.3->-r requirements.txt (line 2)) (20.3.0)\n",
      "Requirement already satisfied: importlib-metadata>=0.12 in /usr/local/lib/python3.7/site-packages (from pytest==6.2.3->-r requirements.txt (line 2)) (1.6.0)\n",
      "Requirement already satisfied: packaging in /home/jr/.local/lib/python3.7/site-packages (from pytest==6.2.3->-r requirements.txt (line 2)) (19.2)\n",
      "Requirement already satisfied: pluggy<1.0.0a1,>=0.12 in /usr/local/lib/python3.7/site-packages (from pytest==6.2.3->-r requirements.txt (line 2)) (0.13.1)\n",
      "Requirement already satisfied: idna<3,>=2.5 in /usr/local/lib/python3.7/site-packages (from requests>=2.25->-r requirements.txt (line 1)) (2.8)\n",
      "Requirement already satisfied: urllib3<1.27,>=1.21.1 in /usr/local/lib/python3.7/site-packages (from requests>=2.25->-r requirements.txt (line 1)) (1.25.3)\n",
      "Requirement already satisfied: certifi>=2017.4.17 in /usr/local/lib/python3.7/site-packages (from requests>=2.25->-r requirements.txt (line 1)) (2019.6.16)\n",
      "Requirement already satisfied: chardet<5,>=3.0.2 in /usr/local/lib/python3.7/site-packages (from requests>=2.25->-r requirements.txt (line 1)) (3.0.4)\n",
      "Requirement already satisfied: zipp>=0.5 in /usr/local/lib/python3.7/site-packages (from importlib-metadata>=0.12->pytest==6.2.3->-r requirements.txt (line 2)) (3.1.0)\n",
      "Requirement already satisfied: six>=1.5 in /usr/local/lib/python3.7/site-packages (from python-dateutil->-r requirements.txt (line 4)) (1.12.0)\n",
      "Requirement already satisfied: pyparsing>=2.0.2 in /home/jr/.local/lib/python3.7/site-packages (from packaging->pytest==6.2.3->-r requirements.txt (line 2)) (2.4.4)\n"
     ]
    },
    {
     "name": "stderr",
     "output_type": "stream",
     "text": [
      "WARNING: You are using pip version 21.0.1; however, version 22.1 is available.\n",
      "You should consider upgrading via the '/bin/python3 -m pip install --upgrade pip' command.\n"
     ]
    }
   ],
   "source": [
    "%%bash\n",
    "# Install all requirements from a requirements.txt file \n",
    "# NOTE: It doesn't actually have to be named \"requirements.txt\"\n",
    "pip install --user -r requirements.txt"
   ]
  },
  {
   "cell_type": "code",
   "execution_count": 15,
   "metadata": {},
   "outputs": [
    {
     "name": "stdout",
     "output_type": "stream",
     "text": [
      "alabaster==0.7.12\n",
      "ansible==2.8.3\n",
      "asgiref==3.2.10\n",
      "asn1crypto==0.24.0\n",
      "astroid==2.4.1\n",
      "attrs==20.3.0\n",
      "awscli==1.16.201\n",
      "Babel==2.7.0\n",
      "backcall==0.1.0\n",
      "bcrypt==3.1.7\n",
      "beautifulsoup4==4.9.3\n",
      "bleach==3.1.0\n",
      "boto==2.49.0\n",
      "boto3==1.14.9\n",
      "botocore==1.17.9\n",
      "certifi==2019.6.16\n",
      "cffi==1.12.3\n",
      "chardet==3.0.4\n",
      "Click==7.0\n",
      "colorama==0.3.9\n",
      "coverage==5.1\n",
      "cryptography==2.7\n",
      "decorator==4.4.0\n",
      "defusedxml==0.6.0\n",
      "Django==3.1.2\n",
      "docutils==0.15\n",
      "entrypoints==0.3\n",
      "fabric==2.4.0\n",
      "flake8==3.8.1\n",
      "Flask==1.1.2\n",
      "idna==2.8\n",
      "imagesize==1.1.0\n",
      "importlib-metadata==1.6.0\n",
      "iniconfig==1.1.1\n",
      "invoke==1.2.0\n",
      "ipykernel==5.1.1\n",
      "ipython==7.6.1\n",
      "ipython-genutils==0.2.0\n",
      "ipywidgets==7.5.0\n",
      "isort==4.3.21\n",
      "itsdangerous==1.1.0\n",
      "jedi==0.14.0\n",
      "Jinja2==2.10.1\n",
      "jinja2-cli==0.7.0\n",
      "jmespath==0.9.4\n",
      "jsonschema==3.0.1\n",
      "jupyter==1.0.0\n",
      "jupyter-client==5.2.4\n",
      "jupyter-console==6.0.0\n",
      "jupyter-core==4.5.0\n",
      "lazy-object-proxy==1.4.3\n",
      "MarkupSafe==1.1.1\n",
      "mccabe==0.6.1\n",
      "mistune==0.8.4\n",
      "more-itertools==8.2.0\n",
      "nbconvert==5.5.0\n",
      "nbformat==4.4.0\n",
      "notebook==5.7.8\n",
      "packaging==19.2\n",
      "pandocfilters==1.4.2\n",
      "paramiko==2.6.0\n",
      "parso==0.5.0\n",
      "pathspec==0.8.0\n",
      "pexpect==4.7.0\n",
      "pickleshare==0.7.5\n",
      "pluggy==0.13.1\n",
      "prettytable==0.7.2\n",
      "prometheus-client==0.7.1\n",
      "prompt-toolkit==2.0.9\n",
      "ptyprocess==0.6.0\n",
      "py==1.10.0\n",
      "pyasn1==0.4.5\n",
      "pycodestyle==2.6.0\n",
      "pycparser==2.19\n",
      "pyflakes==2.2.0\n",
      "Pygments==2.4.2\n",
      "pylint==2.5.2\n",
      "pymongo==3.12.1\n",
      "PyNaCl==1.3.0\n",
      "pyparsing==2.4.4\n",
      "pyrsistent==0.15.2\n",
      "pytest==6.2.3\n",
      "pytest-cov==2.8.1\n",
      "pytest-mock==3.5.1\n",
      "python-dateutil==2.8.0\n",
      "pytz==2019.3\n",
      "PyYAML==5.1\n",
      "pyzmq==18.0.2\n",
      "qtconsole==4.5.1\n",
      "quorachallenge==1.0.3\n",
      "requests==2.25.1\n",
      "rsa==3.4.2\n",
      "s3transfer==0.3.3\n",
      "Send2Trash==1.5.0\n",
      "six==1.12.0\n",
      "snowballstemmer==2.0.0\n",
      "soupsieve==2.2.1\n",
      "Sphinx==2.2.1\n",
      "sphinx-rtd-theme==0.4.3\n",
      "sphinxcontrib-applehelp==1.0.1\n",
      "sphinxcontrib-devhelp==1.0.1\n",
      "sphinxcontrib-htmlhelp==1.0.2\n",
      "sphinxcontrib-jsmath==1.0.1\n",
      "sphinxcontrib-qthelp==1.0.2\n",
      "sphinxcontrib-serializinghtml==1.1.3\n",
      "sqlparse==0.4.1\n",
      "terminado==0.8.2\n",
      "testpath==0.4.2\n",
      "toml==0.10.1\n",
      "tornado==6.0.3\n",
      "traitlets==4.3.2\n",
      "typed-ast==1.4.1\n",
      "urllib3==1.25.3\n",
      "wcwidth==0.1.7\n",
      "webencodings==0.5.1\n",
      "Werkzeug==1.0.1\n",
      "widgetsnbextension==3.5.0\n",
      "wrapt==1.12.1\n",
      "yamllint==1.23.0\n",
      "zipp==3.1.0\n"
     ]
    }
   ],
   "source": [
    "%%bash\n",
    "# Didn't start with a requirements.txt, but you need one now?  No problem!\n",
    "# List off packages, with versions, that have been installed.\n",
    "pip freeze"
   ]
  },
  {
   "cell_type": "code",
   "execution_count": 16,
   "metadata": {},
   "outputs": [
    {
     "name": "stdout",
     "output_type": "stream",
     "text": [
      "alabaster==0.7.12\n",
      "ansible==2.8.3\n",
      "asgiref==3.2.10\n",
      "asn1crypto==0.24.0\n",
      "astroid==2.4.1\n",
      "attrs==20.3.0\n",
      "awscli==1.16.201\n",
      "Babel==2.7.0\n",
      "backcall==0.1.0\n",
      "bcrypt==3.1.7\n",
      "beautifulsoup4==4.9.3\n",
      "bleach==3.1.0\n",
      "boto==2.49.0\n",
      "boto3==1.14.9\n",
      "botocore==1.17.9\n",
      "certifi==2019.6.16\n",
      "cffi==1.12.3\n",
      "chardet==3.0.4\n",
      "Click==7.0\n",
      "colorama==0.3.9\n",
      "coverage==5.1\n",
      "cryptography==2.7\n",
      "decorator==4.4.0\n",
      "defusedxml==0.6.0\n",
      "Django==3.1.2\n",
      "docutils==0.15\n",
      "entrypoints==0.3\n",
      "fabric==2.4.0\n",
      "flake8==3.8.1\n",
      "Flask==1.1.2\n",
      "idna==2.8\n",
      "imagesize==1.1.0\n",
      "importlib-metadata==1.6.0\n",
      "iniconfig==1.1.1\n",
      "invoke==1.2.0\n",
      "ipykernel==5.1.1\n",
      "ipython==7.6.1\n",
      "ipython-genutils==0.2.0\n",
      "ipywidgets==7.5.0\n",
      "isort==4.3.21\n",
      "itsdangerous==1.1.0\n",
      "jedi==0.14.0\n",
      "Jinja2==2.10.1\n",
      "jinja2-cli==0.7.0\n",
      "jmespath==0.9.4\n",
      "jsonschema==3.0.1\n",
      "jupyter==1.0.0\n",
      "jupyter-client==5.2.4\n",
      "jupyter-console==6.0.0\n",
      "jupyter-core==4.5.0\n",
      "lazy-object-proxy==1.4.3\n",
      "MarkupSafe==1.1.1\n",
      "mccabe==0.6.1\n",
      "mistune==0.8.4\n",
      "more-itertools==8.2.0\n",
      "nbconvert==5.5.0\n",
      "nbformat==4.4.0\n",
      "notebook==5.7.8\n",
      "packaging==19.2\n",
      "pandocfilters==1.4.2\n",
      "paramiko==2.6.0\n",
      "parso==0.5.0\n",
      "pathspec==0.8.0\n",
      "pexpect==4.7.0\n",
      "pickleshare==0.7.5\n",
      "pluggy==0.13.1\n",
      "prettytable==0.7.2\n",
      "prometheus-client==0.7.1\n",
      "prompt-toolkit==2.0.9\n",
      "ptyprocess==0.6.0\n",
      "py==1.10.0\n",
      "pyasn1==0.4.5\n",
      "pycodestyle==2.6.0\n",
      "pycparser==2.19\n",
      "pyflakes==2.2.0\n",
      "Pygments==2.4.2\n",
      "pylint==2.5.2\n",
      "pymongo==3.12.1\n",
      "PyNaCl==1.3.0\n",
      "pyparsing==2.4.4\n",
      "pyrsistent==0.15.2\n",
      "pytest==6.2.3\n",
      "pytest-cov==2.8.1\n",
      "pytest-mock==3.5.1\n",
      "python-dateutil==2.8.0\n",
      "pytz==2019.3\n",
      "PyYAML==5.1\n",
      "pyzmq==18.0.2\n",
      "qtconsole==4.5.1\n",
      "quorachallenge==1.0.3\n",
      "requests==2.25.1\n",
      "rsa==3.4.2\n",
      "s3transfer==0.3.3\n",
      "Send2Trash==1.5.0\n",
      "six==1.12.0\n",
      "snowballstemmer==2.0.0\n",
      "soupsieve==2.2.1\n",
      "Sphinx==2.2.1\n",
      "sphinx-rtd-theme==0.4.3\n",
      "sphinxcontrib-applehelp==1.0.1\n",
      "sphinxcontrib-devhelp==1.0.1\n",
      "sphinxcontrib-htmlhelp==1.0.2\n",
      "sphinxcontrib-jsmath==1.0.1\n",
      "sphinxcontrib-qthelp==1.0.2\n",
      "sphinxcontrib-serializinghtml==1.1.3\n",
      "sqlparse==0.4.1\n",
      "terminado==0.8.2\n",
      "testpath==0.4.2\n",
      "toml==0.10.1\n",
      "tornado==6.0.3\n",
      "traitlets==4.3.2\n",
      "typed-ast==1.4.1\n",
      "urllib3==1.25.3\n",
      "wcwidth==0.1.7\n",
      "webencodings==0.5.1\n",
      "Werkzeug==1.0.1\n",
      "widgetsnbextension==3.5.0\n",
      "wrapt==1.12.1\n",
      "yamllint==1.23.0\n",
      "zipp==3.1.0\n"
     ]
    }
   ],
   "source": [
    "%%bash\n",
    "# Use it to generate your requirements.txt\n",
    "pip freeze > requirements-captured.txt\n",
    "cat requirements-captured.txt"
   ]
  },
  {
   "cell_type": "markdown",
   "metadata": {},
   "source": [
    "### A note about pip freeze...\n",
    "This will pin every version by default, and show sub-dependencies, so you may need to edit and clean up a bit!  Try to capture just your project's DIRECT dependencies and let pip do the rest"
   ]
  },
  {
   "cell_type": "markdown",
   "metadata": {},
   "source": [
    "### Why pin versions at all?\n",
    "- Ensure different developers are working on the same packages\n",
    "- No surprises if a package drops support for your Python version or removes a feature\n",
    "- Deterministic Builds\n",
    "- Also, Deterministic Builds\n",
    "- Did I mention Deterministic Builds?"
   ]
  },
  {
   "cell_type": "markdown",
   "metadata": {},
   "source": [
    "### Versioning and Packages\n",
    "- **Semantic Versioning**\n",
    "    - Versions specified as MAJOR.MINOR.PATCH (and occasionally a fourth value for a build number)\n",
    "    - Each \"segment\" is independent and increases independently\n",
    "    - **Major** version increment indicates large, possibly backward-incompatible changes (Python 2.7 -> 3.6)\n",
    "    - **Minor** version increment indicates smaller changes, usually backward compatible. (Python 3.6 -> Python 3.7)\n",
    "    - **Patch** version increment indicates bug fixes, security updates, etc. - no functional changes\n",
    "    - Most Python packages are versioned this way\n",
    "    - https://semver.org/\n",
    "- **Calendar Versioning**\n",
    "    - Version numbers are based on a release schedule (usually year and month)\n",
    "    - Ex. Ubuntu 20.04 ->  Released in April, 2020\n",
    "    - No indication of what is contained in the version (but nothing misleading either!)\n",
    "    - https://calver.org/"
   ]
  },
  {
   "cell_type": "markdown",
   "metadata": {},
   "source": [
    "## Alternatives to pip\n",
    "- **pipenv** - Attempts to remove the problem of dependency conflicts in pip\n",
    "- **poetry** - Designed primarily to handle dependies for publishing packages\n",
    "- **conda** - Basically pip, but for the Anaconda Python Distribution"
   ]
  },
  {
   "cell_type": "markdown",
   "metadata": {},
   "source": [
    "### So now you've got dependencies handled for your project...\n",
    "### But what happens when you set up the next one?"
   ]
  },
  {
   "cell_type": "markdown",
   "metadata": {},
   "source": [
    "## Dependency Hell\n",
    "![Tech Loops](images/tech_loops_2x.png)"
   ]
  },
  {
   "cell_type": "markdown",
   "metadata": {},
   "source": [
    "## Enter Virtualenv - isolated dependencies for Python projects\n",
    "- Virtualenv (\"virtual environment\") is a Python package\n",
    "- Distributed as the \"venv\" module in modern Python versions\n",
    "- Uses environment settings, paths, and a few other \"tricks\" to isolate a project from the system, and from each other!\n",
    "- Despite the name, NOT a virtual machine or emulation layer"
   ]
  },
  {
   "cell_type": "code",
   "execution_count": null,
   "metadata": {},
   "outputs": [],
   "source": [
    "%%bash\n",
    "# Create a new virtualenv\n",
    "python3 -m venv myproject"
   ]
  },
  {
   "cell_type": "code",
   "execution_count": null,
   "metadata": {},
   "outputs": [],
   "source": [
    "%%bash\n",
    "# Take a peek in the virtualenv\n",
    "ls -al myproject"
   ]
  },
  {
   "cell_type": "code",
   "execution_count": null,
   "metadata": {},
   "outputs": [],
   "source": [
    "%%bash\n",
    "# What was installed that we can now use?\n",
    "ls -al myproject/bin"
   ]
  },
  {
   "cell_type": "code",
   "execution_count": null,
   "metadata": {},
   "outputs": [],
   "source": [
    "%%bash\n",
    "# Activate the virtualenv and then check which Python we're using\n",
    "source myproject/bin/activate\n",
    "echo \"Show Python Path\"\n",
    "which python\n",
    "python --version\n",
    "source deactivate"
   ]
  },
  {
   "cell_type": "code",
   "execution_count": null,
   "metadata": {},
   "outputs": [],
   "source": [
    "%%bash\n",
    "# Install things in JUST the virtual environment (not system wide)\n",
    "source myproject/bin/activate\n",
    "python -m pip install requests pytest python-dateutil\n",
    "echo \"Inside the virtualenv\"\n",
    "python -m pip freeze\n",
    "source deactivate"
   ]
  },
  {
   "cell_type": "code",
   "execution_count": null,
   "metadata": {},
   "outputs": [],
   "source": [
    "%%bash\n",
    "echo \"Outside the virtualenv\"\n",
    "python -m pip freeze"
   ]
  },
  {
   "cell_type": "markdown",
   "metadata": {},
   "source": [
    "### Virtualenv has a lot of options\n",
    "- Specify the Python version in the virtualenv\n",
    "- Specify the directory to create the virtualenv\n",
    "- Whether or not to install pip by default"
   ]
  },
  {
   "cell_type": "code",
   "execution_count": null,
   "metadata": {},
   "outputs": [],
   "source": [
    "!python3 -m venv --help"
   ]
  },
  {
   "cell_type": "code",
   "execution_count": null,
   "metadata": {},
   "outputs": [],
   "source": [
    "### If you don't need it anymore, just delete it!\n",
    "### Virtualenvs are just directories, nothing magical\n",
    "!rm -rf ./myproject"
   ]
  },
  {
   "cell_type": "markdown",
   "metadata": {},
   "source": [
    "## Lab: Setting up a new Python project\n",
    "Create a new Python project and install some dependencies to get started.\n",
    "* Create a new directory for your project (choose any name you like) and create a virtualenv named `venv` inside it.  Make sure you set it up with Python 3!\n",
    "* Activate and install the following packages in your virtualenv:  \n",
    "    * `requests`\n",
    "    * `black`\n",
    "    * `pytest`\n",
    "* Use pip to generate a `requirements.txt` file for your project\n",
    "* BONUS:  Figure out what you should add to your `.gitignore` file if you wanted to put this new project into git, but exclude the virtualenv."
   ]
  },
  {
   "cell_type": "markdown",
   "metadata": {},
   "source": [
    "## Digging Deeper - More tools to explore"
   ]
  },
  {
   "cell_type": "markdown",
   "metadata": {},
   "source": [
    "### setuptools - Python tools for building and distributing packages\n",
    "- Provides standard configuration files to specify project names, version, dependencies, etc.\n",
    "- Allows on-installation scripts to run if your package needs to be setup\n",
    "- Well established and supported by the Python community:  \n",
    "- https://setuptools.readthedocs.io/en/latest/"
   ]
  },
  {
   "cell_type": "markdown",
   "metadata": {},
   "source": [
    "### virtualenvwrapper - A set of scripts for managing multiple virtual environments on a system\n",
    "- Easily set up new virtualenvs for projects in a single, well-defined directory\n",
    "- Tools to easily switch projects by changing directories and activating virtualenvs for you\n",
    "- List off existing virtualenvs, remove them, etc.\n",
    "- https://virtualenvwrapper.readthedocs.io/en/latest/index.html"
   ]
  },
  {
   "cell_type": "markdown",
   "metadata": {},
   "source": [
    "## Best Practices for avoiding Dependency Hell\n",
    "- When you start a new project, or clone an existing one for the first time, set up a virtualenv\n",
    "- Only install dependencies to the system that will be used everywhere (like virtualenv itself, or pip)\n",
    "- Always run your project in a virtualenv, even if it's the only tool on the system\n",
    "- Use tools to upgrade your dependencies in development, but always pin for deployments!\n",
    "- Be explicit in your project about which versions of Python you support, and which versions of packages, so everyone can set up their environment correctly.\n",
    "- Need different dependencies for dev/test vs. prod?  Make multiple requirements.txt files and multiple virtualenvs!"
   ]
  },
  {
   "cell_type": "code",
   "execution_count": null,
   "metadata": {},
   "outputs": [],
   "source": []
  }
 ],
 "metadata": {
  "celltoolbar": "Slideshow",
  "kernelspec": {
   "display_name": "Python 3",
   "language": "python",
   "name": "python3"
  },
  "language_info": {
   "codemirror_mode": {
    "name": "ipython",
    "version": 3
   },
   "file_extension": ".py",
   "mimetype": "text/x-python",
   "name": "python",
   "nbconvert_exporter": "python",
   "pygments_lexer": "ipython3",
   "version": "3.7.10"
  }
 },
 "nbformat": 4,
 "nbformat_minor": 5
}
