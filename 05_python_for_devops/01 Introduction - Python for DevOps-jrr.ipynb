{
 "cells": [
  {
   "cell_type": "markdown",
   "metadata": {},
   "source": [
    "# Introduction - Python for DevOps"
   ]
  },
  {
   "cell_type": "markdown",
   "metadata": {
    "slideshow": {
     "slide_type": "subslide"
    }
   },
   "source": [
    "## Topics\n",
    "* [Why Python?](#Why-Python?)\n",
    "* [Python in DevOps](#Python-in-DevOps)\n",
    "* [Installation](#Installation)\n",
    "* [Jupyter Notebook Review](#Jupyter-Notebook-Review)\n",
    "* [Review - Variables and Types](#Review---Variables-and-Types)\n",
    "* [Review - Built-in Functions](#Review---Built-in-Functions)\n",
    "* [Review - Strings](#Review---Strings)\n",
    "* [Review - Run Modes](#Review---Run-Modes)\n",
    "* [Review - Code Blocks and Indentation](#Review:-Code-Blocks-and-Indentation)\n",
    "* [Review - Conditionals](#Review---Conditionals)\n",
    "* [Review - Looping](#Review---Looping)\n",
    "* [Review - Slicing](#Review---Slicing)"
   ]
  },
  {
   "cell_type": "markdown",
   "metadata": {},
   "source": [
    "## Why Python?\n",
    "Python has become one of the [most popular programming languages in the world](https://www.tiobe.com/tiobe-index/) - what are some of the reasons for its success, and how do they apply to our DevOps culture?\n",
    "\n",
    "* Python is *general purpose* - useful for a variety of tasks\n",
    "* Python has a *large ecosystem* - many tools, libraries, or frameworks for common needs\n",
    "* Python has an *expansive, active community* - easy to learn and find help\n",
    "\n",
    "Additionally, the overall design of Python aids us in our DevOps goals\n",
    "* Prioritizes *readability* and *consistency* over *brevity*, making collaboration simpler\n",
    "* Optimizes *development time* over *compute time* leading to faster / more frequent releases\n",
    "* Promotes *modularity* and *integration* with other systems, making it easier to create automation"
   ]
  },
  {
   "cell_type": "markdown",
   "metadata": {},
   "source": [
    "## Python in DevOps\n",
    "In a DevOps organization, many members of the team become **developers**, as we'll all be writing code in one form or another.  Even if you don't think of your role as \"shipping products,\" Python is a valuable tool in your toolbelt for several tasks:\n",
    "\n",
    "* **Scripting**: Many forms of automation start as simple scripts, and getting a small script started in Python is often as easy or easier than scripting in bash, Powershell, etc.\n",
    "* **\"Glue\" code**: As we begin to automate manual workflows, we often need to build something to simply link existing systems. Python provides modules for many file formats, network protocols, or datastores.\n",
    "* **Building Tools**: As automation grows more complex we may need to build tools for other teams to use, to formalize a workflow, move data around, or perform deployments.  Several popular tools (Ansible, Docker Compose, AWSCLI) have been built in Python\n",
    "* **Building Platforms**: Collecting together automation into a *platform* to provide self-service gets your team out of the \"reactive\" mode and into a \"proactive\" mode.  Python offers easy-to-learn web frameworks that can aid in building self-service plaforms.\n",
    "* **Testing**: Automating extensive, thorough testing is part of the path to accelerating the rate or releases, or even achieving continuous deployments. Python has many testing tools and frameworks to help speed test development."
   ]
  },
  {
   "cell_type": "markdown",
   "metadata": {},
   "source": [
    "## Discussion: Python's Role\n",
    "What does YOUR team currently do with Python, or which of the examples roles do you think Python might fill for your team in the future?"
   ]
  },
  {
   "cell_type": "markdown",
   "metadata": {
    "slideshow": {
     "slide_type": "subslide"
    }
   },
   "source": [
    "## Installation\n",
    "\n",
    "### Python 3\n",
    "Python 3 can be installed in a number of ways on your local system.\n",
    "You may have several different versions of Python installed side-by-side.\n",
    "\n",
    "* Pre-Installed (most Linux distros)\n",
    "  * Check pre-installed versions\n",
    "  ```\n",
    "  $ python3 --version\n",
    "  Python 3.8.12\n",
    "  ```\n",
    "  ```\n",
    "  $ python --version\n",
    "  Python 2.7.18\n",
    "  ```\n",
    "* Linux package managers\n",
    "  * APT (Debian-based): `$ sudo apt install python3`\n",
    "  * Yum / RPM (RedHat-based): `$ sudo yum install python37`\n",
    "* Manual Download / install (MacOS / Windows)\n",
    "  * Go to https://www.python.org/downloads/\n",
    "  * Select Python version and OS\n",
    "  * Run installer\n",
    "* Build from Source\n",
    "  * Install build tools (gcc, make)\n",
    "  * Download source code from [https://www.python.org/downloads/source/](https://www.python.org/downloads/source/)\n",
    "  * Run build steps\n",
    "    * `$ ./configure`\n",
    "    * `$ make`\n",
    "    * `$ sudo make install`\n",
    "  * See full instructions here: [https://realpython.com/installing-python/#how-to-build-python-from-source-code](https://realpython.com/installing-python/#how-to-build-python-from-source-code)\n",
    "\n",
    "### Jupyter Project\n",
    "The [Jupyter Project](https://jupyter.org/) comes with a lot of tools, including the Jupyter Notebook tool used to view this material.\n",
    "* Install Jupyter Using Pip  \n",
    "  `$ sudo python3 -m pip install jupyter`"
   ]
  },
  {
   "cell_type": "markdown",
   "metadata": {},
   "source": [
    "## Jupyter Notebook Review"
   ]
  },
  {
   "cell_type": "markdown",
   "metadata": {},
   "source": [
    "## How to get around in Jupyter:\n",
    "* Each place for you to enter text is called a _cell_\n",
    "* Usually you enter __`Python`__ code, but you can also enter text in a _markup_ language called __`Markdown`__ (that's what's going on in _this_ cell)\n",
    "* To \"run\" the code in the cell, hit __Shift-Return__ (i.e., hold down __Shift__ key, then hit __Return__)\n",
    "* Try it with the cell below..."
   ]
  },
  {
   "cell_type": "code",
   "execution_count": 3,
   "metadata": {},
   "outputs": [
    {
     "data": {
      "text/plain": [
       "5.25"
      ]
     },
     "execution_count": 3,
     "metadata": {},
     "output_type": "execute_result"
    }
   ],
   "source": [
    "x = 5.25\n",
    "x"
   ]
  },
  {
   "cell_type": "markdown",
   "metadata": {},
   "source": [
    "* We'll work inside the Jupyter notebook and you'll be able to take it with you as a living, breathing document of your work in this class\n",
    "* The __Insert__ menu will allow you to add a cell above or below the current cell\n",
    "* The __Kernel__ menu will allow you to \"talk\" to the Python interpreter on your machine\n",
    "  * (when you type into a cell, you are \"talking\" to the web browser, and the web browser sends the text to the __`Python`__ interpreter to be \"run\")\n",
    "  * the __Kernel__ menu will allow you to _restart_ your __`Python`__ interpreter in case something goes wrong and it stops responding to you (like infinite loops)\n",
    "  "
   ]
  },
  {
   "cell_type": "markdown",
   "metadata": {},
   "source": [
    "# Review - Variables and Types"
   ]
  },
  {
   "cell_type": "markdown",
   "metadata": {
    "slideshow": {
     "slide_type": "subslide"
    }
   },
   "source": [
    "## Variables/Typing\n",
    "* no declarations\n",
    "* basic data types are __int, float, string, boolean__\n",
    "* dynamically typed"
   ]
  },
  {
   "cell_type": "code",
   "execution_count": 4,
   "metadata": {},
   "outputs": [
    {
     "name": "stdout",
     "output_type": "stream",
     "text": [
      "3.14159\n"
     ]
    }
   ],
   "source": [
    "x = 3.14159\n",
    "print(x)"
   ]
  },
  {
   "cell_type": "code",
   "execution_count": 5,
   "metadata": {},
   "outputs": [
    {
     "name": "stdout",
     "output_type": "stream",
     "text": [
      "3.14159\n"
     ]
    },
    {
     "data": {
      "text/plain": [
       "'Prince'"
      ]
     },
     "execution_count": 5,
     "metadata": {},
     "output_type": "execute_result"
    }
   ],
   "source": [
    "print(x)\n",
    "x = \"Prince\"\n",
    "x"
   ]
  },
  {
   "cell_type": "markdown",
   "metadata": {},
   "source": [
    "### Recall: Basic data types in Python are *immutable*."
   ]
  },
  {
   "cell_type": "code",
   "execution_count": 6,
   "metadata": {},
   "outputs": [
    {
     "name": "stdout",
     "output_type": "stream",
     "text": [
      "140169346519856\n",
      "140169346520880\n"
     ]
    }
   ],
   "source": [
    "# Operations that change strings actually create brand new objects!\n",
    "some_string = \"Hello\"\n",
    "print(id(some_string))\n",
    "some_string = some_string + \" World\"\n",
    "print(id(some_string))"
   ]
  },
  {
   "cell_type": "code",
   "execution_count": 8,
   "metadata": {},
   "outputs": [
    {
     "name": "stdout",
     "output_type": "stream",
     "text": [
      "Hello Hello\n",
      "True\n",
      "Hello World Hello\n",
      "False\n",
      "140169346953584 140169346520752\n"
     ]
    }
   ],
   "source": [
    "# Why immutability matters:\n",
    "a = \"Hello\"\n",
    "b = a\n",
    "print(a, b)\n",
    "print(a == b)\n",
    "a += \" World\"\n",
    "print(a, b)\n",
    "print(a == b)\n",
    "print(id(a), id(b))"
   ]
  },
  {
   "cell_type": "markdown",
   "metadata": {
    "slideshow": {
     "slide_type": "slide"
    }
   },
   "source": [
    "## Review - Built-in Functions"
   ]
  },
  {
   "cell_type": "markdown",
   "metadata": {
    "slideshow": {
     "slide_type": "subslide"
    }
   },
   "source": [
    "### __`print()`__\n",
    "* was a statement in Python 2\n",
    "* ...but it's a function in Python 3\n",
    "* sends text to `stdout` by default"
   ]
  },
  {
   "cell_type": "code",
   "execution_count": 9,
   "metadata": {
    "slideshow": {
     "slide_type": "-"
    }
   },
   "outputs": [
    {
     "name": "stdout",
     "output_type": "stream",
     "text": [
      "hello\n"
     ]
    }
   ],
   "source": [
    "%%python2\n",
    "# this will run the cell using Python 2 (if installed)\n",
    "x = 'hello'\n",
    "print x"
   ]
  },
  {
   "cell_type": "code",
   "execution_count": 10,
   "metadata": {},
   "outputs": [
    {
     "name": "stdout",
     "output_type": "stream",
     "text": [
      "hello\n"
     ]
    }
   ],
   "source": [
    "x = 'hello'\n",
    "print(x)"
   ]
  },
  {
   "cell_type": "code",
   "execution_count": 14,
   "metadata": {},
   "outputs": [
    {
     "data": {
      "text/plain": [
       "0.7058823529411765"
      ]
     },
     "execution_count": 14,
     "metadata": {},
     "output_type": "execute_result"
    }
   ],
   "source": [
    "12 / 17"
   ]
  },
  {
   "cell_type": "code",
   "execution_count": 12,
   "metadata": {},
   "outputs": [
    {
     "name": "stdout",
     "output_type": "stream",
     "text": [
      "0.7058823529411765\n"
     ]
    }
   ],
   "source": [
    "print(12 / 17)"
   ]
  },
  {
   "cell_type": "markdown",
   "metadata": {},
   "source": [
    "### `input()`\n",
    " * Read text from standard input (`stdin`)\n",
    " * Optionally display a prompt on screen\n",
    " * Expects a newline to end the text"
   ]
  },
  {
   "cell_type": "code",
   "execution_count": 15,
   "metadata": {},
   "outputs": [
    {
     "name": "stdout",
     "output_type": "stream",
     "text": [
      "Hello, what is your name?JR\n",
      "Nice to meet you JR\n"
     ]
    }
   ],
   "source": [
    "name = input(\"Hello, what is your name?\")\n",
    "print(\"Nice to meet you\", name)"
   ]
  },
  {
   "cell_type": "code",
   "execution_count": 16,
   "metadata": {},
   "outputs": [
    {
     "name": "stdout",
     "output_type": "stream",
     "text": [
      "This is some data\n",
      "This is some data could come from the terminal or a file\n"
     ]
    }
   ],
   "source": [
    "text = input()\n",
    "print(text, \"could come from the terminal or a file\")"
   ]
  },
  {
   "cell_type": "code",
   "execution_count": 17,
   "metadata": {},
   "outputs": [
    {
     "name": "stdout",
     "output_type": "stream",
     "text": [
      "HOME=/home/jr\n",
      "I read in: /home/jr\n"
     ]
    }
   ],
   "source": [
    "%%bash\n",
    "env | grep \"HOME\"\n",
    "# python3 -c runs a command-line argument as a script\n",
    "echo \"$HOME\" | python3 -c \"text = input(); print('I read in:', text)\""
   ]
  },
  {
   "cell_type": "code",
   "execution_count": 18,
   "metadata": {},
   "outputs": [
    {
     "name": "stdout",
     "output_type": "stream",
     "text": [
      "I read in: also cause to speak, And from his mouth whose voice will draw on\r\n"
     ]
    }
   ],
   "source": [
    "!tail hamlet.txt | python3 -c \"text = input(); print('I read in:', text)\""
   ]
  },
  {
   "cell_type": "markdown",
   "metadata": {
    "slideshow": {
     "slide_type": "subslide"
    }
   },
   "source": [
    "### __`str()`__ \n",
    "* returns a string representation of the object passed as its argument \n",
    "* always works, that is, everything has a string representation"
   ]
  },
  {
   "cell_type": "code",
   "execution_count": 19,
   "metadata": {},
   "outputs": [
    {
     "data": {
      "text/plain": [
       "'1999'"
      ]
     },
     "execution_count": 19,
     "metadata": {},
     "output_type": "execute_result"
    }
   ],
   "source": [
    "str(1999)"
   ]
  },
  {
   "cell_type": "code",
   "execution_count": 20,
   "metadata": {},
   "outputs": [
    {
     "data": {
      "text/plain": [
       "'True'"
      ]
     },
     "execution_count": 20,
     "metadata": {},
     "output_type": "execute_result"
    }
   ],
   "source": [
    "str(True)"
   ]
  },
  {
   "cell_type": "code",
   "execution_count": 21,
   "metadata": {},
   "outputs": [
    {
     "data": {
      "text/plain": [
       "'133000000000000.0'"
      ]
     },
     "execution_count": 21,
     "metadata": {},
     "output_type": "execute_result"
    }
   ],
   "source": [
    "str(1.33e14)"
   ]
  },
  {
   "cell_type": "code",
   "execution_count": 22,
   "metadata": {},
   "outputs": [
    {
     "data": {
      "text/plain": [
       "'x'"
      ]
     },
     "execution_count": 22,
     "metadata": {},
     "output_type": "execute_result"
    }
   ],
   "source": [
    "str('x')"
   ]
  },
  {
   "cell_type": "markdown",
   "metadata": {},
   "source": [
    "### `int()` \n",
    "* returns an integer object constructed from its argument–will be an error if not a number!"
   ]
  },
  {
   "cell_type": "code",
   "execution_count": 23,
   "metadata": {},
   "outputs": [
    {
     "data": {
      "text/plain": [
       "503"
      ]
     },
     "execution_count": 23,
     "metadata": {},
     "output_type": "execute_result"
    }
   ],
   "source": [
    "x = '503'\n",
    "int(x)"
   ]
  },
  {
   "cell_type": "code",
   "execution_count": 24,
   "metadata": {},
   "outputs": [
    {
     "ename": "ValueError",
     "evalue": "invalid literal for int() with base 10: '503a'",
     "output_type": "error",
     "traceback": [
      "\u001b[0;31m---------------------------------------------------------------------------\u001b[0m",
      "\u001b[0;31mValueError\u001b[0m                                Traceback (most recent call last)",
      "\u001b[0;32m<ipython-input-24-21d6718ee129>\u001b[0m in \u001b[0;36m<module>\u001b[0;34m\u001b[0m\n\u001b[1;32m      1\u001b[0m \u001b[0mx\u001b[0m \u001b[0;34m+=\u001b[0m \u001b[0;34m'a'\u001b[0m\u001b[0;34m\u001b[0m\u001b[0;34m\u001b[0m\u001b[0m\n\u001b[0;32m----> 2\u001b[0;31m \u001b[0mint\u001b[0m\u001b[0;34m(\u001b[0m\u001b[0mx\u001b[0m\u001b[0;34m)\u001b[0m\u001b[0;34m\u001b[0m\u001b[0;34m\u001b[0m\u001b[0m\n\u001b[0m",
      "\u001b[0;31mValueError\u001b[0m: invalid literal for int() with base 10: '503a'"
     ]
    }
   ],
   "source": [
    "x += 'a'\n",
    "int(x)"
   ]
  },
  {
   "cell_type": "markdown",
   "metadata": {},
   "source": [
    "### `float()`, `bool()`, `list()`, `dict()`\n",
    "* Returns a newly created object of that type\n",
    "* Can fail if the input type doesn't match expectations!"
   ]
  },
  {
   "cell_type": "code",
   "execution_count": 25,
   "metadata": {},
   "outputs": [
    {
     "data": {
      "text/plain": [
       "37.0"
      ]
     },
     "execution_count": 25,
     "metadata": {},
     "output_type": "execute_result"
    }
   ],
   "source": [
    "float(37)"
   ]
  },
  {
   "cell_type": "code",
   "execution_count": 26,
   "metadata": {},
   "outputs": [
    {
     "data": {
      "text/plain": [
       "False"
      ]
     },
     "execution_count": 26,
     "metadata": {},
     "output_type": "execute_result"
    }
   ],
   "source": [
    "bool(\"\")"
   ]
  },
  {
   "cell_type": "code",
   "execution_count": 27,
   "metadata": {},
   "outputs": [
    {
     "data": {
      "text/plain": [
       "['H', 'e', 'l', 'l', 'o', ',', ' ', 'W', 'o', 'r', 'l', 'd', '!']"
      ]
     },
     "execution_count": 27,
     "metadata": {},
     "output_type": "execute_result"
    }
   ],
   "source": [
    "list(\"Hello, World!\")"
   ]
  },
  {
   "cell_type": "code",
   "execution_count": 28,
   "metadata": {},
   "outputs": [
    {
     "data": {
      "text/plain": [
       "{'A': '1', 'B': '2', 'C': '3'}"
      ]
     },
     "execution_count": 28,
     "metadata": {},
     "output_type": "execute_result"
    }
   ],
   "source": [
    "dict([\"A1\", \"B2\", \"C3\"])"
   ]
  },
  {
   "cell_type": "code",
   "execution_count": 29,
   "metadata": {},
   "outputs": [
    {
     "ename": "ValueError",
     "evalue": "dictionary update sequence element #0 has length 1; 2 is required",
     "output_type": "error",
     "traceback": [
      "\u001b[0;31m---------------------------------------------------------------------------\u001b[0m",
      "\u001b[0;31mValueError\u001b[0m                                Traceback (most recent call last)",
      "\u001b[0;32m<ipython-input-29-4a4aa9ed5dfb>\u001b[0m in \u001b[0;36m<module>\u001b[0;34m\u001b[0m\n\u001b[0;32m----> 1\u001b[0;31m \u001b[0mdict\u001b[0m\u001b[0;34m(\u001b[0m\u001b[0;34m\"Hello World!\"\u001b[0m\u001b[0;34m)\u001b[0m\u001b[0;34m\u001b[0m\u001b[0;34m\u001b[0m\u001b[0m\n\u001b[0m",
      "\u001b[0;31mValueError\u001b[0m: dictionary update sequence element #0 has length 1; 2 is required"
     ]
    }
   ],
   "source": [
    "dict(\"Hello World!\")"
   ]
  },
  {
   "cell_type": "code",
   "execution_count": 30,
   "metadata": {},
   "outputs": [
    {
     "ename": "TypeError",
     "evalue": "'int' object is not iterable",
     "output_type": "error",
     "traceback": [
      "\u001b[0;31m---------------------------------------------------------------------------\u001b[0m",
      "\u001b[0;31mTypeError\u001b[0m                                 Traceback (most recent call last)",
      "\u001b[0;32m<ipython-input-30-cd0b32ea5feb>\u001b[0m in \u001b[0;36m<module>\u001b[0;34m\u001b[0m\n\u001b[0;32m----> 1\u001b[0;31m \u001b[0mlist\u001b[0m\u001b[0;34m(\u001b[0m\u001b[0;36m1253\u001b[0m\u001b[0;34m)\u001b[0m\u001b[0;34m\u001b[0m\u001b[0;34m\u001b[0m\u001b[0m\n\u001b[0m",
      "\u001b[0;31mTypeError\u001b[0m: 'int' object is not iterable"
     ]
    }
   ],
   "source": [
    "list(1253)"
   ]
  },
  {
   "cell_type": "code",
   "execution_count": 31,
   "metadata": {},
   "outputs": [
    {
     "data": {
      "text/plain": [
       "[]"
      ]
     },
     "execution_count": 31,
     "metadata": {},
     "output_type": "execute_result"
    }
   ],
   "source": [
    "list()"
   ]
  },
  {
   "cell_type": "markdown",
   "metadata": {},
   "source": [
    "### We'll see many more of these along the way!\n",
    "Full List: [https://docs.python.org/3/library/functions.html](https://docs.python.org/3/library/functions.html)"
   ]
  },
  {
   "cell_type": "markdown",
   "metadata": {
    "slideshow": {
     "slide_type": "subslide"
    }
   },
   "source": [
    "## Review - Strings\n",
    "* use single or double quotes (but be consistent!)\n",
    "* `\\` lets you escape the next character, i.e., avoid its usual meaning"
   ]
  },
  {
   "cell_type": "code",
   "execution_count": 32,
   "metadata": {},
   "outputs": [
    {
     "data": {
      "text/plain": [
       "\"This string isn't a problem\""
      ]
     },
     "execution_count": 32,
     "metadata": {},
     "output_type": "execute_result"
    }
   ],
   "source": [
    "string1 = \"This string isn't a problem\"\n",
    "string1"
   ]
  },
  {
   "cell_type": "code",
   "execution_count": 33,
   "metadata": {},
   "outputs": [
    {
     "data": {
      "text/plain": [
       "'This string is a \"good\" example'"
      ]
     },
     "execution_count": 33,
     "metadata": {},
     "output_type": "execute_result"
    }
   ],
   "source": [
    "string2 = 'This string is a \"good\" example'\n",
    "string2"
   ]
  },
  {
   "cell_type": "code",
   "execution_count": 34,
   "metadata": {},
   "outputs": [
    {
     "name": "stdout",
     "output_type": "stream",
     "text": [
      "This string isn't \"more difficult\" to read\n"
     ]
    }
   ],
   "source": [
    "string3 = 'This string isn\\'t \"more difficult\" to read'\n",
    "print(string3)"
   ]
  },
  {
   "cell_type": "code",
   "execution_count": 35,
   "metadata": {},
   "outputs": [
    {
     "data": {
      "text/plain": [
       "'A man,\\nA plan,\\nA canal:\\nPanama.'"
      ]
     },
     "execution_count": 35,
     "metadata": {},
     "output_type": "execute_result"
    }
   ],
   "source": [
    "palindrome = 'A man,\\nA plan,\\nA canal:\\nPanama.'\n",
    "palindrome"
   ]
  },
  {
   "cell_type": "code",
   "execution_count": 36,
   "metadata": {},
   "outputs": [
    {
     "name": "stdout",
     "output_type": "stream",
     "text": [
      "A man,\n",
      "A plan,\n",
      "A canal:\n",
      "Panama.\n"
     ]
    }
   ],
   "source": [
    "print(palindrome)"
   ]
  },
  {
   "cell_type": "markdown",
   "metadata": {
    "slideshow": {
     "slide_type": "subslide"
    }
   },
   "source": [
    "* `+` = concatenation operator\n",
    "* `*` = duplication operator"
   ]
  },
  {
   "cell_type": "code",
   "execution_count": 42,
   "metadata": {},
   "outputs": [
    {
     "name": "stdout",
     "output_type": "stream",
     "text": [
      "hellobye\n",
      "hello bye\n"
     ]
    }
   ],
   "source": [
    "s, t = \"hello\", 'bye'\n",
    "print(s + t)\n",
    "print(s, t)"
   ]
  },
  {
   "cell_type": "code",
   "execution_count": 45,
   "metadata": {},
   "outputs": [
    {
     "data": {
      "text/plain": [
       "'----------------------------------------------------------------------'"
      ]
     },
     "execution_count": 45,
     "metadata": {},
     "output_type": "execute_result"
    }
   ],
   "source": [
    "# s * 4\n",
    "'-' * 70"
   ]
  },
  {
   "cell_type": "markdown",
   "metadata": {
    "slideshow": {
     "slide_type": "subslide"
    }
   },
   "source": [
    "## Multi-Line Strings\n",
    "* triple quotes allow for easy multi-line strings"
   ]
  },
  {
   "cell_type": "code",
   "execution_count": 48,
   "metadata": {},
   "outputs": [
    {
     "data": {
      "text/plain": [
       "\"\\nisn't this a\\nmulti-line string\\n?\\n\""
      ]
     },
     "execution_count": 48,
     "metadata": {},
     "output_type": "execute_result"
    }
   ],
   "source": [
    "s = \"\"\"\n",
    "isn't this a\n",
    "multi-line string\n",
    "?\n",
    "\"\"\"\n",
    "\n",
    "s"
   ]
  },
  {
   "cell_type": "code",
   "execution_count": 49,
   "metadata": {},
   "outputs": [
    {
     "name": "stdout",
     "output_type": "stream",
     "text": [
      "\n",
      "isn't this a\n",
      "multi-line string\n",
      "?\n",
      "\n"
     ]
    }
   ],
   "source": [
    "print(s)"
   ]
  },
  {
   "cell_type": "code",
   "execution_count": 50,
   "metadata": {},
   "outputs": [
    {
     "name": "stdout",
     "output_type": "stream",
     "text": [
      "Enter your name:JR\n",
      "<html><head><title>Welcome to JR's Home Page!</title><head><body><h1>Welcome to my Home Page! My name is JR!</h1></body></html>\n",
      "\n",
      "<html>\n",
      "  <head>\n",
      "    <title>Welcome to JR's Home Page!</title>\n",
      "  <head>\n",
      "  <body>\n",
      "    <h1>Welcome to my Home Page! My name is JR!</h1>\n",
      "  </body>\n",
      "</html>\n",
      "\n"
     ]
    }
   ],
   "source": [
    "# Good for embedded code, when necessary\n",
    "MESSY_HTML = \"<html><head><title>Welcome to {name}'s Home Page!</title><head><body><h1>Welcome to my Home Page! My name is {name}!</h1></body></html>\"\n",
    "\n",
    "NICE_HTML = \"\"\"\n",
    "<html>\n",
    "  <head>\n",
    "    <title>Welcome to {name}'s Home Page!</title>\n",
    "  <head>\n",
    "  <body>\n",
    "    <h1>Welcome to my Home Page! My name is {name}!</h1>\n",
    "  </body>\n",
    "</html>\n",
    "\"\"\"\n",
    "\n",
    "name = input(\"Enter your name:\")\n",
    "print(MESSY_HTML.format(name=name))\n",
    "print(NICE_HTML.format(name=name))"
   ]
  },
  {
   "cell_type": "markdown",
   "metadata": {
    "slideshow": {
     "slide_type": "subslide"
    }
   },
   "source": [
    "## __`len()`__\n",
    "* returns the length of a string"
   ]
  },
  {
   "cell_type": "code",
   "execution_count": 51,
   "metadata": {},
   "outputs": [
    {
     "data": {
      "text/plain": [
       "6"
      ]
     },
     "execution_count": 51,
     "metadata": {},
     "output_type": "execute_result"
    }
   ],
   "source": [
    "p = 'Prince'\n",
    "len(p)"
   ]
  },
  {
   "cell_type": "code",
   "execution_count": 52,
   "metadata": {},
   "outputs": [
    {
     "data": {
      "text/plain": [
       "0"
      ]
     },
     "execution_count": 52,
     "metadata": {},
     "output_type": "execute_result"
    }
   ],
   "source": [
    "len('')"
   ]
  },
  {
   "cell_type": "code",
   "execution_count": 53,
   "metadata": {},
   "outputs": [
    {
     "data": {
      "text/plain": [
       "30"
      ]
     },
     "execution_count": 53,
     "metadata": {},
     "output_type": "execute_result"
    }
   ],
   "source": [
    "len(p * 5)"
   ]
  },
  {
   "cell_type": "markdown",
   "metadata": {
    "slideshow": {
     "slide_type": "subslide"
    }
   },
   "source": [
    "## Indexing Strings with __`[]`__\n",
    "* access a single character via its offset\n",
    "* easier to think of offset as opposed to index\n",
    "* negative offsets count from end of string"
   ]
  },
  {
   "cell_type": "code",
   "execution_count": 54,
   "metadata": {},
   "outputs": [
    {
     "data": {
      "text/plain": [
       "'a'"
      ]
     },
     "execution_count": 54,
     "metadata": {},
     "output_type": "execute_result"
    }
   ],
   "source": [
    "alphabet = 'abcdefghijklmnopqrstuvwxyz'\n",
    "alphabet[0]"
   ]
  },
  {
   "cell_type": "code",
   "execution_count": 55,
   "metadata": {},
   "outputs": [
    {
     "data": {
      "text/plain": [
       "'z'"
      ]
     },
     "execution_count": 55,
     "metadata": {},
     "output_type": "execute_result"
    }
   ],
   "source": [
    "alphabet[25]"
   ]
  },
  {
   "cell_type": "code",
   "execution_count": 56,
   "metadata": {},
   "outputs": [
    {
     "data": {
      "text/plain": [
       "'z'"
      ]
     },
     "execution_count": 56,
     "metadata": {},
     "output_type": "execute_result"
    }
   ],
   "source": [
    "alphabet[-1]"
   ]
  },
  {
   "cell_type": "code",
   "execution_count": 57,
   "metadata": {},
   "outputs": [
    {
     "data": {
      "text/plain": [
       "'a'"
      ]
     },
     "execution_count": 57,
     "metadata": {},
     "output_type": "execute_result"
    }
   ],
   "source": [
    "alphabet[-26]"
   ]
  },
  {
   "cell_type": "markdown",
   "metadata": {},
   "source": [
    "## Review - Run Modes"
   ]
  },
  {
   "cell_type": "markdown",
   "metadata": {},
   "source": [
    "### Interactive Mode\n",
    "* Starts the Python REPL (Read-Evaluate-Print Loop)\n",
    "* Runs each line of code as soon as it is entered\n",
    "* Start it by running `python3` on the command line\n",
    "```\n",
    "$ python3\n",
    "Python 3.8.12 (default, Nov 16 2021, 09:42:02) \n",
    "[GCC 7.5.0] on linux\n",
    "Type \"help\", \"copyright\", \"credits\" or \"license\" for more information.\n",
    ">>> \n",
    "```"
   ]
  },
  {
   "cell_type": "markdown",
   "metadata": {},
   "source": [
    "Use it to code interactively:\n",
    "```\n",
    "$ python3\n",
    "Python 3.8.12 (default, Nov 16 2021, 09:42:02) \n",
    "[GCC 7.5.0] on linux\n",
    "Type \"help\", \"copyright\", \"credits\" or \"license\" for more information.\n",
    ">>> name = input(\"What is your name?\")\n",
    "What is your name?JR\n",
    ">>> print(name)\n",
    "JR\n",
    ">>> \n",
    "```"
   ]
  },
  {
   "cell_type": "markdown",
   "metadata": {},
   "source": [
    "### Script Mode\n",
    "* Write all code up-front in a script file (.py file)\n",
    "* Provide the filename to Python when starting\n",
    "* Runs all the code top to bottom (unless an exception is raised)  \n",
    "`$ python3 myscript.py`"
   ]
  },
  {
   "cell_type": "markdown",
   "metadata": {
    "slideshow": {
     "slide_type": "subslide"
    }
   },
   "source": [
    "### Lab: Standalone script\n",
    "* Using your favorite editor, enter the Python code below into a file and save it\n",
    "* Execute it by typing __`python3 prog1.py`__ at the bash prompt\n",
    "* Output will appear in Python shell window\n",
    "\n",
    "<pre><b>\n",
    "name = input('Enter your name: ')\n",
    "print('You entered', name)\n",
    "</b></pre>"
   ]
  },
  {
   "cell_type": "markdown",
   "metadata": {
    "slideshow": {
     "slide_type": "subslide"
    }
   },
   "source": [
    "### Lab: shebang (Mac/Linux only)\n",
    "* using IDLE or a text editor such as vi/vim, nano, sublime, etc., add the following as the first line of your Python program\n",
    "\n",
    "    __`#!/usr/bin/env python3`__\n",
    "\n",
    "\n",
    "* open a Terminal window (if you aren't already in one) and navigate to directory containing the file prog1.py and type\n",
    "\n",
    "    __`chmod +x prog1.py`__\n",
    "    \n",
    "\n",
    "* to run it, type\n",
    "\n",
    "    __`./prog1.py`__"
   ]
  },
  {
   "cell_type": "markdown",
   "metadata": {},
   "source": [
    "## Review: Code Blocks and Indentation"
   ]
  },
  {
   "cell_type": "markdown",
   "metadata": {},
   "source": [
    "### Code Blocks\n",
    "* All flow control statements (`if`, `else`, `for`, `while`) are structured as code blocks\n",
    "* Additional keywords use code blocks (`with`, `try / except`)\n",
    "* Functions and classes are code blocks\n",
    "* Begin with a keyword, optionally an expression, and a colon, and one or more indented lines\n",
    "* General Structure:\n",
    "```\n",
    "<keyword> [expression]:\n",
    "    nested_statement_1\n",
    "    nested_statement_2\n",
    "    nested_statement_3\n",
    "statement_after_block\n",
    "```"
   ]
  },
  {
   "cell_type": "code",
   "execution_count": 58,
   "metadata": {},
   "outputs": [
    {
     "name": "stdout",
     "output_type": "stream",
     "text": [
      "Greetings!\n",
      "All Done!\n"
     ]
    }
   ],
   "source": [
    "if \"Hello\" in \"Hello World!\":\n",
    "    x = 1\n",
    "    x = x * 5\n",
    "    print(\"Greetings!\")\n",
    "print(\"All Done!\")"
   ]
  },
  {
   "cell_type": "code",
   "execution_count": 59,
   "metadata": {},
   "outputs": [
    {
     "ename": "IndentationError",
     "evalue": "expected an indented block (<ipython-input-59-538b1fcc6e7c>, line 3)",
     "output_type": "error",
     "traceback": [
      "\u001b[0;36m  File \u001b[0;32m\"<ipython-input-59-538b1fcc6e7c>\"\u001b[0;36m, line \u001b[0;32m3\u001b[0m\n\u001b[0;31m    else:\u001b[0m\n\u001b[0m       ^\u001b[0m\n\u001b[0;31mIndentationError\u001b[0m\u001b[0;31m:\u001b[0m expected an indented block\n"
     ]
    }
   ],
   "source": [
    "# NOTE:  At least one indented line is *required*\n",
    "if True:\n",
    "else:\n",
    "    print(\"Not True!\")"
   ]
  },
  {
   "cell_type": "code",
   "execution_count": 60,
   "metadata": {},
   "outputs": [],
   "source": [
    "# If you need to satisfy indentation, you can use \"pass\"\n",
    "if True:\n",
    "    pass  # Does absolutely nothing\n",
    "else:\n",
    "    print(\"Not True!\")"
   ]
  },
  {
   "cell_type": "code",
   "execution_count": 61,
   "metadata": {},
   "outputs": [],
   "source": [
    "# But try not to leave \"pass\" in production code\n",
    "# (except in a few special cases)\n",
    "if False:\n",
    "    print(\"Not True!\")"
   ]
  },
  {
   "cell_type": "markdown",
   "metadata": {
    "slideshow": {
     "slide_type": "subslide"
    }
   },
   "source": [
    "### Indentation\n",
    "* Whitespace is significant in Python, but only in blocks!\n",
    "* no braces! (try typing `from __future__ import braces`)\n",
    "* this will trip you up at first but once you're used to it, you'll love it"
   ]
  },
  {
   "cell_type": "code",
   "execution_count": 62,
   "metadata": {},
   "outputs": [
    {
     "name": "stdout",
     "output_type": "stream",
     "text": [
      "x is bigger than 4\n"
     ]
    }
   ],
   "source": [
    "x = 5\n",
    "if x > 4:\n",
    "    print('x is bigger than 4')\n",
    "else:\n",
    "    print(\"x isn't bigger than 4\")"
   ]
  },
  {
   "cell_type": "markdown",
   "metadata": {
    "slideshow": {
     "slide_type": "subslide"
    }
   },
   "source": [
    "### Indentation (continued)\n",
    "*  indentation must be consistent throughout the block"
   ]
  },
  {
   "cell_type": "code",
   "execution_count": 63,
   "metadata": {},
   "outputs": [
    {
     "ename": "IndentationError",
     "evalue": "unexpected indent (<ipython-input-63-91e6a6bcb69f>, line 3)",
     "output_type": "error",
     "traceback": [
      "\u001b[0;36m  File \u001b[0;32m\"<ipython-input-63-91e6a6bcb69f>\"\u001b[0;36m, line \u001b[0;32m3\u001b[0m\n\u001b[0;31m    print('something else')\u001b[0m\n\u001b[0m    ^\u001b[0m\n\u001b[0;31mIndentationError\u001b[0m\u001b[0;31m:\u001b[0m unexpected indent\n"
     ]
    }
   ],
   "source": [
    "if x == 1:\n",
    "    print('x is 1')\n",
    "     print('something else')"
   ]
  },
  {
   "cell_type": "markdown",
   "metadata": {},
   "source": [
    "*  you can use any indentation you want as long as it's 4 spaces (PEP-8\n",
    "https://www.python.org/dev/peps/pep-0008/)"
   ]
  },
  {
   "cell_type": "markdown",
   "metadata": {},
   "source": [
    "## Review - Conditionals"
   ]
  },
  {
   "cell_type": "markdown",
   "metadata": {
    "slideshow": {
     "slide_type": "slide"
    }
   },
   "source": [
    "### `if` statements\n",
    "* Similar to if statements in other languages\n",
    "* No parentheses needed\n",
    "* elif = else if\n",
    "* else is the last fall-through"
   ]
  },
  {
   "cell_type": "code",
   "execution_count": 66,
   "metadata": {},
   "outputs": [
    {
     "name": "stdout",
     "output_type": "stream",
     "text": [
      "Enter your guess: 37\n",
      "You got it!\n"
     ]
    }
   ],
   "source": [
    "my_number = 37\n",
    "print('Enter your guess: ', end='')\n",
    "guess = int(input())\n",
    "\n",
    "if guess > my_number:\n",
    "    print('Guess was too high')\n",
    "elif guess < my_number:\n",
    "    print('Guess was too low')\n",
    "else:\n",
    "    print('You got it!')"
   ]
  },
  {
   "cell_type": "markdown",
   "metadata": {
    "slideshow": {
     "slide_type": "slide"
    }
   },
   "source": [
    "### Comparison Operators\n",
    "\n",
    "| operator | meaning |\n",
    "|---|---|\n",
    "| == | equality  |\n",
    "| != | inequality|\n",
    "| < | less than |\n",
    "| <= | less than or equals |\n",
    "| > | greater than |\n",
    "| >= | greater than or equals |\n",
    "| in | membership |"
   ]
  },
  {
   "cell_type": "code",
   "execution_count": 67,
   "metadata": {
    "slideshow": {
     "slide_type": "subslide"
    }
   },
   "outputs": [],
   "source": [
    "x = 7"
   ]
  },
  {
   "cell_type": "code",
   "execution_count": 68,
   "metadata": {},
   "outputs": [
    {
     "data": {
      "text/plain": [
       "True"
      ]
     },
     "execution_count": 68,
     "metadata": {},
     "output_type": "execute_result"
    }
   ],
   "source": [
    "5 < x"
   ]
  },
  {
   "cell_type": "code",
   "execution_count": 69,
   "metadata": {},
   "outputs": [
    {
     "data": {
      "text/plain": [
       "True"
      ]
     },
     "execution_count": 69,
     "metadata": {},
     "output_type": "execute_result"
    }
   ],
   "source": [
    "x < 9"
   ]
  },
  {
   "cell_type": "code",
   "execution_count": 70,
   "metadata": {},
   "outputs": [
    {
     "data": {
      "text/plain": [
       "True"
      ]
     },
     "execution_count": 70,
     "metadata": {},
     "output_type": "execute_result"
    }
   ],
   "source": [
    "5 < x and x < 9"
   ]
  },
  {
   "cell_type": "code",
   "execution_count": 71,
   "metadata": {},
   "outputs": [
    {
     "data": {
      "text/plain": [
       "True"
      ]
     },
     "execution_count": 71,
     "metadata": {},
     "output_type": "execute_result"
    }
   ],
   "source": [
    "(5 < x) and (x < 9)"
   ]
  },
  {
   "cell_type": "code",
   "execution_count": 72,
   "metadata": {},
   "outputs": [
    {
     "data": {
      "text/plain": [
       "True"
      ]
     },
     "execution_count": 72,
     "metadata": {},
     "output_type": "execute_result"
    }
   ],
   "source": [
    "5 < x < 9"
   ]
  },
  {
   "cell_type": "markdown",
   "metadata": {},
   "source": [
    "### \"Truthy\" values\n",
    "* The `if` statment interprets any expression as Boolean\n",
    "* `None`, `False`, any form of 0, and any empty sequence => `False`\n",
    "* Any other value => `True`"
   ]
  },
  {
   "cell_type": "code",
   "execution_count": 73,
   "metadata": {},
   "outputs": [
    {
     "name": "stdout",
     "output_type": "stream",
     "text": [
      "No\n",
      "Still False\n",
      "Sorry...\n"
     ]
    }
   ],
   "source": [
    "a = None\n",
    "b = 0\n",
    "c = \"\"\n",
    "\n",
    "if a:\n",
    "    print(\"Yes\")\n",
    "else:\n",
    "    print(\"No\")\n",
    "    \n",
    "if b:\n",
    "    print(\"True\")\n",
    "else:\n",
    "    print(\"Still False\")\n",
    "    \n",
    "if c:\n",
    "    print(\"Yup!\")\n",
    "else:\n",
    "    print(\"Sorry...\")"
   ]
  },
  {
   "cell_type": "markdown",
   "metadata": {},
   "source": [
    "**NOTE**: Pay close attention to sequences!"
   ]
  },
  {
   "cell_type": "code",
   "execution_count": 74,
   "metadata": {},
   "outputs": [],
   "source": [
    "is_this_empty = [\"\", \"\", \"\"]\n",
    "how_about_this = [[]]"
   ]
  },
  {
   "cell_type": "code",
   "execution_count": 75,
   "metadata": {},
   "outputs": [
    {
     "name": "stdout",
     "output_type": "stream",
     "text": [
      "Not empty!\n"
     ]
    }
   ],
   "source": [
    "if is_this_empty:\n",
    "    print(\"Not empty!\")\n",
    "else:\n",
    "    print(\"Yes that's empty.\")"
   ]
  },
  {
   "cell_type": "code",
   "execution_count": 78,
   "metadata": {},
   "outputs": [
    {
     "name": "stdout",
     "output_type": "stream",
     "text": [
      "Treated as True\n"
     ]
    }
   ],
   "source": [
    "if how_about_this:\n",
    "    print(\"Treated as True\")\n",
    "else:\n",
    "    print(\"Treated as False\")"
   ]
  },
  {
   "cell_type": "markdown",
   "metadata": {},
   "source": [
    "## Review - Looping"
   ]
  },
  {
   "cell_type": "markdown",
   "metadata": {
    "slideshow": {
     "slide_type": "subslide"
    }
   },
   "source": [
    "## Two Kinds of Loops in Python\n",
    "* __`while`__ loops (\"do something until a condition becomes false\")\n",
    "* __`for`__ loops (\"do something a certain number of times\")"
   ]
  },
  {
   "cell_type": "markdown",
   "metadata": {
    "slideshow": {
     "slide_type": "subslide"
    }
   },
   "source": [
    "# `while` loop example"
   ]
  },
  {
   "cell_type": "code",
   "execution_count": 82,
   "metadata": {
    "slideshow": {
     "slide_type": "-"
    }
   },
   "outputs": [
    {
     "name": "stdout",
     "output_type": "stream",
     "text": [
      "Pick a secret number 1 to 100:97\n",
      "I'll try to guess your number!\n",
      "Your number is not 12, guessing again.\n",
      "Your number is not 57, guessing again.\n",
      "Your number is not 1, guessing again.\n",
      "Your number is not 39, guessing again.\n",
      "Your number is not 8, guessing again.\n",
      "Your number is not 47, guessing again.\n",
      "Your number is not 17, guessing again.\n",
      "Your number is not 99, guessing again.\n",
      "Your number is not 80, guessing again.\n",
      "Your number is not 16, guessing again.\n",
      "Your number is not 36, guessing again.\n",
      "Your number is not 52, guessing again.\n",
      "Your number is not 11, guessing again.\n",
      "Your number is not 68, guessing again.\n",
      "Your number is not 66, guessing again.\n",
      "Your number is not 35, guessing again.\n",
      "Your number is not 58, guessing again.\n",
      "Your number is not 48, guessing again.\n",
      "Your number is not 24, guessing again.\n",
      "Your number is not 74, guessing again.\n",
      "Your number is not 54, guessing again.\n"
     ]
    }
   ],
   "source": [
    "import random # batteries included\n",
    "\n",
    "secret = int(input(\"Pick a secret number 1 to 100:\"))\n",
    "guess = random.randint(1, 100)\n",
    "guess_count = 0\n",
    "print(\"I'll try to guess your number!\")\n",
    "\n",
    "# loop until...?\n",
    "while guess != secret:\n",
    "    print(f\"Your number is not {guess}, guessing again.\")\n",
    "    guess = random.randint(1, 100)\n",
    "    guess_count += 1\n",
    "    if guess_count > 20:\n",
    "        break\n",
    "else:\n",
    "    print(f\"I got it! Your number was {guess}\")\n",
    "    print(f\"That only took me {guess_count} tries...\")"
   ]
  },
  {
   "cell_type": "markdown",
   "metadata": {
    "slideshow": {
     "slide_type": "subslide"
    }
   },
   "source": [
    "## `for` loop example\n",
    "* typically used to cycle through an _iterable_ (string, list, and others we haven't learned yet) one element at a time"
   ]
  },
  {
   "cell_type": "code",
   "execution_count": null,
   "metadata": {},
   "outputs": [],
   "source": []
  },
  {
   "cell_type": "code",
   "execution_count": 83,
   "metadata": {},
   "outputs": [
    {
     "name": "stdout",
     "output_type": "stream",
     "text": [
      "P\n",
      "y\n",
      "t\n",
      "h\n",
      "o\n",
      "n\n"
     ]
    }
   ],
   "source": [
    "for letter in 'Python':\n",
    "    print(letter)"
   ]
  },
  {
   "cell_type": "markdown",
   "metadata": {
    "slideshow": {
     "slide_type": "subslide"
    }
   },
   "source": [
    "## Sequences are also Iterable\n"
   ]
  },
  {
   "cell_type": "code",
   "execution_count": 86,
   "metadata": {},
   "outputs": [
    {
     "name": "stdout",
     "output_type": "stream",
     "text": [
      "1 2 3 4 5 6 7 8 9 "
     ]
    }
   ],
   "source": [
    "for num in range(1, 10):\n",
    "    print(num, end=' ')"
   ]
  },
  {
   "cell_type": "markdown",
   "metadata": {},
   "source": [
    "* __`range()`__ is an immutable sequence of numbers in Python 3, \n",
    " * was a function which created a list in Python 2\n",
    " * now does what __`xrange()`__ used to do in Python 2"
   ]
  },
  {
   "cell_type": "code",
   "execution_count": 87,
   "metadata": {
    "scrolled": true,
    "slideshow": {
     "slide_type": "subslide"
    }
   },
   "outputs": [
    {
     "name": "stdout",
     "output_type": "stream",
     "text": [
      "100 98 96 94 92 90 88 86 84 82 80 78 76 74 72 70 68 66 64 62 60 58 56 54 52 50 48 46 44 42 40 38 36 34 32 30 28 26 24 22 20 18 16 14 12 10 8 6 4 2 0 "
     ]
    }
   ],
   "source": [
    "for num in range(100, -1, -2):\n",
    "    print(num, end=' ') "
   ]
  },
  {
   "cell_type": "markdown",
   "metadata": {},
   "source": [
    "## `continue` statement skips rest of loop\n",
    "* never strictly *necessary* – any code written with a __`continue`__ statement can be written without\n",
    "* Sometimes makes code easier to read, though"
   ]
  },
  {
   "cell_type": "code",
   "execution_count": 88,
   "metadata": {},
   "outputs": [
    {
     "name": "stdout",
     "output_type": "stream",
     "text": [
      "-0.2 -0.25 -0.3333333333333333 -0.5 -1.0 1.0 0.5 0.3333333333333333 0.25 "
     ]
    }
   ],
   "source": [
    "for num in range(-5, 5):\n",
    "    if num == 0:\n",
    "        continue\n",
    "    print(1 / num, end=' ')"
   ]
  },
  {
   "cell_type": "code",
   "execution_count": 89,
   "metadata": {},
   "outputs": [
    {
     "name": "stdout",
     "output_type": "stream",
     "text": [
      "-0.2 -0.25 -0.3333333333333333 -0.5 -1.0 1.0 0.5 0.3333333333333333 0.25 "
     ]
    }
   ],
   "source": [
    "for num in range(-5, 5):\n",
    "    if num != 0:\n",
    "        print(1 / num, end=' ')"
   ]
  },
  {
   "cell_type": "markdown",
   "metadata": {
    "slideshow": {
     "slide_type": "subslide"
    }
   },
   "source": [
    "## Loops: Recap\n",
    "* __`for`__ loop is more common\n",
    "* __`break`__ exits loop immediately\n",
    "* __`continue`__ skips remainder of loop and starts next iteration\n",
    "* __`else`__ is executed if loop terminates normally (i.e., no __`break`__)"
   ]
  },
  {
   "cell_type": "markdown",
   "metadata": {
    "slideshow": {
     "slide_type": "subslide"
    }
   },
   "source": [
    "## Review - Slicing\n",
    "* __`[start:end:step]`__\n",
    "* Works on *sequences*, including strings and lists\n",
    "* Always gives you a new sequence (though it might be empty)\n",
    "* Includes the element at __`start`__ but EXCLUDES the element at __`end`__\n",
    "* Each of the positions is optional!"
   ]
  },
  {
   "cell_type": "code",
   "execution_count": 90,
   "metadata": {},
   "outputs": [],
   "source": [
    "alphabet = 'abcdefghijklmnopqrstuvwxyz'"
   ]
  },
  {
   "cell_type": "code",
   "execution_count": 91,
   "metadata": {},
   "outputs": [
    {
     "data": {
      "text/plain": [
       "'klmno'"
      ]
     },
     "execution_count": 91,
     "metadata": {},
     "output_type": "execute_result"
    }
   ],
   "source": [
    "alphabet[10:15]"
   ]
  },
  {
   "cell_type": "code",
   "execution_count": 92,
   "metadata": {},
   "outputs": [
    {
     "data": {
      "text/plain": [
       "'xyz'"
      ]
     },
     "execution_count": 92,
     "metadata": {},
     "output_type": "execute_result"
    }
   ],
   "source": [
    "alphabet[23:]"
   ]
  },
  {
   "cell_type": "code",
   "execution_count": 93,
   "metadata": {},
   "outputs": [
    {
     "data": {
      "text/plain": [
       "'abcde'"
      ]
     },
     "execution_count": 93,
     "metadata": {},
     "output_type": "execute_result"
    }
   ],
   "source": [
    "alphabet[:5]"
   ]
  },
  {
   "cell_type": "code",
   "execution_count": 94,
   "metadata": {},
   "outputs": [
    {
     "data": {
      "text/plain": [
       "'dgjmpsv'"
      ]
     },
     "execution_count": 94,
     "metadata": {},
     "output_type": "execute_result"
    }
   ],
   "source": [
    "alphabet[3:23:3]"
   ]
  },
  {
   "cell_type": "code",
   "execution_count": 95,
   "metadata": {},
   "outputs": [
    {
     "data": {
      "text/plain": [
       "'zyxwvutsrqponmlkjihgfedcba'"
      ]
     },
     "execution_count": 95,
     "metadata": {},
     "output_type": "execute_result"
    }
   ],
   "source": [
    "alphabet[::-1]"
   ]
  },
  {
   "cell_type": "code",
   "execution_count": 96,
   "metadata": {},
   "outputs": [
    {
     "data": {
      "text/plain": [
       "'xyz'"
      ]
     },
     "execution_count": 96,
     "metadata": {},
     "output_type": "execute_result"
    }
   ],
   "source": [
    "alphabet[-3:]"
   ]
  },
  {
   "cell_type": "markdown",
   "metadata": {},
   "source": [
    "## Now Let's Dive Deeper!"
   ]
  }
 ],
 "metadata": {
  "celltoolbar": "Slideshow",
  "kernelspec": {
   "display_name": "Python 3",
   "language": "python",
   "name": "python3"
  },
  "language_info": {
   "codemirror_mode": {
    "name": "ipython",
    "version": 3
   },
   "file_extension": ".py",
   "mimetype": "text/x-python",
   "name": "python",
   "nbconvert_exporter": "python",
   "pygments_lexer": "ipython3",
   "version": "3.7.10"
  }
 },
 "nbformat": 4,
 "nbformat_minor": 4
}
