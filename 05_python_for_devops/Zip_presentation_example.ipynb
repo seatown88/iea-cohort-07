{
 "cells": [
  {
   "cell_type": "markdown",
   "metadata": {},
   "source": [
    "# Zip"
   ]
  },
  {
   "cell_type": "markdown",
   "metadata": {},
   "source": [
    "- create a list of strings containing names, along with their associated ages & professions\n",
    "- display the results as output to the terminal\n",
    "\n",
    "# output should display tuples which combining everything respectively"
   ]
  },
  {
   "cell_type": "code",
   "execution_count": 1,
   "metadata": {},
   "outputs": [
    {
     "name": "stdout",
     "output_type": "stream",
     "text": [
      "[('james', 36, 'HR_rep'), ('jason', 29, 'software_developer'), ('matt', 17, 'hacker'), ('paul', 63, 'retired')]\n"
     ]
    }
   ],
   "source": [
    "names = ['james', 'jason', 'matt', 'paul']\n",
    "ages = [36, 29, 17, 63]\n",
    "professions = ['HR_rep', 'software_developer', 'hacker', 'retired']\n",
    "\n",
    "print(list(zip(names, ages, professions)))"
   ]
  },
  {
   "cell_type": "markdown",
   "metadata": {},
   "source": [
    "- determine what the outcome of print will show by removing a variable entry from the print list statement\n",
    "# output will display the remaining two associations for the names list"
   ]
  },
  {
   "cell_type": "code",
   "execution_count": 2,
   "metadata": {},
   "outputs": [
    {
     "name": "stdout",
     "output_type": "stream",
     "text": [
      "[('james', 'HR_rep'), ('jason', 'software_developer'), ('matt', 'hacker'), ('paul', 'retired')]\n"
     ]
    }
   ],
   "source": [
    "names = ['james', 'jason', 'matt', 'paul']\n",
    "ages = [36, 29, 17, 63]\n",
    "profession = ['HR_rep', 'software_developer', 'hacker', 'retired']\n",
    "\n",
    "print(list(zip(names, profession)))"
   ]
  },
  {
   "cell_type": "markdown",
   "metadata": {},
   "source": [
    "- what happens if you have an extra string element at the end of the ages list?\n",
    "# nothing - it is skipped or ignored"
   ]
  },
  {
   "cell_type": "code",
   "execution_count": 3,
   "metadata": {},
   "outputs": [
    {
     "name": "stdout",
     "output_type": "stream",
     "text": [
      "[('james', 36, 'HR_rep'), ('jason', 29, 'software_developer'), ('matt', 17, 'hacker'), ('paul', 63, 'retired')]\n"
     ]
    }
   ],
   "source": [
    "names = ['james', 'jason', 'matt', 'paul']\n",
    "ages = [36, 29, 17, 63, 99]\n",
    "professions = ['HR_rep', 'software_developer', 'hacker', 'retired']\n",
    "\n",
    "print(list(zip(names, ages, professions)))"
   ]
  },
  {
   "cell_type": "markdown",
   "metadata": {},
   "source": [
    "- use case\n",
    "- looping through a zip of lists vs looping through them using the index to access the elements"
   ]
  },
  {
   "cell_type": "code",
   "execution_count": 4,
   "metadata": {},
   "outputs": [
    {
     "name": "stdout",
     "output_type": "stream",
     "text": [
      "james HR_rep\n",
      "paul retired\n"
     ]
    }
   ],
   "source": [
    "names = ['james', 'jason', 'matt', 'paul']\n",
    "ages = [36, 29, 17, 63]\n",
    "professions = ['HR_rep', 'software_developer', 'hacker', 'retired']\n",
    "\n",
    "for name, age, professions in zip(names, ages, professions):\n",
    "    if age > 30:\n",
    "        print(name, professions)\n",
    "\n"
   ]
  },
  {
   "cell_type": "code",
   "execution_count": null,
   "metadata": {},
   "outputs": [],
   "source": []
  }
 ],
 "metadata": {
  "kernelspec": {
   "display_name": "Python 3",
   "language": "python",
   "name": "python3"
  },
  "language_info": {
   "codemirror_mode": {
    "name": "ipython",
    "version": 3
   },
   "file_extension": ".py",
   "mimetype": "text/x-python",
   "name": "python",
   "nbconvert_exporter": "python",
   "pygments_lexer": "ipython3",
   "version": "3.7.10"
  }
 },
 "nbformat": 4,
 "nbformat_minor": 5
}
