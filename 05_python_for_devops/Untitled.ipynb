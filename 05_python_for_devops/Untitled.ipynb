{
 "cells": [
  {
   "cell_type": "code",
   "execution_count": 7,
   "metadata": {},
   "outputs": [
    {
     "name": "stdout",
     "output_type": "stream",
     "text": [
      "111 3\n",
      "222 3\n",
      "3 1\n",
      "4444 4\n"
     ]
    }
   ],
   "source": [
    "numbers = \"11122234444\"\n",
    "\n",
    "current = numbers[0]\n",
    "run = ''\n",
    "for n in numbers:\n",
    "    if n == current:\n",
    "        run += n\n",
    "    else:\n",
    "        print(run, len(run))\n",
    "        current = n\n",
    "        run = n\n",
    "print(run, len(run))\n",
    "        "
   ]
  },
  {
   "cell_type": "code",
   "execution_count": null,
   "metadata": {},
   "outputs": [],
   "source": [
    "{\n",
    "    \"1\": 3\n",
    "}"
   ]
  }
 ],
 "metadata": {
  "kernelspec": {
   "display_name": "Python 3",
   "language": "python",
   "name": "python3"
  },
  "language_info": {
   "codemirror_mode": {
    "name": "ipython",
    "version": 3
   },
   "file_extension": ".py",
   "mimetype": "text/x-python",
   "name": "python",
   "nbconvert_exporter": "python",
   "pygments_lexer": "ipython3",
   "version": "3.7.10"
  }
 },
 "nbformat": 4,
 "nbformat_minor": 2
}
