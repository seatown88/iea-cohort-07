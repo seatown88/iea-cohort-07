{
 "cells": [
  {
   "cell_type": "markdown",
   "metadata": {},
   "source": [
    "# The Python Ecosystem - Packages, tools, distributions"
   ]
  },
  {
   "cell_type": "markdown",
   "metadata": {},
   "source": [
    "## The Python Package Index\n",
    "* https://pypi.python.org\n",
    "* Online repository of packages submitted by the community\n",
    "* Buyer Beware!\n",
    "* Organizations can set up their own internal mirror of the index https://packaging.python.org/en/latest/guides/hosting-your-own-index/"
   ]
  },
  {
   "cell_type": "markdown",
   "metadata": {},
   "source": [
    "## Installing Python Packages\n",
    "The `pip` tool is the most common way to install Python packages.  It's easy to install if not already pre-installed with your Python installation, and easy to use.  It has a lot of capability for installing from different locations, but by default installs from the Python Package Index"
   ]
  },
  {
   "cell_type": "code",
   "execution_count": null,
   "metadata": {},
   "outputs": [],
   "source": [
    "%%bash\n",
    "# Install the \"requests\" package (latest version)\n",
    "pip install requests"
   ]
  },
  {
   "cell_type": "markdown",
   "metadata": {},
   "source": [
    "### Pip Defaults to:\n",
    "- Installing packages from the Python Package Index\n",
    "- Installing package to your system-wide Python directory (if root)\n",
    "- Installing packages for the version of Python pip was installed with"
   ]
  },
  {
   "cell_type": "code",
   "execution_count": null,
   "metadata": {},
   "outputs": [],
   "source": [
    "%%bash\n",
    "# Install the \"requests\" package into your own home directory (in a .local directory by default)\n",
    "pip install --user requests"
   ]
  },
  {
   "cell_type": "code",
   "execution_count": null,
   "metadata": {},
   "outputs": [],
   "source": [
    "%%bash\n",
    "# \"Downgrade\" requests to a specific version\n",
    "pip install --upgrade --user requests==2.24.0"
   ]
  },
  {
   "cell_type": "code",
   "execution_count": null,
   "metadata": {},
   "outputs": [],
   "source": [
    "%%bash\n",
    "# Remove requests package\n",
    "pip remove --user requests"
   ]
  },
  {
   "cell_type": "code",
   "execution_count": null,
   "metadata": {},
   "outputs": [],
   "source": [
    "%%bash\n",
    "# Ensure you're installing for a specific version of Python (3.7 in this case)\n",
    "python3.7 -m pip install --user requests==2.25.1"
   ]
  },
  {
   "cell_type": "markdown",
   "metadata": {},
   "source": [
    "### Pip can specify versions in a lot of ways\n",
    "* Minimums:  requests>=2.25\n",
    "* Maximums:  requests<3.0\n",
    "* Ranges:    requests>=2.0,<=3.0\n",
    "* Specific version:  requests==2.25.1\n",
    "\n",
    "There are several combinations of these available.  Pip follows a PEP standard way of specifying version numbers, found here:  https://www.python.org/dev/peps/pep-0440/#version-specifiers"
   ]
  },
  {
   "cell_type": "markdown",
   "metadata": {},
   "source": [
    "### What if you need multiple packages?  With specific versions of some?\n",
    "pip can accept multiple packages (as many as you like) for the install command"
   ]
  },
  {
   "cell_type": "code",
   "execution_count": null,
   "metadata": {},
   "outputs": [],
   "source": [
    "%%bash\n",
    "pip install --user requests>=2.25 pytest==6.2.3 pytest-mock==3.5.1 dateutil"
   ]
  },
  {
   "cell_type": "markdown",
   "metadata": {},
   "source": [
    "### That works well, but imagine your project now has 10 dependencies... or 20... or 30\n",
    "Specifying and installing packages manually for every project, or every new machine you want to use a project on is tedious and error prone.  There's got to be a better way!"
   ]
  },
  {
   "cell_type": "markdown",
   "metadata": {},
   "source": [
    "### requirements.txt - The Better Way\n",
    "The requirements.txt file is a simple way to specify the requirements of your projects so they can be easily reproduced by whomever is using your package on any machine where you want to run it.\n",
    "The file is simply a list of the packages to install, one per line, with version specifiers the same way pip uses them."
   ]
  },
  {
   "cell_type": "code",
   "execution_count": null,
   "metadata": {},
   "outputs": [],
   "source": [
    "!cat requirements.txt"
   ]
  },
  {
   "cell_type": "code",
   "execution_count": null,
   "metadata": {},
   "outputs": [],
   "source": [
    "%%bash\n",
    "# Install all requirements from a requirements.txt file \n",
    "# NOTE: It doesn't actually have to be named \"requirements.txt\"\n",
    "pip install --user -r requirements.txt"
   ]
  },
  {
   "cell_type": "code",
   "execution_count": null,
   "metadata": {},
   "outputs": [],
   "source": [
    "%%bash\n",
    "# Didn't start with a requirements.txt, but you need one now?  No problem!\n",
    "# List off packages, with versions, that have been installed.\n",
    "pip freeze"
   ]
  },
  {
   "cell_type": "code",
   "execution_count": null,
   "metadata": {},
   "outputs": [],
   "source": [
    "%%bash\n",
    "# Use it to generate your requirements.txt\n",
    "pip freeze > requirements-captured.txt\n",
    "cat requirements-captured.txt"
   ]
  },
  {
   "cell_type": "markdown",
   "metadata": {},
   "source": [
    "### A note about pip freeze...\n",
    "This will pin every version by default, and show sub-dependencies, so you may need to edit and clean up a bit!  Try to capture just your project's DIRECT dependencies and let pip do the rest"
   ]
  },
  {
   "cell_type": "markdown",
   "metadata": {},
   "source": [
    "### Why pin versions at all?\n",
    "- Ensure different developers are working on the same packages\n",
    "- No surprises if a package drops support for your Python version or removes a feature\n",
    "- Deterministic Builds\n",
    "- Also, Deterministic Builds\n",
    "- Did I mention Deterministic Builds?"
   ]
  },
  {
   "cell_type": "markdown",
   "metadata": {},
   "source": [
    "### Versioning and Packages\n",
    "- **Semantic Versioning**\n",
    "    - Versions specified as MAJOR.MINOR.PATCH (and occasionally a fourth value for a build number)\n",
    "    - Each \"segment\" is independent and increases independently\n",
    "    - **Major** version increment indicates large, possibly backward-incompatible changes (Python 2.7 -> 3.6)\n",
    "    - **Minor** version increment indicates smaller changes, usually backward compatible. (Python 3.6 -> Python 3.7)\n",
    "    - **Patch** version increment indicates bug fixes, security updates, etc. - no functional changes\n",
    "    - Most Python packages are versioned this way\n",
    "    - https://semver.org/\n",
    "- **Calendar Versioning**\n",
    "    - Version numbers are based on a release schedule (usually year and month)\n",
    "    - Ex. Ubuntu 20.04 ->  Released in April, 2020\n",
    "    - No indication of what is contained in the version (but nothing misleading either!)\n",
    "    - https://calver.org/"
   ]
  },
  {
   "cell_type": "markdown",
   "metadata": {},
   "source": [
    "## Alternatives to pip\n",
    "- **pipenv** - Attempts to remove the problem of dependency conflicts in pip\n",
    "- **poetry** - Designed primarily to handle dependies for publishing packages\n",
    "- **conda** - Basically pip, but for the Anaconda Python Distribution"
   ]
  },
  {
   "cell_type": "markdown",
   "metadata": {},
   "source": [
    "### So now you've got dependencies handled for your project...\n",
    "### But what happens when you set up the next one?"
   ]
  },
  {
   "cell_type": "markdown",
   "metadata": {},
   "source": [
    "## Dependency Hell\n",
    "![Tech Loops](images/tech_loops_2x.png)"
   ]
  },
  {
   "cell_type": "markdown",
   "metadata": {},
   "source": [
    "## Enter Virtualenv - isolated dependencies for Python projects\n",
    "- Virtualenv (\"virtual environment\") is a Python package\n",
    "- Distributed as the \"venv\" module in modern Python versions\n",
    "- Uses environment settings, paths, and a few other \"tricks\" to isolate a project from the system, and from each other!\n",
    "- Despite the name, NOT a virtual machine or emulation layer"
   ]
  },
  {
   "cell_type": "code",
   "execution_count": null,
   "metadata": {},
   "outputs": [],
   "source": [
    "%%bash\n",
    "# Create a new virtualenv\n",
    "python3 -m venv myproject"
   ]
  },
  {
   "cell_type": "code",
   "execution_count": null,
   "metadata": {},
   "outputs": [],
   "source": [
    "%%bash\n",
    "# Take a peek in the virtualenv\n",
    "ls -al myproject"
   ]
  },
  {
   "cell_type": "code",
   "execution_count": null,
   "metadata": {},
   "outputs": [],
   "source": [
    "%%bash\n",
    "# What was installed that we can now use?\n",
    "ls -al myproject/bin"
   ]
  },
  {
   "cell_type": "code",
   "execution_count": null,
   "metadata": {},
   "outputs": [],
   "source": [
    "%%bash\n",
    "# Activate the virtualenv and then check which Python we're using\n",
    "source myproject/bin/activate\n",
    "echo \"Show Python Path\"\n",
    "which python\n",
    "python --version\n",
    "source deactivate"
   ]
  },
  {
   "cell_type": "code",
   "execution_count": null,
   "metadata": {},
   "outputs": [],
   "source": [
    "%%bash\n",
    "# Install things in JUST the virtual environment (not system wide)\n",
    "source myproject/bin/activate\n",
    "python -m pip install requests pytest python-dateutil\n",
    "echo \"Inside the virtualenv\"\n",
    "python -m pip freeze\n",
    "source deactivate"
   ]
  },
  {
   "cell_type": "code",
   "execution_count": null,
   "metadata": {},
   "outputs": [],
   "source": [
    "%%bash\n",
    "echo \"Outside the virtualenv\"\n",
    "python -m pip freeze"
   ]
  },
  {
   "cell_type": "markdown",
   "metadata": {},
   "source": [
    "### Virtualenv has a lot of options\n",
    "- Specify the Python version in the virtualenv\n",
    "- Specify the directory to create the virtualenv\n",
    "- Whether or not to install pip by default"
   ]
  },
  {
   "cell_type": "code",
   "execution_count": null,
   "metadata": {},
   "outputs": [],
   "source": [
    "!python3 -m venv --help"
   ]
  },
  {
   "cell_type": "code",
   "execution_count": null,
   "metadata": {},
   "outputs": [],
   "source": [
    "### If you don't need it anymore, just delete it!\n",
    "### Virtualenvs are just directories, nothing magical\n",
    "!rm -rf ./myproject"
   ]
  },
  {
   "cell_type": "markdown",
   "metadata": {},
   "source": [
    "## Lab: Setting up a new Python project\n",
    "Create a new Python project and install some dependencies to get started.\n",
    "* Create a new directory for your project (choose any name you like) and create a virtualenv named `venv` inside it.  Make sure you set it up with Python 3!\n",
    "* Activate and install the following packages in your virtualenv:  \n",
    "    * `requests`\n",
    "    * `black`\n",
    "    * `pytest`\n",
    "* Use pip to generate a `requirements.txt` file for your project\n",
    "* BONUS:  Figure out what you should add to your `.gitignore` file if you wanted to put this new project into git, but exclude the virtualenv."
   ]
  },
  {
   "cell_type": "markdown",
   "metadata": {},
   "source": [
    "## Digging Deeper - More tools to explore"
   ]
  },
  {
   "cell_type": "markdown",
   "metadata": {},
   "source": [
    "### setuptools - Python tools for building and distributing packages\n",
    "- Provides standard configuration files to specify project names, version, dependencies, etc.\n",
    "- Allows on-installation scripts to run if your package needs to be setup\n",
    "- Well established and supported by the Python community:  \n",
    "- https://setuptools.readthedocs.io/en/latest/"
   ]
  },
  {
   "cell_type": "markdown",
   "metadata": {},
   "source": [
    "### virtualenvwrapper - A set of scripts for managing multiple virtual environments on a system\n",
    "- Easily set up new virtualenvs for projects in a single, well-defined directory\n",
    "- Tools to easily switch projects by changing directories and activating virtualenvs for you\n",
    "- List off existing virtualenvs, remove them, etc.\n",
    "- https://virtualenvwrapper.readthedocs.io/en/latest/index.html"
   ]
  },
  {
   "cell_type": "markdown",
   "metadata": {},
   "source": [
    "## Best Practices for avoiding Dependency Hell\n",
    "- When you start a new project, or clone an existing one for the first time, set up a virtualenv\n",
    "- Only install dependencies to the system that will be used everywhere (like virtualenv itself, or pip)\n",
    "- Always run your project in a virtualenv, even if it's the only tool on the system\n",
    "- Use tools to upgrade your dependencies in development, but always pin for deployments!\n",
    "- Be explicit in your project about which versions of Python you support, and which versions of packages, so everyone can set up their environment correctly.\n",
    "- Need different dependencies for dev/test vs. prod?  Make multiple requirements.txt files and multiple virtualenvs!"
   ]
  },
  {
   "cell_type": "code",
   "execution_count": null,
   "metadata": {},
   "outputs": [],
   "source": []
  }
 ],
 "metadata": {
  "celltoolbar": "Slideshow",
  "kernelspec": {
   "display_name": "Python 3",
   "language": "python",
   "name": "python3"
  },
  "language_info": {
   "codemirror_mode": {
    "name": "ipython",
    "version": 3
   },
   "file_extension": ".py",
   "mimetype": "text/x-python",
   "name": "python",
   "nbconvert_exporter": "python",
   "pygments_lexer": "ipython3",
   "version": "3.7.10"
  }
 },
 "nbformat": 4,
 "nbformat_minor": 5
}
